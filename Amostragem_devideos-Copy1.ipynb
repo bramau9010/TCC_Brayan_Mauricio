{
 "cells": [
  {
   "cell_type": "markdown",
   "metadata": {
    "id": "8KpUwors_LUi"
   },
   "source": [
    "# Credentials"
   ]
  },
  {
   "cell_type": "code",
   "execution_count": 1,
   "metadata": {
    "executionInfo": {
     "elapsed": 11,
     "status": "ok",
     "timestamp": 1670178169001,
     "user": {
      "displayName": "Brayan Mauricio Rodríguez Garzónn",
      "userId": "05435019562705070299"
     },
     "user_tz": 180
    },
    "id": "wCpf1WzdjeRw"
   },
   "outputs": [],
   "source": [
    "from googleapiclient.discovery import build\n",
    "\n",
    "#Credential from  project Baryan Mauricio \n",
    "\n",
    "# foi mecessario criar varias chavez de YouTube, pois a quantidade de informação requisitada\n",
    "#diariamente neste projeto exdia a permitida para um usuario de não pago na  plataforma \n",
    "#googlecloud\n",
    "\n",
    "youTubeApiKey='Coloque aqui sua chave 1'\n",
    "youtube=build('youtube','v3',developerKey=youTubeApiKey)\n",
    "\n",
    "#credential from project my first project id Methodological \n",
    "\n",
    "youTubeApiKey_um='Coloque aqui sua chave 2'\n",
    "youtube_um=build('youtube','v3',developerKey=youTubeApiKey_um)\n",
    "\n",
    "\n",
    "#credential from project my first project 4615\n",
    "\n",
    "youTubeApiKey_dos='Coloque aqui sua chave 3'\n",
    "youtube_dos=build('youtube','v3',developerKey=youTubeApiKey_dos)\n",
    "\n",
    "#credential from my first project\n",
    "\n",
    "youTubeApiKey_tres='Coloque aqui sua chave 4'\n",
    "youtube_tres=build('youtube','v3',developerKey=youTubeApiKey_tres)\n",
    "\n",
    "#credential from my project cinco\n",
    "\n",
    "youTubeApiKey_quatro='Coloque aqui sua chave 5'\n",
    "youtube_quatro=build('youtube','v3',developerKey=youTubeApiKey_quatro)\n",
    "\n",
    "\n",
    "\n",
    "\n",
    "\n"
   ]
  },
  {
   "cell_type": "markdown",
   "metadata": {
    "id": "o6YNhVjTfGdV"
   },
   "source": [
    "# Montando o Drive"
   ]
  },
  {
   "cell_type": "code",
   "execution_count": 2,
   "metadata": {
    "executionInfo": {
     "elapsed": 429,
     "status": "ok",
     "timestamp": 1670178625483,
     "user": {
      "displayName": "Brayan Mauricio Rodríguez Garzónn",
      "userId": "05435019562705070299"
     },
     "user_tz": 180
    },
    "id": "NFRRmf4LfLcT"
   },
   "outputs": [],
   "source": [
    "link='/content/drive/MyDrive/MyCopy/You_tube_database/archive/'"
   ]
  },
  {
   "cell_type": "code",
   "execution_count": 3,
   "metadata": {
    "colab": {
     "base_uri": "https://localhost:8080/"
    },
    "executionInfo": {
     "elapsed": 23300,
     "status": "ok",
     "timestamp": 1670178651646,
     "user": {
      "displayName": "Brayan Mauricio Rodríguez Garzónn",
      "userId": "05435019562705070299"
     },
     "user_tz": 180
    },
    "id": "-57f9E1kfMSC",
    "outputId": "36a92c00-5113-403a-a479-0c39f486ed7e"
   },
   "outputs": [
    {
     "name": "stdout",
     "output_type": "stream",
     "text": [
      "Mounted at /content/drive\n"
     ]
    }
   ],
   "source": [
    "from google.colab import drive\n",
    "drive.mount('/content/drive')"
   ]
  },
  {
   "cell_type": "markdown",
   "metadata": {
    "id": "ON-r1M3m0tJP"
   },
   "source": [
    "## Un video"
   ]
  },
  {
   "cell_type": "code",
   "execution_count": null,
   "metadata": {
    "id": "eCEVjOV4nURG"
   },
   "outputs": [],
   "source": [
    "#Copiado do notebook Queryapi\n",
    "request = youtube_quatro.videos().list(\n",
    "          part=\"id, snippet, contentDetails, player, recordingDetails, statistics, status, topicDetails\",\n",
    "          id='QHa1vbwVaNU'\n",
    "      )\n",
    "# fileDetails ,, ,suggestions,\n",
    "response = request.execute()"
   ]
  },
  {
   "cell_type": "code",
   "execution_count": null,
   "metadata": {
    "colab": {
     "base_uri": "https://localhost:8080/"
    },
    "executionInfo": {
     "elapsed": 63,
     "status": "ok",
     "timestamp": 1662831849139,
     "user": {
      "displayName": "Brayan Mauricio Rodríguez Garzónn",
      "userId": "05435019562705070299"
     },
     "user_tz": 180
    },
    "id": "eWnYw-yifgFk",
    "outputId": "620dfef7-f671-45b5-94ff-20f60f7c4840"
   },
   "outputs": [
    {
     "data": {
      "text/plain": [
       "{'kind': 'youtube#videoListResponse',\n",
       " 'etag': 'nuTx0ui_7tQazmrC0Z6yTeWryog',\n",
       " 'items': [{'kind': 'youtube#video',\n",
       "   'etag': 'mMsfT5i8FiFKhLDUqW1XAiseGJw',\n",
       "   'id': 'QHa1vbwVaNU',\n",
       "   'snippet': {'publishedAt': '2022-09-10T12:00:28Z',\n",
       "    'channelId': 'UC1yNl2E66ZzKApQdRuTQ4tw',\n",
       "    'title': 'The Multiverse: Science, Religion, or Pseudoscience?',\n",
       "    'description': '🌎 Get our exclusive NordVPN deal here ➡️ https://NordVPN.com/sabine It\\'s risk-free with Nord\\'s 30-day money-back guarantee!\\n\\nWhy do physicists think that our universe isn\\'t the only one? And should you believe them? In this video, I explain what the multiverse is and what the problem is with it. I have talked about this before but in hindsight I think I made it too confusing. This is my new and hopefully improved attempt to summarize the important points.\\n\\nCorrection: At 5 minutes 20 seconds, the text on screen says \"Enternal Inflation\" -- that should have been \"Eternal Inflation\"! Sorry about that!\\n\\n💌 Sign up for my weekly science newsletter. It\\'s free!  ➜ http://sabinehossenfelder.com/\\n👉 Support me on Patreon ➜ https://www.patreon.com/Sabine\\n📖 My new book \"Existential Physics\" is now on sale ➜ http://existentialphysics.com/\\n🔗 Join this channel to get access to perks ➜ \\nhttps://www.youtube.com/channel/UC1yNl2E66ZzKApQdRuTQ4tw/join\\n\\n00:00 Intro\\n00:24 What is a Multiverse?\\n01:41 The Many Worlds Interpretation\\n04:33 Eternal Inflation\\n06:00 The String Theory Landscape\\n07:35 The Problem with the Multiverse\\n10:28 Answers to the Usual Objections\\n15:03 Conclusion\\n15:30 Sponsor Message\\n\\n#physics #philosophy #universe',\n",
       "    'thumbnails': {'default': {'url': 'https://i.ytimg.com/vi/QHa1vbwVaNU/default.jpg',\n",
       "      'width': 120,\n",
       "      'height': 90},\n",
       "     'medium': {'url': 'https://i.ytimg.com/vi/QHa1vbwVaNU/mqdefault.jpg',\n",
       "      'width': 320,\n",
       "      'height': 180},\n",
       "     'high': {'url': 'https://i.ytimg.com/vi/QHa1vbwVaNU/hqdefault.jpg',\n",
       "      'width': 480,\n",
       "      'height': 360},\n",
       "     'standard': {'url': 'https://i.ytimg.com/vi/QHa1vbwVaNU/sddefault.jpg',\n",
       "      'width': 640,\n",
       "      'height': 480},\n",
       "     'maxres': {'url': 'https://i.ytimg.com/vi/QHa1vbwVaNU/maxresdefault.jpg',\n",
       "      'width': 1280,\n",
       "      'height': 720}},\n",
       "    'channelTitle': 'Sabine Hossenfelder',\n",
       "    'tags': ['pseudoscience',\n",
       "     'multiverse',\n",
       "     'is the multiverse science',\n",
       "     'is the multiverse real',\n",
       "     'do other universes exist',\n",
       "     'is the multiverse religion',\n",
       "     'pseudoscience examples',\n",
       "     'what is pseudoscience',\n",
       "     'multiverse hypothesis',\n",
       "     'universe',\n",
       "     'cosmology',\n",
       "     'string theory',\n",
       "     'string theory landscape',\n",
       "     'eternal inflation',\n",
       "     'beginning of universe',\n",
       "     'hossenfelder',\n",
       "     'what is the multiverse',\n",
       "     'science without the gobbledygook'],\n",
       "    'categoryId': '28',\n",
       "    'liveBroadcastContent': 'none',\n",
       "    'defaultLanguage': 'en',\n",
       "    'localized': {'title': 'The Multiverse: Science, Religion, or Pseudoscience?',\n",
       "     'description': '🌎 Get our exclusive NordVPN deal here ➡️ https://NordVPN.com/sabine It\\'s risk-free with Nord\\'s 30-day money-back guarantee!\\n\\nWhy do physicists think that our universe isn\\'t the only one? And should you believe them? In this video, I explain what the multiverse is and what the problem is with it. I have talked about this before but in hindsight I think I made it too confusing. This is my new and hopefully improved attempt to summarize the important points.\\n\\nCorrection: At 5 minutes 20 seconds, the text on screen says \"Enternal Inflation\" -- that should have been \"Eternal Inflation\"! Sorry about that!\\n\\n💌 Sign up for my weekly science newsletter. It\\'s free!  ➜ http://sabinehossenfelder.com/\\n👉 Support me on Patreon ➜ https://www.patreon.com/Sabine\\n📖 My new book \"Existential Physics\" is now on sale ➜ http://existentialphysics.com/\\n🔗 Join this channel to get access to perks ➜ \\nhttps://www.youtube.com/channel/UC1yNl2E66ZzKApQdRuTQ4tw/join\\n\\n00:00 Intro\\n00:24 What is a Multiverse?\\n01:41 The Many Worlds Interpretation\\n04:33 Eternal Inflation\\n06:00 The String Theory Landscape\\n07:35 The Problem with the Multiverse\\n10:28 Answers to the Usual Objections\\n15:03 Conclusion\\n15:30 Sponsor Message\\n\\n#physics #philosophy #universe'},\n",
       "    'defaultAudioLanguage': 'en'},\n",
       "   'contentDetails': {'duration': 'PT17M1S',\n",
       "    'dimension': '2d',\n",
       "    'definition': 'hd',\n",
       "    'caption': 'true',\n",
       "    'licensedContent': True,\n",
       "    'contentRating': {},\n",
       "    'projection': 'rectangular'},\n",
       "   'status': {'uploadStatus': 'processed',\n",
       "    'privacyStatus': 'public',\n",
       "    'license': 'youtube',\n",
       "    'embeddable': True,\n",
       "    'publicStatsViewable': True,\n",
       "    'madeForKids': False},\n",
       "   'statistics': {'viewCount': '26432',\n",
       "    'likeCount': '3914',\n",
       "    'favoriteCount': '0',\n",
       "    'commentCount': '938'},\n",
       "   'player': {'embedHtml': '<iframe width=\"480\" height=\"270\" src=\"//www.youtube.com/embed/QHa1vbwVaNU\" frameborder=\"0\" allow=\"accelerometer; autoplay; clipboard-write; encrypted-media; gyroscope; picture-in-picture\" allowfullscreen></iframe>'},\n",
       "   'topicDetails': {'topicCategories': ['https://en.wikipedia.org/wiki/Knowledge',\n",
       "     'https://en.wikipedia.org/wiki/Religion']},\n",
       "   'recordingDetails': {}}],\n",
       " 'pageInfo': {'totalResults': 1, 'resultsPerPage': 1}}"
      ]
     },
     "execution_count": 8,
     "metadata": {},
     "output_type": "execute_result"
    }
   ],
   "source": [
    "response"
   ]
  },
  {
   "cell_type": "code",
   "execution_count": null,
   "metadata": {
    "colab": {
     "base_uri": "https://localhost:8080/",
     "height": 132
    },
    "executionInfo": {
     "elapsed": 409,
     "status": "error",
     "timestamp": 1660501680150,
     "user": {
      "displayName": "Brayan Mauricio Rodríguez Garzónn",
      "userId": "05435019562705070299"
     },
     "user_tz": 180
    },
    "id": "HQACfVRHj47z",
    "outputId": "80270508-9511-4d43-d554-52cc078b46b6"
   },
   "outputs": [
    {
     "ename": "SyntaxError",
     "evalue": "ignored",
     "output_type": "error",
     "traceback": [
      "\u001b[0;36m  File \u001b[0;32m\"<ipython-input-8-6394f65e7fc6>\"\u001b[0;36m, line \u001b[0;32m8\u001b[0m\n\u001b[0;31m    response\u001b[0m\n\u001b[0m           ^\u001b[0m\n\u001b[0;31mSyntaxError\u001b[0m\u001b[0;31m:\u001b[0m invalid syntax\n"
     ]
    }
   ],
   "source": [
    "videos='__ur8Ykcivw'\n",
    "request = youtube.videos().list(\n",
    "          part=\"id, snippet, contentDetails, player, recordingDetails, statistics, status, topicDetails\",\n",
    "          id=videos,\n",
    "          publishedAfter='2022-08-1T18:20:00Z'\n",
    "      )\n",
    "# fileDetails ,, ,suggestions,\n",
    "response = request.execute()\n",
    "response"
   ]
  },
  {
   "cell_type": "markdown",
   "metadata": {
    "id": "6Vp7_n6I0wvU"
   },
   "source": [
    "## Amostrando Videos"
   ]
  },
  {
   "cell_type": "code",
   "execution_count": null,
   "metadata": {
    "colab": {
     "base_uri": "https://localhost:8080/"
    },
    "executionInfo": {
     "elapsed": 520,
     "status": "ok",
     "timestamp": 1663178127338,
     "user": {
      "displayName": "Brayan Mauricio Rodríguez Garzónn",
      "userId": "05435019562705070299"
     },
     "user_tz": 180
    },
    "id": "sdxh8bHUbh_v",
    "outputId": "e920bd89-9a4f-44a9-ff47-92d6e9386be9"
   },
   "outputs": [
    {
     "data": {
      "text/plain": [
       "datetime.datetime(2022, 9, 14, 17, 55, 22, 981891)"
      ]
     },
     "execution_count": 4,
     "metadata": {},
     "output_type": "execute_result"
    }
   ],
   "source": [
    "from datetime import datetime\n",
    "\n",
    "datetime.now()\n",
    "\n",
    "# current_time = now.strftime(\"%H:%M:%S\")\n",
    "\n",
    "# print(\"Current Time =\", current_time)"
   ]
  },
  {
   "cell_type": "markdown",
   "metadata": {
    "id": "jpEub17KqJTc"
   },
   "source": [
    "La hora ajustada  por python es automaticamente la del **Meridiano de Grenwich** en terminos de la hora de São Paulo estariamos hablando de 3 horas más temprano, en otras palabras la hora de Greenwhich le lleva tres horas a São Paulo.\n",
    "\n",
    "Debido a el poco tiempo que lleva un video para virar tendência en la plataforma estogeremos el horário de publicación de acuerdo con el horario que halla representado la mayor incidencia de publicaciones de vídeos tendência.\n",
    "\n"
   ]
  },
  {
   "cell_type": "markdown",
   "metadata": {
    "id": "Zwke3Pysa4UA"
   },
   "source": [
    "**Troca a data**"
   ]
  },
  {
   "cell_type": "code",
   "execution_count": null,
   "metadata": {
    "id": "b-FTqLOKmFbV"
   },
   "outputs": [],
   "source": [
    "# from sre_constants import CATEGORY\n",
    "Next_page_token= None\n",
    "i=0\n",
    "play_list_videos=[]\n",
    "\n",
    "while i<100:\n",
    "  request = youtube.search().list(\n",
    "    part='snippet',\n",
    "    maxResults=50,# default 5\n",
    "    regionCode='BR', # Visível desde Brasil\n",
    "    #relatedToVideoId=videoId,\n",
    "    publishedAfter='2022-10-05T17:30:00Z', \n",
    "    # lembre que a hora aquí colocada esta tres \n",
    "    # horas adiantadas com respeito a Brasilia\n",
    "    pageToken= Next_page_token, \n",
    "    type='video',\n",
    "    #order='rating'\n",
    "  )\n",
    "  response=request.execute()\n",
    "  play_list_videos+=response['items']\n",
    "  Next_page_token=response.get('nextPageToken')\n",
    "  i=i+1\n",
    "\n"
   ]
  },
  {
   "cell_type": "code",
   "execution_count": null,
   "metadata": {
    "colab": {
     "base_uri": "https://localhost:8080/"
    },
    "executionInfo": {
     "elapsed": 431,
     "status": "ok",
     "timestamp": 1665082774088,
     "user": {
      "displayName": "Brayan Mauricio Rodríguez Garzónn",
      "userId": "05435019562705070299"
     },
     "user_tz": 180
    },
    "id": "iXp3o3_L0Xzm",
    "outputId": "b4e69f9f-c1e9-4ec4-d8b8-4b6abfc85a9f"
   },
   "outputs": [
    {
     "data": {
      "text/plain": [
       "4864"
      ]
     },
     "execution_count": 11,
     "metadata": {},
     "output_type": "execute_result"
    }
   ],
   "source": [
    "len(play_list_videos)\n"
   ]
  },
  {
   "cell_type": "code",
   "execution_count": null,
   "metadata": {
    "colab": {
     "base_uri": "https://localhost:8080/",
     "height": 36
    },
    "executionInfo": {
     "elapsed": 320,
     "status": "ok",
     "timestamp": 1663436890746,
     "user": {
      "displayName": "Brayan Mauricio Rodríguez Garzónn",
      "userId": "05435019562705070299"
     },
     "user_tz": 180
    },
    "id": "jug8ChGF05FL",
    "outputId": "93deb4e7-50f6-4912-f5c1-f2f454d1e604"
   },
   "outputs": [
    {
     "data": {
      "application/vnd.google.colaboratory.intrinsic+json": {
       "type": "string"
      },
      "text/plain": [
       "'BQl-PHrc-UE'"
      ]
     },
     "execution_count": 6,
     "metadata": {},
     "output_type": "execute_result"
    }
   ],
   "source": [
    "play_list_videos[0]['id']['videoId']"
   ]
  },
  {
   "cell_type": "markdown",
   "metadata": {
    "id": "ptWVhH9OVFiQ"
   },
   "source": [
    "## Estrutura os novos dados num dataframe "
   ]
  },
  {
   "cell_type": "markdown",
   "metadata": {
    "id": "GCYtU8Kt75eI"
   },
   "source": [
    "Pegando os ids"
   ]
  },
  {
   "cell_type": "code",
   "execution_count": null,
   "metadata": {
    "colab": {
     "base_uri": "https://localhost:8080/"
    },
    "executionInfo": {
     "elapsed": 1722,
     "status": "ok",
     "timestamp": 1663612397496,
     "user": {
      "displayName": "Brayan Mauricio Rodríguez Garzónn",
      "userId": "05435019562705070299"
     },
     "user_tz": 180
    },
    "id": "rFdCxPfrA9bJ",
    "outputId": "9a081bda-6fb0-47f5-b5e9-3b0da393bb67"
   },
   "outputs": [
    {
     "data": {
      "text/plain": [
       "4958"
      ]
     },
     "execution_count": 5,
     "metadata": {},
     "output_type": "execute_result"
    }
   ],
   "source": [
    "videos_id=[play_list_videos[i]['id']['videoId'] for i in range(int(len(play_list_videos)))]\n",
    "len(videos_id)"
   ]
  },
  {
   "cell_type": "code",
   "execution_count": null,
   "metadata": {
    "colab": {
     "base_uri": "https://localhost:8080/"
    },
    "executionInfo": {
     "elapsed": 26,
     "status": "ok",
     "timestamp": 1663612397843,
     "user": {
      "displayName": "Brayan Mauricio Rodríguez Garzónn",
      "userId": "05435019562705070299"
     },
     "user_tz": 180
    },
    "id": "SSXuXttwB5yO",
    "outputId": "3792a994-4a0e-49b0-8ec7-53878b2c059a"
   },
   "outputs": [
    {
     "data": {
      "text/plain": [
       "99"
      ]
     },
     "execution_count": 6,
     "metadata": {},
     "output_type": "execute_result"
    }
   ],
   "source": [
    "iteracoes=len(videos_id)//50\n",
    "iteracoes"
   ]
  },
  {
   "cell_type": "markdown",
   "metadata": {
    "id": "DNnHhP-QpLGK"
   },
   "source": [
    "Construindo um dataset the views, pegando os videos pasados antes "
   ]
  },
  {
   "cell_type": "code",
   "execution_count": null,
   "metadata": {
    "id": "MGOU8f8q_o5d"
   },
   "outputs": [],
   "source": [
    "i=0\n",
    "stats=[]\n",
    "\n",
    "while i<iteracoes+1:\n",
    "    request = youtube_dos.videos().list(\n",
    "              part=\"statistics\",\n",
    "              #pageToken= Next_page_token, \n",
    "              id=videos_id[i*50:(i+1)*50]\n",
    "          )\n",
    "    # fileDetails ,, ,suggestions,\n",
    "    response = request.execute()\n",
    "    stats+=response['items']\n",
    "    #Next_page_token=response.get('nextPageToken')\n",
    "    i=i+1\n",
    "    "
   ]
  },
  {
   "cell_type": "code",
   "execution_count": null,
   "metadata": {
    "colab": {
     "base_uri": "https://localhost:8080/"
    },
    "executionInfo": {
     "elapsed": 189,
     "status": "ok",
     "timestamp": 1663612406251,
     "user": {
      "displayName": "Brayan Mauricio Rodríguez Garzónn",
      "userId": "05435019562705070299"
     },
     "user_tz": 180
    },
    "id": "g2UujsEZ1ncb",
    "outputId": "72943936-d77c-4a2f-d5d8-047cd02c7807"
   },
   "outputs": [
    {
     "data": {
      "text/plain": [
       "{'kind': 'youtube#video',\n",
       " 'etag': 'gFJxAxbAED6a9VxC2OEfr7khomg',\n",
       " 'id': 'yDkq-L9672A',\n",
       " 'statistics': {'viewCount': '20855',\n",
       "  'likeCount': '964',\n",
       "  'favoriteCount': '0'}}"
      ]
     },
     "execution_count": 8,
     "metadata": {},
     "output_type": "execute_result"
    }
   ],
   "source": [
    "stats[165]"
   ]
  },
  {
   "cell_type": "code",
   "execution_count": null,
   "metadata": {
    "colab": {
     "base_uri": "https://localhost:8080/"
    },
    "executionInfo": {
     "elapsed": 185,
     "status": "ok",
     "timestamp": 1663612406265,
     "user": {
      "displayName": "Brayan Mauricio Rodríguez Garzónn",
      "userId": "05435019562705070299"
     },
     "user_tz": 180
    },
    "id": "JL-tJIzoDyp7",
    "outputId": "9903ed15-2f98-4a2f-baf1-5252ad97970e"
   },
   "outputs": [
    {
     "data": {
      "text/plain": [
       "4958"
      ]
     },
     "execution_count": 9,
     "metadata": {},
     "output_type": "execute_result"
    }
   ],
   "source": [
    "len(stats)"
   ]
  },
  {
   "cell_type": "code",
   "execution_count": null,
   "metadata": {
    "colab": {
     "base_uri": "https://localhost:8080/"
    },
    "executionInfo": {
     "elapsed": 183,
     "status": "ok",
     "timestamp": 1663612406269,
     "user": {
      "displayName": "Brayan Mauricio Rodríguez Garzónn",
      "userId": "05435019562705070299"
     },
     "user_tz": 180
    },
    "id": "xxot-jY9GRQg",
    "outputId": "f818fd3d-cf43-4f6c-beda-66c810651076"
   },
   "outputs": [
    {
     "data": {
      "text/plain": [
       "4958"
      ]
     },
     "execution_count": 10,
     "metadata": {},
     "output_type": "execute_result"
    }
   ],
   "source": [
    "len(videos_id)"
   ]
  },
  {
   "cell_type": "markdown",
   "metadata": {
    "id": "UYoYgevrGnNS"
   },
   "source": [
    "O comprimento da lista videos id, pode ser diferente do comprimento da lista stats, assim vamos construir o dataframe da lista stags e depois vamos intersetar com o de vídeos id"
   ]
  },
  {
   "cell_type": "markdown",
   "metadata": {
    "id": "uo9j2Jum78D0"
   },
   "source": [
    "Capturando as estadisticas da lista anterior "
   ]
  },
  {
   "cell_type": "code",
   "execution_count": null,
   "metadata": {
    "id": "_fPp4wEbF3Sz"
   },
   "outputs": [],
   "source": [
    "d={'stats':stats}\n",
    "import pandas as pd"
   ]
  },
  {
   "cell_type": "code",
   "execution_count": null,
   "metadata": {
    "colab": {
     "base_uri": "https://localhost:8080/"
    },
    "executionInfo": {
     "elapsed": 181,
     "status": "ok",
     "timestamp": 1663612406274,
     "user": {
      "displayName": "Brayan Mauricio Rodríguez Garzónn",
      "userId": "05435019562705070299"
     },
     "user_tz": 180
    },
    "id": "vXeRzg5BGMVo",
    "outputId": "c85b21c8-4d82-4968-f08e-434700817f38"
   },
   "outputs": [
    {
     "data": {
      "text/plain": [
       "1"
      ]
     },
     "execution_count": 12,
     "metadata": {},
     "output_type": "execute_result"
    }
   ],
   "source": [
    "len(d)"
   ]
  },
  {
   "cell_type": "code",
   "execution_count": null,
   "metadata": {
    "colab": {
     "base_uri": "https://localhost:8080/"
    },
    "executionInfo": {
     "elapsed": 177,
     "status": "ok",
     "timestamp": 1663612406275,
     "user": {
      "displayName": "Brayan Mauricio Rodríguez Garzónn",
      "userId": "05435019562705070299"
     },
     "user_tz": 180
    },
    "id": "xz89HF9Lk6Vq",
    "outputId": "7059bb55-5e6b-4f55-fb23-a6121aeb4358"
   },
   "outputs": [
    {
     "data": {
      "text/plain": [
       "stats    0\n",
       "dtype: int64"
      ]
     },
     "execution_count": 13,
     "metadata": {},
     "output_type": "execute_result"
    }
   ],
   "source": [
    "\n",
    "df_stats=pd.DataFrame(d)\n",
    "df_stats.isna().sum()"
   ]
  },
  {
   "cell_type": "code",
   "execution_count": null,
   "metadata": {
    "colab": {
     "base_uri": "https://localhost:8080/"
    },
    "executionInfo": {
     "elapsed": 176,
     "status": "ok",
     "timestamp": 1663612406278,
     "user": {
      "displayName": "Brayan Mauricio Rodríguez Garzónn",
      "userId": "05435019562705070299"
     },
     "user_tz": 180
    },
    "id": "yErPJiFnECGz",
    "outputId": "76ae0770-a673-4f1d-f3e5-9e7b6d37bb5f"
   },
   "outputs": [
    {
     "data": {
      "text/html": [
       "\n",
       "  <div id=\"df-121366a6-272d-490c-bc94-152e974cc81f\">\n",
       "    <div class=\"colab-df-container\">\n",
       "      <div>\n",
       "<style scoped>\n",
       "    .dataframe tbody tr th:only-of-type {\n",
       "        vertical-align: middle;\n",
       "    }\n",
       "\n",
       "    .dataframe tbody tr th {\n",
       "        vertical-align: top;\n",
       "    }\n",
       "\n",
       "    .dataframe thead th {\n",
       "        text-align: right;\n",
       "    }\n",
       "</style>\n",
       "<table border=\"1\" class=\"dataframe\">\n",
       "  <thead>\n",
       "    <tr style=\"text-align: right;\">\n",
       "      <th></th>\n",
       "      <th>stats</th>\n",
       "    </tr>\n",
       "  </thead>\n",
       "  <tbody>\n",
       "    <tr>\n",
       "      <th>0</th>\n",
       "      <td>{'kind': 'youtube#video', 'etag': 'Kuphlmy2-Lp...</td>\n",
       "    </tr>\n",
       "    <tr>\n",
       "      <th>1</th>\n",
       "      <td>{'kind': 'youtube#video', 'etag': 'WyQIzRS-1Rb...</td>\n",
       "    </tr>\n",
       "    <tr>\n",
       "      <th>2</th>\n",
       "      <td>{'kind': 'youtube#video', 'etag': 'o8m41-55xH8...</td>\n",
       "    </tr>\n",
       "    <tr>\n",
       "      <th>3</th>\n",
       "      <td>{'kind': 'youtube#video', 'etag': 'KSkA_nWa-Rr...</td>\n",
       "    </tr>\n",
       "    <tr>\n",
       "      <th>4</th>\n",
       "      <td>{'kind': 'youtube#video', 'etag': 'pGWUUxIv-SF...</td>\n",
       "    </tr>\n",
       "    <tr>\n",
       "      <th>...</th>\n",
       "      <td>...</td>\n",
       "    </tr>\n",
       "    <tr>\n",
       "      <th>4953</th>\n",
       "      <td>{'kind': 'youtube#video', 'etag': 'N_I5zug6SKD...</td>\n",
       "    </tr>\n",
       "    <tr>\n",
       "      <th>4954</th>\n",
       "      <td>{'kind': 'youtube#video', 'etag': 'xxuj0xoIhLe...</td>\n",
       "    </tr>\n",
       "    <tr>\n",
       "      <th>4955</th>\n",
       "      <td>{'kind': 'youtube#video', 'etag': 'B-w5r7SHAhS...</td>\n",
       "    </tr>\n",
       "    <tr>\n",
       "      <th>4956</th>\n",
       "      <td>{'kind': 'youtube#video', 'etag': '678RDO5vKOu...</td>\n",
       "    </tr>\n",
       "    <tr>\n",
       "      <th>4957</th>\n",
       "      <td>{'kind': 'youtube#video', 'etag': 'KDc4P0hLSqY...</td>\n",
       "    </tr>\n",
       "  </tbody>\n",
       "</table>\n",
       "<p>4958 rows × 1 columns</p>\n",
       "</div>\n",
       "      <button class=\"colab-df-convert\" onclick=\"convertToInteractive('df-121366a6-272d-490c-bc94-152e974cc81f')\"\n",
       "              title=\"Convert this dataframe to an interactive table.\"\n",
       "              style=\"display:none;\">\n",
       "        \n",
       "  <svg xmlns=\"http://www.w3.org/2000/svg\" height=\"24px\"viewBox=\"0 0 24 24\"\n",
       "       width=\"24px\">\n",
       "    <path d=\"M0 0h24v24H0V0z\" fill=\"none\"/>\n",
       "    <path d=\"M18.56 5.44l.94 2.06.94-2.06 2.06-.94-2.06-.94-.94-2.06-.94 2.06-2.06.94zm-11 1L8.5 8.5l.94-2.06 2.06-.94-2.06-.94L8.5 2.5l-.94 2.06-2.06.94zm10 10l.94 2.06.94-2.06 2.06-.94-2.06-.94-.94-2.06-.94 2.06-2.06.94z\"/><path d=\"M17.41 7.96l-1.37-1.37c-.4-.4-.92-.59-1.43-.59-.52 0-1.04.2-1.43.59L10.3 9.45l-7.72 7.72c-.78.78-.78 2.05 0 2.83L4 21.41c.39.39.9.59 1.41.59.51 0 1.02-.2 1.41-.59l7.78-7.78 2.81-2.81c.8-.78.8-2.07 0-2.86zM5.41 20L4 18.59l7.72-7.72 1.47 1.35L5.41 20z\"/>\n",
       "  </svg>\n",
       "      </button>\n",
       "      \n",
       "  <style>\n",
       "    .colab-df-container {\n",
       "      display:flex;\n",
       "      flex-wrap:wrap;\n",
       "      gap: 12px;\n",
       "    }\n",
       "\n",
       "    .colab-df-convert {\n",
       "      background-color: #E8F0FE;\n",
       "      border: none;\n",
       "      border-radius: 50%;\n",
       "      cursor: pointer;\n",
       "      display: none;\n",
       "      fill: #1967D2;\n",
       "      height: 32px;\n",
       "      padding: 0 0 0 0;\n",
       "      width: 32px;\n",
       "    }\n",
       "\n",
       "    .colab-df-convert:hover {\n",
       "      background-color: #E2EBFA;\n",
       "      box-shadow: 0px 1px 2px rgba(60, 64, 67, 0.3), 0px 1px 3px 1px rgba(60, 64, 67, 0.15);\n",
       "      fill: #174EA6;\n",
       "    }\n",
       "\n",
       "    [theme=dark] .colab-df-convert {\n",
       "      background-color: #3B4455;\n",
       "      fill: #D2E3FC;\n",
       "    }\n",
       "\n",
       "    [theme=dark] .colab-df-convert:hover {\n",
       "      background-color: #434B5C;\n",
       "      box-shadow: 0px 1px 3px 1px rgba(0, 0, 0, 0.15);\n",
       "      filter: drop-shadow(0px 1px 2px rgba(0, 0, 0, 0.3));\n",
       "      fill: #FFFFFF;\n",
       "    }\n",
       "  </style>\n",
       "\n",
       "      <script>\n",
       "        const buttonEl =\n",
       "          document.querySelector('#df-121366a6-272d-490c-bc94-152e974cc81f button.colab-df-convert');\n",
       "        buttonEl.style.display =\n",
       "          google.colab.kernel.accessAllowed ? 'block' : 'none';\n",
       "\n",
       "        async function convertToInteractive(key) {\n",
       "          const element = document.querySelector('#df-121366a6-272d-490c-bc94-152e974cc81f');\n",
       "          const dataTable =\n",
       "            await google.colab.kernel.invokeFunction('convertToInteractive',\n",
       "                                                     [key], {});\n",
       "          if (!dataTable) return;\n",
       "\n",
       "          const docLinkHtml = 'Like what you see? Visit the ' +\n",
       "            '<a target=\"_blank\" href=https://colab.research.google.com/notebooks/data_table.ipynb>data table notebook</a>'\n",
       "            + ' to learn more about interactive tables.';\n",
       "          element.innerHTML = '';\n",
       "          dataTable['output_type'] = 'display_data';\n",
       "          await google.colab.output.renderOutput(dataTable, element);\n",
       "          const docLink = document.createElement('div');\n",
       "          docLink.innerHTML = docLinkHtml;\n",
       "          element.appendChild(docLink);\n",
       "        }\n",
       "      </script>\n",
       "    </div>\n",
       "  </div>\n",
       "  "
      ],
      "text/plain": [
       "                                                  stats\n",
       "0     {'kind': 'youtube#video', 'etag': 'Kuphlmy2-Lp...\n",
       "1     {'kind': 'youtube#video', 'etag': 'WyQIzRS-1Rb...\n",
       "2     {'kind': 'youtube#video', 'etag': 'o8m41-55xH8...\n",
       "3     {'kind': 'youtube#video', 'etag': 'KSkA_nWa-Rr...\n",
       "4     {'kind': 'youtube#video', 'etag': 'pGWUUxIv-SF...\n",
       "...                                                 ...\n",
       "4953  {'kind': 'youtube#video', 'etag': 'N_I5zug6SKD...\n",
       "4954  {'kind': 'youtube#video', 'etag': 'xxuj0xoIhLe...\n",
       "4955  {'kind': 'youtube#video', 'etag': 'B-w5r7SHAhS...\n",
       "4956  {'kind': 'youtube#video', 'etag': '678RDO5vKOu...\n",
       "4957  {'kind': 'youtube#video', 'etag': 'KDc4P0hLSqY...\n",
       "\n",
       "[4958 rows x 1 columns]"
      ]
     },
     "execution_count": 14,
     "metadata": {},
     "output_type": "execute_result"
    }
   ],
   "source": [
    "df_stats"
   ]
  },
  {
   "cell_type": "code",
   "execution_count": null,
   "metadata": {
    "id": "_4-HB5-9mkEg"
   },
   "outputs": [],
   "source": [
    "pd_normalize=pd.json_normalize(df_stats['stats'])"
   ]
  },
  {
   "cell_type": "code",
   "execution_count": null,
   "metadata": {
    "colab": {
     "base_uri": "https://localhost:8080/"
    },
    "executionInfo": {
     "elapsed": 147,
     "status": "ok",
     "timestamp": 1663612406282,
     "user": {
      "displayName": "Brayan Mauricio Rodríguez Garzónn",
      "userId": "05435019562705070299"
     },
     "user_tz": 180
    },
    "id": "noWjkTF0oDk1",
    "outputId": "8930bdce-2c78-49bd-a12e-df6d20e909fb"
   },
   "outputs": [
    {
     "data": {
      "text/html": [
       "\n",
       "  <div id=\"df-83c103ad-4419-4b5d-9364-29c6fb6093cc\">\n",
       "    <div class=\"colab-df-container\">\n",
       "      <div>\n",
       "<style scoped>\n",
       "    .dataframe tbody tr th:only-of-type {\n",
       "        vertical-align: middle;\n",
       "    }\n",
       "\n",
       "    .dataframe tbody tr th {\n",
       "        vertical-align: top;\n",
       "    }\n",
       "\n",
       "    .dataframe thead th {\n",
       "        text-align: right;\n",
       "    }\n",
       "</style>\n",
       "<table border=\"1\" class=\"dataframe\">\n",
       "  <thead>\n",
       "    <tr style=\"text-align: right;\">\n",
       "      <th></th>\n",
       "      <th>kind</th>\n",
       "      <th>etag</th>\n",
       "      <th>id</th>\n",
       "      <th>statistics.viewCount</th>\n",
       "      <th>statistics.likeCount</th>\n",
       "      <th>statistics.favoriteCount</th>\n",
       "      <th>statistics.commentCount</th>\n",
       "    </tr>\n",
       "  </thead>\n",
       "  <tbody>\n",
       "    <tr>\n",
       "      <th>0</th>\n",
       "      <td>youtube#video</td>\n",
       "      <td>Kuphlmy2-LpiQbqasNoXk12rVdQ</td>\n",
       "      <td>jBulntGrnPE</td>\n",
       "      <td>1814472</td>\n",
       "      <td>39294</td>\n",
       "      <td>0</td>\n",
       "      <td>3580</td>\n",
       "    </tr>\n",
       "    <tr>\n",
       "      <th>1</th>\n",
       "      <td>youtube#video</td>\n",
       "      <td>WyQIzRS-1Rbv-_I2-y-Ul1_bxwY</td>\n",
       "      <td>c4Dt6F0ykvA</td>\n",
       "      <td>2074130</td>\n",
       "      <td>42979</td>\n",
       "      <td>0</td>\n",
       "      <td>0</td>\n",
       "    </tr>\n",
       "    <tr>\n",
       "      <th>2</th>\n",
       "      <td>youtube#video</td>\n",
       "      <td>o8m41-55xH8P3RPDopHQc5Ne8MU</td>\n",
       "      <td>E9jCNiad4kE</td>\n",
       "      <td>1606893</td>\n",
       "      <td>20502</td>\n",
       "      <td>0</td>\n",
       "      <td>0</td>\n",
       "    </tr>\n",
       "    <tr>\n",
       "      <th>3</th>\n",
       "      <td>youtube#video</td>\n",
       "      <td>KSkA_nWa-RrDHe-za03m0BzEgkQ</td>\n",
       "      <td>s3mx1GkEUys</td>\n",
       "      <td>537628</td>\n",
       "      <td>9297</td>\n",
       "      <td>0</td>\n",
       "      <td>3671</td>\n",
       "    </tr>\n",
       "    <tr>\n",
       "      <th>4</th>\n",
       "      <td>youtube#video</td>\n",
       "      <td>pGWUUxIv-SFw8qpY43orRd9Ij9U</td>\n",
       "      <td>6v2IZnZp6Ak</td>\n",
       "      <td>1468015</td>\n",
       "      <td>10499</td>\n",
       "      <td>0</td>\n",
       "      <td>1817</td>\n",
       "    </tr>\n",
       "    <tr>\n",
       "      <th>...</th>\n",
       "      <td>...</td>\n",
       "      <td>...</td>\n",
       "      <td>...</td>\n",
       "      <td>...</td>\n",
       "      <td>...</td>\n",
       "      <td>...</td>\n",
       "      <td>...</td>\n",
       "    </tr>\n",
       "    <tr>\n",
       "      <th>4953</th>\n",
       "      <td>youtube#video</td>\n",
       "      <td>N_I5zug6SKD7iOW9NeMXdtFSops</td>\n",
       "      <td>HjPaGr87_Wc</td>\n",
       "      <td>11712</td>\n",
       "      <td>79</td>\n",
       "      <td>0</td>\n",
       "      <td>41</td>\n",
       "    </tr>\n",
       "    <tr>\n",
       "      <th>4954</th>\n",
       "      <td>youtube#video</td>\n",
       "      <td>xxuj0xoIhLez8SKlWeimp-RIydE</td>\n",
       "      <td>rroW976Rfgo</td>\n",
       "      <td>19155</td>\n",
       "      <td>616</td>\n",
       "      <td>0</td>\n",
       "      <td>20</td>\n",
       "    </tr>\n",
       "    <tr>\n",
       "      <th>4955</th>\n",
       "      <td>youtube#video</td>\n",
       "      <td>B-w5r7SHAhSz0UZZ6-p5f-EqF1Q</td>\n",
       "      <td>CSW5mQ_att4</td>\n",
       "      <td>7223</td>\n",
       "      <td>177</td>\n",
       "      <td>0</td>\n",
       "      <td>227</td>\n",
       "    </tr>\n",
       "    <tr>\n",
       "      <th>4956</th>\n",
       "      <td>youtube#video</td>\n",
       "      <td>678RDO5vKOuQVk143PBv5BVbYSI</td>\n",
       "      <td>qxuCW6ixfJw</td>\n",
       "      <td>122041</td>\n",
       "      <td>1842</td>\n",
       "      <td>0</td>\n",
       "      <td>330</td>\n",
       "    </tr>\n",
       "    <tr>\n",
       "      <th>4957</th>\n",
       "      <td>youtube#video</td>\n",
       "      <td>KDc4P0hLSqYxz3OdCoXbEKS7B_w</td>\n",
       "      <td>OT4GbT1x8Js</td>\n",
       "      <td>8848</td>\n",
       "      <td>278</td>\n",
       "      <td>0</td>\n",
       "      <td>1</td>\n",
       "    </tr>\n",
       "  </tbody>\n",
       "</table>\n",
       "<p>4958 rows × 7 columns</p>\n",
       "</div>\n",
       "      <button class=\"colab-df-convert\" onclick=\"convertToInteractive('df-83c103ad-4419-4b5d-9364-29c6fb6093cc')\"\n",
       "              title=\"Convert this dataframe to an interactive table.\"\n",
       "              style=\"display:none;\">\n",
       "        \n",
       "  <svg xmlns=\"http://www.w3.org/2000/svg\" height=\"24px\"viewBox=\"0 0 24 24\"\n",
       "       width=\"24px\">\n",
       "    <path d=\"M0 0h24v24H0V0z\" fill=\"none\"/>\n",
       "    <path d=\"M18.56 5.44l.94 2.06.94-2.06 2.06-.94-2.06-.94-.94-2.06-.94 2.06-2.06.94zm-11 1L8.5 8.5l.94-2.06 2.06-.94-2.06-.94L8.5 2.5l-.94 2.06-2.06.94zm10 10l.94 2.06.94-2.06 2.06-.94-2.06-.94-.94-2.06-.94 2.06-2.06.94z\"/><path d=\"M17.41 7.96l-1.37-1.37c-.4-.4-.92-.59-1.43-.59-.52 0-1.04.2-1.43.59L10.3 9.45l-7.72 7.72c-.78.78-.78 2.05 0 2.83L4 21.41c.39.39.9.59 1.41.59.51 0 1.02-.2 1.41-.59l7.78-7.78 2.81-2.81c.8-.78.8-2.07 0-2.86zM5.41 20L4 18.59l7.72-7.72 1.47 1.35L5.41 20z\"/>\n",
       "  </svg>\n",
       "      </button>\n",
       "      \n",
       "  <style>\n",
       "    .colab-df-container {\n",
       "      display:flex;\n",
       "      flex-wrap:wrap;\n",
       "      gap: 12px;\n",
       "    }\n",
       "\n",
       "    .colab-df-convert {\n",
       "      background-color: #E8F0FE;\n",
       "      border: none;\n",
       "      border-radius: 50%;\n",
       "      cursor: pointer;\n",
       "      display: none;\n",
       "      fill: #1967D2;\n",
       "      height: 32px;\n",
       "      padding: 0 0 0 0;\n",
       "      width: 32px;\n",
       "    }\n",
       "\n",
       "    .colab-df-convert:hover {\n",
       "      background-color: #E2EBFA;\n",
       "      box-shadow: 0px 1px 2px rgba(60, 64, 67, 0.3), 0px 1px 3px 1px rgba(60, 64, 67, 0.15);\n",
       "      fill: #174EA6;\n",
       "    }\n",
       "\n",
       "    [theme=dark] .colab-df-convert {\n",
       "      background-color: #3B4455;\n",
       "      fill: #D2E3FC;\n",
       "    }\n",
       "\n",
       "    [theme=dark] .colab-df-convert:hover {\n",
       "      background-color: #434B5C;\n",
       "      box-shadow: 0px 1px 3px 1px rgba(0, 0, 0, 0.15);\n",
       "      filter: drop-shadow(0px 1px 2px rgba(0, 0, 0, 0.3));\n",
       "      fill: #FFFFFF;\n",
       "    }\n",
       "  </style>\n",
       "\n",
       "      <script>\n",
       "        const buttonEl =\n",
       "          document.querySelector('#df-83c103ad-4419-4b5d-9364-29c6fb6093cc button.colab-df-convert');\n",
       "        buttonEl.style.display =\n",
       "          google.colab.kernel.accessAllowed ? 'block' : 'none';\n",
       "\n",
       "        async function convertToInteractive(key) {\n",
       "          const element = document.querySelector('#df-83c103ad-4419-4b5d-9364-29c6fb6093cc');\n",
       "          const dataTable =\n",
       "            await google.colab.kernel.invokeFunction('convertToInteractive',\n",
       "                                                     [key], {});\n",
       "          if (!dataTable) return;\n",
       "\n",
       "          const docLinkHtml = 'Like what you see? Visit the ' +\n",
       "            '<a target=\"_blank\" href=https://colab.research.google.com/notebooks/data_table.ipynb>data table notebook</a>'\n",
       "            + ' to learn more about interactive tables.';\n",
       "          element.innerHTML = '';\n",
       "          dataTable['output_type'] = 'display_data';\n",
       "          await google.colab.output.renderOutput(dataTable, element);\n",
       "          const docLink = document.createElement('div');\n",
       "          docLink.innerHTML = docLinkHtml;\n",
       "          element.appendChild(docLink);\n",
       "        }\n",
       "      </script>\n",
       "    </div>\n",
       "  </div>\n",
       "  "
      ],
      "text/plain": [
       "               kind                         etag           id  \\\n",
       "0     youtube#video  Kuphlmy2-LpiQbqasNoXk12rVdQ  jBulntGrnPE   \n",
       "1     youtube#video  WyQIzRS-1Rbv-_I2-y-Ul1_bxwY  c4Dt6F0ykvA   \n",
       "2     youtube#video  o8m41-55xH8P3RPDopHQc5Ne8MU  E9jCNiad4kE   \n",
       "3     youtube#video  KSkA_nWa-RrDHe-za03m0BzEgkQ  s3mx1GkEUys   \n",
       "4     youtube#video  pGWUUxIv-SFw8qpY43orRd9Ij9U  6v2IZnZp6Ak   \n",
       "...             ...                          ...          ...   \n",
       "4953  youtube#video  N_I5zug6SKD7iOW9NeMXdtFSops  HjPaGr87_Wc   \n",
       "4954  youtube#video  xxuj0xoIhLez8SKlWeimp-RIydE  rroW976Rfgo   \n",
       "4955  youtube#video  B-w5r7SHAhSz0UZZ6-p5f-EqF1Q  CSW5mQ_att4   \n",
       "4956  youtube#video  678RDO5vKOuQVk143PBv5BVbYSI  qxuCW6ixfJw   \n",
       "4957  youtube#video  KDc4P0hLSqYxz3OdCoXbEKS7B_w  OT4GbT1x8Js   \n",
       "\n",
       "     statistics.viewCount statistics.likeCount statistics.favoriteCount  \\\n",
       "0                 1814472                39294                        0   \n",
       "1                 2074130                42979                        0   \n",
       "2                 1606893                20502                        0   \n",
       "3                  537628                 9297                        0   \n",
       "4                 1468015                10499                        0   \n",
       "...                   ...                  ...                      ...   \n",
       "4953                11712                   79                        0   \n",
       "4954                19155                  616                        0   \n",
       "4955                 7223                  177                        0   \n",
       "4956               122041                 1842                        0   \n",
       "4957                 8848                  278                        0   \n",
       "\n",
       "     statistics.commentCount  \n",
       "0                       3580  \n",
       "1                          0  \n",
       "2                          0  \n",
       "3                       3671  \n",
       "4                       1817  \n",
       "...                      ...  \n",
       "4953                      41  \n",
       "4954                      20  \n",
       "4955                     227  \n",
       "4956                     330  \n",
       "4957                       1  \n",
       "\n",
       "[4958 rows x 7 columns]"
      ]
     },
     "execution_count": 16,
     "metadata": {},
     "output_type": "execute_result"
    }
   ],
   "source": [
    "pd_normalize"
   ]
  },
  {
   "cell_type": "code",
   "execution_count": null,
   "metadata": {
    "colab": {
     "base_uri": "https://localhost:8080/"
    },
    "executionInfo": {
     "elapsed": 143,
     "status": "ok",
     "timestamp": 1663612406283,
     "user": {
      "displayName": "Brayan Mauricio Rodríguez Garzónn",
      "userId": "05435019562705070299"
     },
     "user_tz": 180
    },
    "id": "RCr_m5npF3FP",
    "outputId": "6e3cdcdc-4090-40b9-87bf-81ea3a3a97ae"
   },
   "outputs": [
    {
     "data": {
      "text/plain": [
       "kind                        object\n",
       "etag                        object\n",
       "id                          object\n",
       "statistics.viewCount        object\n",
       "statistics.likeCount        object\n",
       "statistics.favoriteCount    object\n",
       "statistics.commentCount     object\n",
       "dtype: object"
      ]
     },
     "execution_count": 17,
     "metadata": {},
     "output_type": "execute_result"
    }
   ],
   "source": [
    "pd_normalize.dtypes"
   ]
  },
  {
   "cell_type": "markdown",
   "metadata": {
    "id": "HAhnOZ8dKh5S"
   },
   "source": []
  },
  {
   "cell_type": "code",
   "execution_count": null,
   "metadata": {
    "id": "4an9U_P0oDfl"
   },
   "outputs": [],
   "source": [
    "pd_normalize['statistics.viewCount']=pd.to_numeric(pd_normalize['statistics.viewCount'],errors='coerce',downcast=\"integer\")\n",
    "pd_normalize['statistics.likeCount']=pd.to_numeric(pd_normalize['statistics.likeCount'],errors='coerce',downcast=\"integer\")\n",
    "pd_normalize['statistics.commentCount']=pd.to_numeric(pd_normalize['statistics.commentCount'],errors='coerce',downcast=\"integer\")"
   ]
  },
  {
   "cell_type": "code",
   "execution_count": null,
   "metadata": {
    "colab": {
     "base_uri": "https://localhost:8080/"
    },
    "executionInfo": {
     "elapsed": 138,
     "status": "ok",
     "timestamp": 1663612406287,
     "user": {
      "displayName": "Brayan Mauricio Rodríguez Garzónn",
      "userId": "05435019562705070299"
     },
     "user_tz": 180
    },
    "id": "Eu6VM6P8KWrt",
    "outputId": "6e99bd98-ec65-4a5b-82ae-046ca1ccc330"
   },
   "outputs": [
    {
     "data": {
      "text/html": [
       "\n",
       "  <div id=\"df-f45c733f-e382-4666-9817-d620206d99a4\">\n",
       "    <div class=\"colab-df-container\">\n",
       "      <div>\n",
       "<style scoped>\n",
       "    .dataframe tbody tr th:only-of-type {\n",
       "        vertical-align: middle;\n",
       "    }\n",
       "\n",
       "    .dataframe tbody tr th {\n",
       "        vertical-align: top;\n",
       "    }\n",
       "\n",
       "    .dataframe thead th {\n",
       "        text-align: right;\n",
       "    }\n",
       "</style>\n",
       "<table border=\"1\" class=\"dataframe\">\n",
       "  <thead>\n",
       "    <tr style=\"text-align: right;\">\n",
       "      <th></th>\n",
       "      <th>kind</th>\n",
       "      <th>etag</th>\n",
       "      <th>id</th>\n",
       "      <th>statistics.viewCount</th>\n",
       "      <th>statistics.likeCount</th>\n",
       "      <th>statistics.favoriteCount</th>\n",
       "      <th>statistics.commentCount</th>\n",
       "    </tr>\n",
       "  </thead>\n",
       "  <tbody>\n",
       "    <tr>\n",
       "      <th>0</th>\n",
       "      <td>youtube#video</td>\n",
       "      <td>Kuphlmy2-LpiQbqasNoXk12rVdQ</td>\n",
       "      <td>jBulntGrnPE</td>\n",
       "      <td>1814472</td>\n",
       "      <td>39294.0</td>\n",
       "      <td>0</td>\n",
       "      <td>3580.0</td>\n",
       "    </tr>\n",
       "    <tr>\n",
       "      <th>1</th>\n",
       "      <td>youtube#video</td>\n",
       "      <td>WyQIzRS-1Rbv-_I2-y-Ul1_bxwY</td>\n",
       "      <td>c4Dt6F0ykvA</td>\n",
       "      <td>2074130</td>\n",
       "      <td>42979.0</td>\n",
       "      <td>0</td>\n",
       "      <td>0.0</td>\n",
       "    </tr>\n",
       "    <tr>\n",
       "      <th>2</th>\n",
       "      <td>youtube#video</td>\n",
       "      <td>o8m41-55xH8P3RPDopHQc5Ne8MU</td>\n",
       "      <td>E9jCNiad4kE</td>\n",
       "      <td>1606893</td>\n",
       "      <td>20502.0</td>\n",
       "      <td>0</td>\n",
       "      <td>0.0</td>\n",
       "    </tr>\n",
       "    <tr>\n",
       "      <th>3</th>\n",
       "      <td>youtube#video</td>\n",
       "      <td>KSkA_nWa-RrDHe-za03m0BzEgkQ</td>\n",
       "      <td>s3mx1GkEUys</td>\n",
       "      <td>537628</td>\n",
       "      <td>9297.0</td>\n",
       "      <td>0</td>\n",
       "      <td>3671.0</td>\n",
       "    </tr>\n",
       "    <tr>\n",
       "      <th>4</th>\n",
       "      <td>youtube#video</td>\n",
       "      <td>pGWUUxIv-SFw8qpY43orRd9Ij9U</td>\n",
       "      <td>6v2IZnZp6Ak</td>\n",
       "      <td>1468015</td>\n",
       "      <td>10499.0</td>\n",
       "      <td>0</td>\n",
       "      <td>1817.0</td>\n",
       "    </tr>\n",
       "    <tr>\n",
       "      <th>...</th>\n",
       "      <td>...</td>\n",
       "      <td>...</td>\n",
       "      <td>...</td>\n",
       "      <td>...</td>\n",
       "      <td>...</td>\n",
       "      <td>...</td>\n",
       "      <td>...</td>\n",
       "    </tr>\n",
       "    <tr>\n",
       "      <th>4953</th>\n",
       "      <td>youtube#video</td>\n",
       "      <td>N_I5zug6SKD7iOW9NeMXdtFSops</td>\n",
       "      <td>HjPaGr87_Wc</td>\n",
       "      <td>11712</td>\n",
       "      <td>79.0</td>\n",
       "      <td>0</td>\n",
       "      <td>41.0</td>\n",
       "    </tr>\n",
       "    <tr>\n",
       "      <th>4954</th>\n",
       "      <td>youtube#video</td>\n",
       "      <td>xxuj0xoIhLez8SKlWeimp-RIydE</td>\n",
       "      <td>rroW976Rfgo</td>\n",
       "      <td>19155</td>\n",
       "      <td>616.0</td>\n",
       "      <td>0</td>\n",
       "      <td>20.0</td>\n",
       "    </tr>\n",
       "    <tr>\n",
       "      <th>4955</th>\n",
       "      <td>youtube#video</td>\n",
       "      <td>B-w5r7SHAhSz0UZZ6-p5f-EqF1Q</td>\n",
       "      <td>CSW5mQ_att4</td>\n",
       "      <td>7223</td>\n",
       "      <td>177.0</td>\n",
       "      <td>0</td>\n",
       "      <td>227.0</td>\n",
       "    </tr>\n",
       "    <tr>\n",
       "      <th>4956</th>\n",
       "      <td>youtube#video</td>\n",
       "      <td>678RDO5vKOuQVk143PBv5BVbYSI</td>\n",
       "      <td>qxuCW6ixfJw</td>\n",
       "      <td>122041</td>\n",
       "      <td>1842.0</td>\n",
       "      <td>0</td>\n",
       "      <td>330.0</td>\n",
       "    </tr>\n",
       "    <tr>\n",
       "      <th>4957</th>\n",
       "      <td>youtube#video</td>\n",
       "      <td>KDc4P0hLSqYxz3OdCoXbEKS7B_w</td>\n",
       "      <td>OT4GbT1x8Js</td>\n",
       "      <td>8848</td>\n",
       "      <td>278.0</td>\n",
       "      <td>0</td>\n",
       "      <td>1.0</td>\n",
       "    </tr>\n",
       "  </tbody>\n",
       "</table>\n",
       "<p>4958 rows × 7 columns</p>\n",
       "</div>\n",
       "      <button class=\"colab-df-convert\" onclick=\"convertToInteractive('df-f45c733f-e382-4666-9817-d620206d99a4')\"\n",
       "              title=\"Convert this dataframe to an interactive table.\"\n",
       "              style=\"display:none;\">\n",
       "        \n",
       "  <svg xmlns=\"http://www.w3.org/2000/svg\" height=\"24px\"viewBox=\"0 0 24 24\"\n",
       "       width=\"24px\">\n",
       "    <path d=\"M0 0h24v24H0V0z\" fill=\"none\"/>\n",
       "    <path d=\"M18.56 5.44l.94 2.06.94-2.06 2.06-.94-2.06-.94-.94-2.06-.94 2.06-2.06.94zm-11 1L8.5 8.5l.94-2.06 2.06-.94-2.06-.94L8.5 2.5l-.94 2.06-2.06.94zm10 10l.94 2.06.94-2.06 2.06-.94-2.06-.94-.94-2.06-.94 2.06-2.06.94z\"/><path d=\"M17.41 7.96l-1.37-1.37c-.4-.4-.92-.59-1.43-.59-.52 0-1.04.2-1.43.59L10.3 9.45l-7.72 7.72c-.78.78-.78 2.05 0 2.83L4 21.41c.39.39.9.59 1.41.59.51 0 1.02-.2 1.41-.59l7.78-7.78 2.81-2.81c.8-.78.8-2.07 0-2.86zM5.41 20L4 18.59l7.72-7.72 1.47 1.35L5.41 20z\"/>\n",
       "  </svg>\n",
       "      </button>\n",
       "      \n",
       "  <style>\n",
       "    .colab-df-container {\n",
       "      display:flex;\n",
       "      flex-wrap:wrap;\n",
       "      gap: 12px;\n",
       "    }\n",
       "\n",
       "    .colab-df-convert {\n",
       "      background-color: #E8F0FE;\n",
       "      border: none;\n",
       "      border-radius: 50%;\n",
       "      cursor: pointer;\n",
       "      display: none;\n",
       "      fill: #1967D2;\n",
       "      height: 32px;\n",
       "      padding: 0 0 0 0;\n",
       "      width: 32px;\n",
       "    }\n",
       "\n",
       "    .colab-df-convert:hover {\n",
       "      background-color: #E2EBFA;\n",
       "      box-shadow: 0px 1px 2px rgba(60, 64, 67, 0.3), 0px 1px 3px 1px rgba(60, 64, 67, 0.15);\n",
       "      fill: #174EA6;\n",
       "    }\n",
       "\n",
       "    [theme=dark] .colab-df-convert {\n",
       "      background-color: #3B4455;\n",
       "      fill: #D2E3FC;\n",
       "    }\n",
       "\n",
       "    [theme=dark] .colab-df-convert:hover {\n",
       "      background-color: #434B5C;\n",
       "      box-shadow: 0px 1px 3px 1px rgba(0, 0, 0, 0.15);\n",
       "      filter: drop-shadow(0px 1px 2px rgba(0, 0, 0, 0.3));\n",
       "      fill: #FFFFFF;\n",
       "    }\n",
       "  </style>\n",
       "\n",
       "      <script>\n",
       "        const buttonEl =\n",
       "          document.querySelector('#df-f45c733f-e382-4666-9817-d620206d99a4 button.colab-df-convert');\n",
       "        buttonEl.style.display =\n",
       "          google.colab.kernel.accessAllowed ? 'block' : 'none';\n",
       "\n",
       "        async function convertToInteractive(key) {\n",
       "          const element = document.querySelector('#df-f45c733f-e382-4666-9817-d620206d99a4');\n",
       "          const dataTable =\n",
       "            await google.colab.kernel.invokeFunction('convertToInteractive',\n",
       "                                                     [key], {});\n",
       "          if (!dataTable) return;\n",
       "\n",
       "          const docLinkHtml = 'Like what you see? Visit the ' +\n",
       "            '<a target=\"_blank\" href=https://colab.research.google.com/notebooks/data_table.ipynb>data table notebook</a>'\n",
       "            + ' to learn more about interactive tables.';\n",
       "          element.innerHTML = '';\n",
       "          dataTable['output_type'] = 'display_data';\n",
       "          await google.colab.output.renderOutput(dataTable, element);\n",
       "          const docLink = document.createElement('div');\n",
       "          docLink.innerHTML = docLinkHtml;\n",
       "          element.appendChild(docLink);\n",
       "        }\n",
       "      </script>\n",
       "    </div>\n",
       "  </div>\n",
       "  "
      ],
      "text/plain": [
       "               kind                         etag           id  \\\n",
       "0     youtube#video  Kuphlmy2-LpiQbqasNoXk12rVdQ  jBulntGrnPE   \n",
       "1     youtube#video  WyQIzRS-1Rbv-_I2-y-Ul1_bxwY  c4Dt6F0ykvA   \n",
       "2     youtube#video  o8m41-55xH8P3RPDopHQc5Ne8MU  E9jCNiad4kE   \n",
       "3     youtube#video  KSkA_nWa-RrDHe-za03m0BzEgkQ  s3mx1GkEUys   \n",
       "4     youtube#video  pGWUUxIv-SFw8qpY43orRd9Ij9U  6v2IZnZp6Ak   \n",
       "...             ...                          ...          ...   \n",
       "4953  youtube#video  N_I5zug6SKD7iOW9NeMXdtFSops  HjPaGr87_Wc   \n",
       "4954  youtube#video  xxuj0xoIhLez8SKlWeimp-RIydE  rroW976Rfgo   \n",
       "4955  youtube#video  B-w5r7SHAhSz0UZZ6-p5f-EqF1Q  CSW5mQ_att4   \n",
       "4956  youtube#video  678RDO5vKOuQVk143PBv5BVbYSI  qxuCW6ixfJw   \n",
       "4957  youtube#video  KDc4P0hLSqYxz3OdCoXbEKS7B_w  OT4GbT1x8Js   \n",
       "\n",
       "      statistics.viewCount  statistics.likeCount statistics.favoriteCount  \\\n",
       "0                  1814472               39294.0                        0   \n",
       "1                  2074130               42979.0                        0   \n",
       "2                  1606893               20502.0                        0   \n",
       "3                   537628                9297.0                        0   \n",
       "4                  1468015               10499.0                        0   \n",
       "...                    ...                   ...                      ...   \n",
       "4953                 11712                  79.0                        0   \n",
       "4954                 19155                 616.0                        0   \n",
       "4955                  7223                 177.0                        0   \n",
       "4956                122041                1842.0                        0   \n",
       "4957                  8848                 278.0                        0   \n",
       "\n",
       "      statistics.commentCount  \n",
       "0                      3580.0  \n",
       "1                         0.0  \n",
       "2                         0.0  \n",
       "3                      3671.0  \n",
       "4                      1817.0  \n",
       "...                       ...  \n",
       "4953                     41.0  \n",
       "4954                     20.0  \n",
       "4955                    227.0  \n",
       "4956                    330.0  \n",
       "4957                      1.0  \n",
       "\n",
       "[4958 rows x 7 columns]"
      ]
     },
     "execution_count": 19,
     "metadata": {},
     "output_type": "execute_result"
    }
   ],
   "source": [
    "pd_normalize"
   ]
  },
  {
   "cell_type": "code",
   "execution_count": null,
   "metadata": {
    "id": "ovehrvEWM0Aq"
   },
   "outputs": [],
   "source": [
    "pd_normalize=pd_normalize[['id','statistics.viewCount','statistics.likeCount','statistics.commentCount']]"
   ]
  },
  {
   "cell_type": "code",
   "execution_count": null,
   "metadata": {
    "colab": {
     "base_uri": "https://localhost:8080/"
    },
    "executionInfo": {
     "elapsed": 131,
     "status": "ok",
     "timestamp": 1663612406290,
     "user": {
      "displayName": "Brayan Mauricio Rodríguez Garzónn",
      "userId": "05435019562705070299"
     },
     "user_tz": 180
    },
    "id": "3gy3uDJUP7ey",
    "outputId": "ef638572-45bb-4df8-a888-5f9481045410"
   },
   "outputs": [
    {
     "name": "stderr",
     "output_type": "stream",
     "text": [
      "/usr/local/lib/python3.7/dist-packages/pandas/core/frame.py:5047: SettingWithCopyWarning: \n",
      "A value is trying to be set on a copy of a slice from a DataFrame\n",
      "\n",
      "See the caveats in the documentation: https://pandas.pydata.org/pandas-docs/stable/user_guide/indexing.html#returning-a-view-versus-a-copy\n",
      "  errors=errors,\n"
     ]
    },
    {
     "data": {
      "text/html": [
       "\n",
       "  <div id=\"df-74db8cd3-689b-4c2f-bdf6-670f1e3ffe3b\">\n",
       "    <div class=\"colab-df-container\">\n",
       "      <div>\n",
       "<style scoped>\n",
       "    .dataframe tbody tr th:only-of-type {\n",
       "        vertical-align: middle;\n",
       "    }\n",
       "\n",
       "    .dataframe tbody tr th {\n",
       "        vertical-align: top;\n",
       "    }\n",
       "\n",
       "    .dataframe thead th {\n",
       "        text-align: right;\n",
       "    }\n",
       "</style>\n",
       "<table border=\"1\" class=\"dataframe\">\n",
       "  <thead>\n",
       "    <tr style=\"text-align: right;\">\n",
       "      <th></th>\n",
       "      <th>id</th>\n",
       "      <th>Vistas</th>\n",
       "      <th>likes</th>\n",
       "      <th>Comentarios</th>\n",
       "    </tr>\n",
       "  </thead>\n",
       "  <tbody>\n",
       "    <tr>\n",
       "      <th>0</th>\n",
       "      <td>jBulntGrnPE</td>\n",
       "      <td>1814472</td>\n",
       "      <td>39294.0</td>\n",
       "      <td>3580.0</td>\n",
       "    </tr>\n",
       "    <tr>\n",
       "      <th>1</th>\n",
       "      <td>c4Dt6F0ykvA</td>\n",
       "      <td>2074130</td>\n",
       "      <td>42979.0</td>\n",
       "      <td>0.0</td>\n",
       "    </tr>\n",
       "    <tr>\n",
       "      <th>2</th>\n",
       "      <td>E9jCNiad4kE</td>\n",
       "      <td>1606893</td>\n",
       "      <td>20502.0</td>\n",
       "      <td>0.0</td>\n",
       "    </tr>\n",
       "    <tr>\n",
       "      <th>3</th>\n",
       "      <td>s3mx1GkEUys</td>\n",
       "      <td>537628</td>\n",
       "      <td>9297.0</td>\n",
       "      <td>3671.0</td>\n",
       "    </tr>\n",
       "    <tr>\n",
       "      <th>4</th>\n",
       "      <td>6v2IZnZp6Ak</td>\n",
       "      <td>1468015</td>\n",
       "      <td>10499.0</td>\n",
       "      <td>1817.0</td>\n",
       "    </tr>\n",
       "    <tr>\n",
       "      <th>...</th>\n",
       "      <td>...</td>\n",
       "      <td>...</td>\n",
       "      <td>...</td>\n",
       "      <td>...</td>\n",
       "    </tr>\n",
       "    <tr>\n",
       "      <th>4953</th>\n",
       "      <td>HjPaGr87_Wc</td>\n",
       "      <td>11712</td>\n",
       "      <td>79.0</td>\n",
       "      <td>41.0</td>\n",
       "    </tr>\n",
       "    <tr>\n",
       "      <th>4954</th>\n",
       "      <td>rroW976Rfgo</td>\n",
       "      <td>19155</td>\n",
       "      <td>616.0</td>\n",
       "      <td>20.0</td>\n",
       "    </tr>\n",
       "    <tr>\n",
       "      <th>4955</th>\n",
       "      <td>CSW5mQ_att4</td>\n",
       "      <td>7223</td>\n",
       "      <td>177.0</td>\n",
       "      <td>227.0</td>\n",
       "    </tr>\n",
       "    <tr>\n",
       "      <th>4956</th>\n",
       "      <td>qxuCW6ixfJw</td>\n",
       "      <td>122041</td>\n",
       "      <td>1842.0</td>\n",
       "      <td>330.0</td>\n",
       "    </tr>\n",
       "    <tr>\n",
       "      <th>4957</th>\n",
       "      <td>OT4GbT1x8Js</td>\n",
       "      <td>8848</td>\n",
       "      <td>278.0</td>\n",
       "      <td>1.0</td>\n",
       "    </tr>\n",
       "  </tbody>\n",
       "</table>\n",
       "<p>4958 rows × 4 columns</p>\n",
       "</div>\n",
       "      <button class=\"colab-df-convert\" onclick=\"convertToInteractive('df-74db8cd3-689b-4c2f-bdf6-670f1e3ffe3b')\"\n",
       "              title=\"Convert this dataframe to an interactive table.\"\n",
       "              style=\"display:none;\">\n",
       "        \n",
       "  <svg xmlns=\"http://www.w3.org/2000/svg\" height=\"24px\"viewBox=\"0 0 24 24\"\n",
       "       width=\"24px\">\n",
       "    <path d=\"M0 0h24v24H0V0z\" fill=\"none\"/>\n",
       "    <path d=\"M18.56 5.44l.94 2.06.94-2.06 2.06-.94-2.06-.94-.94-2.06-.94 2.06-2.06.94zm-11 1L8.5 8.5l.94-2.06 2.06-.94-2.06-.94L8.5 2.5l-.94 2.06-2.06.94zm10 10l.94 2.06.94-2.06 2.06-.94-2.06-.94-.94-2.06-.94 2.06-2.06.94z\"/><path d=\"M17.41 7.96l-1.37-1.37c-.4-.4-.92-.59-1.43-.59-.52 0-1.04.2-1.43.59L10.3 9.45l-7.72 7.72c-.78.78-.78 2.05 0 2.83L4 21.41c.39.39.9.59 1.41.59.51 0 1.02-.2 1.41-.59l7.78-7.78 2.81-2.81c.8-.78.8-2.07 0-2.86zM5.41 20L4 18.59l7.72-7.72 1.47 1.35L5.41 20z\"/>\n",
       "  </svg>\n",
       "      </button>\n",
       "      \n",
       "  <style>\n",
       "    .colab-df-container {\n",
       "      display:flex;\n",
       "      flex-wrap:wrap;\n",
       "      gap: 12px;\n",
       "    }\n",
       "\n",
       "    .colab-df-convert {\n",
       "      background-color: #E8F0FE;\n",
       "      border: none;\n",
       "      border-radius: 50%;\n",
       "      cursor: pointer;\n",
       "      display: none;\n",
       "      fill: #1967D2;\n",
       "      height: 32px;\n",
       "      padding: 0 0 0 0;\n",
       "      width: 32px;\n",
       "    }\n",
       "\n",
       "    .colab-df-convert:hover {\n",
       "      background-color: #E2EBFA;\n",
       "      box-shadow: 0px 1px 2px rgba(60, 64, 67, 0.3), 0px 1px 3px 1px rgba(60, 64, 67, 0.15);\n",
       "      fill: #174EA6;\n",
       "    }\n",
       "\n",
       "    [theme=dark] .colab-df-convert {\n",
       "      background-color: #3B4455;\n",
       "      fill: #D2E3FC;\n",
       "    }\n",
       "\n",
       "    [theme=dark] .colab-df-convert:hover {\n",
       "      background-color: #434B5C;\n",
       "      box-shadow: 0px 1px 3px 1px rgba(0, 0, 0, 0.15);\n",
       "      filter: drop-shadow(0px 1px 2px rgba(0, 0, 0, 0.3));\n",
       "      fill: #FFFFFF;\n",
       "    }\n",
       "  </style>\n",
       "\n",
       "      <script>\n",
       "        const buttonEl =\n",
       "          document.querySelector('#df-74db8cd3-689b-4c2f-bdf6-670f1e3ffe3b button.colab-df-convert');\n",
       "        buttonEl.style.display =\n",
       "          google.colab.kernel.accessAllowed ? 'block' : 'none';\n",
       "\n",
       "        async function convertToInteractive(key) {\n",
       "          const element = document.querySelector('#df-74db8cd3-689b-4c2f-bdf6-670f1e3ffe3b');\n",
       "          const dataTable =\n",
       "            await google.colab.kernel.invokeFunction('convertToInteractive',\n",
       "                                                     [key], {});\n",
       "          if (!dataTable) return;\n",
       "\n",
       "          const docLinkHtml = 'Like what you see? Visit the ' +\n",
       "            '<a target=\"_blank\" href=https://colab.research.google.com/notebooks/data_table.ipynb>data table notebook</a>'\n",
       "            + ' to learn more about interactive tables.';\n",
       "          element.innerHTML = '';\n",
       "          dataTable['output_type'] = 'display_data';\n",
       "          await google.colab.output.renderOutput(dataTable, element);\n",
       "          const docLink = document.createElement('div');\n",
       "          docLink.innerHTML = docLinkHtml;\n",
       "          element.appendChild(docLink);\n",
       "        }\n",
       "      </script>\n",
       "    </div>\n",
       "  </div>\n",
       "  "
      ],
      "text/plain": [
       "               id   Vistas    likes  Comentarios\n",
       "0     jBulntGrnPE  1814472  39294.0       3580.0\n",
       "1     c4Dt6F0ykvA  2074130  42979.0          0.0\n",
       "2     E9jCNiad4kE  1606893  20502.0          0.0\n",
       "3     s3mx1GkEUys   537628   9297.0       3671.0\n",
       "4     6v2IZnZp6Ak  1468015  10499.0       1817.0\n",
       "...           ...      ...      ...          ...\n",
       "4953  HjPaGr87_Wc    11712     79.0         41.0\n",
       "4954  rroW976Rfgo    19155    616.0         20.0\n",
       "4955  CSW5mQ_att4     7223    177.0        227.0\n",
       "4956  qxuCW6ixfJw   122041   1842.0        330.0\n",
       "4957  OT4GbT1x8Js     8848    278.0          1.0\n",
       "\n",
       "[4958 rows x 4 columns]"
      ]
     },
     "execution_count": 21,
     "metadata": {},
     "output_type": "execute_result"
    }
   ],
   "source": [
    "pd_normalize.rename(columns ={'statistics.viewCount':'Vistas','statistics.likeCount':'likes','statistics.commentCount':'Comentarios'}, inplace=True)\n",
    "pd_normalize"
   ]
  },
  {
   "cell_type": "code",
   "execution_count": null,
   "metadata": {
    "id": "_ekjBnsUUNqm"
   },
   "outputs": [],
   "source": [
    "pd_stats=pd_normalize.copy()"
   ]
  },
  {
   "cell_type": "markdown",
   "metadata": {
    "id": "IBqkFnmFSHod"
   },
   "source": [
    "Façamos este processo de extração todo de uma vez só para a listas"
   ]
  },
  {
   "cell_type": "code",
   "execution_count": null,
   "metadata": {
    "id": "dGss9pUdSE0H"
   },
   "outputs": [],
   "source": [
    "d={'items':play_list_videos}\n",
    "df=pd.DataFrame(d)\n",
    "pd_normalize=pd.json_normalize(df['items'])\n",
    "pd_normalize=pd_normalize[['id.videoId','snippet.channelId','snippet.publishedAt','snippet.title']]\n",
    "pd_normalize.rename(columns={'id.videoId':'id','snippet.channelId':'C_id','snippet.publishedAt':'Data','snippet.title':'Título'},inplace=True)\n"
   ]
  },
  {
   "cell_type": "code",
   "execution_count": null,
   "metadata": {
    "colab": {
     "base_uri": "https://localhost:8080/"
    },
    "executionInfo": {
     "elapsed": 29,
     "status": "ok",
     "timestamp": 1663612406554,
     "user": {
      "displayName": "Brayan Mauricio Rodríguez Garzónn",
      "userId": "05435019562705070299"
     },
     "user_tz": 180
    },
    "id": "wPJVfEkPYEy2",
    "outputId": "ce3a1498-22e2-4680-9987-c073ceeff5e0"
   },
   "outputs": [
    {
     "data": {
      "text/html": [
       "\n",
       "  <div id=\"df-48f6e26b-a51e-46bd-84da-bcd62f0fb0ad\">\n",
       "    <div class=\"colab-df-container\">\n",
       "      <div>\n",
       "<style scoped>\n",
       "    .dataframe tbody tr th:only-of-type {\n",
       "        vertical-align: middle;\n",
       "    }\n",
       "\n",
       "    .dataframe tbody tr th {\n",
       "        vertical-align: top;\n",
       "    }\n",
       "\n",
       "    .dataframe thead th {\n",
       "        text-align: right;\n",
       "    }\n",
       "</style>\n",
       "<table border=\"1\" class=\"dataframe\">\n",
       "  <thead>\n",
       "    <tr style=\"text-align: right;\">\n",
       "      <th></th>\n",
       "      <th>id</th>\n",
       "      <th>C_id</th>\n",
       "      <th>Data</th>\n",
       "      <th>Título</th>\n",
       "    </tr>\n",
       "  </thead>\n",
       "  <tbody>\n",
       "    <tr>\n",
       "      <th>0</th>\n",
       "      <td>jBulntGrnPE</td>\n",
       "      <td>UCQzdMyuz0Lf4zo4uGcEujFw</td>\n",
       "      <td>2022-09-19T02:00:12Z</td>\n",
       "      <td>Season 1 Episode 6 Preview | House of the Drag...</td>\n",
       "    </tr>\n",
       "    <tr>\n",
       "      <th>1</th>\n",
       "      <td>c4Dt6F0ykvA</td>\n",
       "      <td>UCDVYQ4Zhbm3S2dlz7P1GBDg</td>\n",
       "      <td>2022-09-18T20:37:55Z</td>\n",
       "      <td>Miami Dolphins vs. Baltimore Ravens | 2022 Wee...</td>\n",
       "    </tr>\n",
       "  </tbody>\n",
       "</table>\n",
       "</div>\n",
       "      <button class=\"colab-df-convert\" onclick=\"convertToInteractive('df-48f6e26b-a51e-46bd-84da-bcd62f0fb0ad')\"\n",
       "              title=\"Convert this dataframe to an interactive table.\"\n",
       "              style=\"display:none;\">\n",
       "        \n",
       "  <svg xmlns=\"http://www.w3.org/2000/svg\" height=\"24px\"viewBox=\"0 0 24 24\"\n",
       "       width=\"24px\">\n",
       "    <path d=\"M0 0h24v24H0V0z\" fill=\"none\"/>\n",
       "    <path d=\"M18.56 5.44l.94 2.06.94-2.06 2.06-.94-2.06-.94-.94-2.06-.94 2.06-2.06.94zm-11 1L8.5 8.5l.94-2.06 2.06-.94-2.06-.94L8.5 2.5l-.94 2.06-2.06.94zm10 10l.94 2.06.94-2.06 2.06-.94-2.06-.94-.94-2.06-.94 2.06-2.06.94z\"/><path d=\"M17.41 7.96l-1.37-1.37c-.4-.4-.92-.59-1.43-.59-.52 0-1.04.2-1.43.59L10.3 9.45l-7.72 7.72c-.78.78-.78 2.05 0 2.83L4 21.41c.39.39.9.59 1.41.59.51 0 1.02-.2 1.41-.59l7.78-7.78 2.81-2.81c.8-.78.8-2.07 0-2.86zM5.41 20L4 18.59l7.72-7.72 1.47 1.35L5.41 20z\"/>\n",
       "  </svg>\n",
       "      </button>\n",
       "      \n",
       "  <style>\n",
       "    .colab-df-container {\n",
       "      display:flex;\n",
       "      flex-wrap:wrap;\n",
       "      gap: 12px;\n",
       "    }\n",
       "\n",
       "    .colab-df-convert {\n",
       "      background-color: #E8F0FE;\n",
       "      border: none;\n",
       "      border-radius: 50%;\n",
       "      cursor: pointer;\n",
       "      display: none;\n",
       "      fill: #1967D2;\n",
       "      height: 32px;\n",
       "      padding: 0 0 0 0;\n",
       "      width: 32px;\n",
       "    }\n",
       "\n",
       "    .colab-df-convert:hover {\n",
       "      background-color: #E2EBFA;\n",
       "      box-shadow: 0px 1px 2px rgba(60, 64, 67, 0.3), 0px 1px 3px 1px rgba(60, 64, 67, 0.15);\n",
       "      fill: #174EA6;\n",
       "    }\n",
       "\n",
       "    [theme=dark] .colab-df-convert {\n",
       "      background-color: #3B4455;\n",
       "      fill: #D2E3FC;\n",
       "    }\n",
       "\n",
       "    [theme=dark] .colab-df-convert:hover {\n",
       "      background-color: #434B5C;\n",
       "      box-shadow: 0px 1px 3px 1px rgba(0, 0, 0, 0.15);\n",
       "      filter: drop-shadow(0px 1px 2px rgba(0, 0, 0, 0.3));\n",
       "      fill: #FFFFFF;\n",
       "    }\n",
       "  </style>\n",
       "\n",
       "      <script>\n",
       "        const buttonEl =\n",
       "          document.querySelector('#df-48f6e26b-a51e-46bd-84da-bcd62f0fb0ad button.colab-df-convert');\n",
       "        buttonEl.style.display =\n",
       "          google.colab.kernel.accessAllowed ? 'block' : 'none';\n",
       "\n",
       "        async function convertToInteractive(key) {\n",
       "          const element = document.querySelector('#df-48f6e26b-a51e-46bd-84da-bcd62f0fb0ad');\n",
       "          const dataTable =\n",
       "            await google.colab.kernel.invokeFunction('convertToInteractive',\n",
       "                                                     [key], {});\n",
       "          if (!dataTable) return;\n",
       "\n",
       "          const docLinkHtml = 'Like what you see? Visit the ' +\n",
       "            '<a target=\"_blank\" href=https://colab.research.google.com/notebooks/data_table.ipynb>data table notebook</a>'\n",
       "            + ' to learn more about interactive tables.';\n",
       "          element.innerHTML = '';\n",
       "          dataTable['output_type'] = 'display_data';\n",
       "          await google.colab.output.renderOutput(dataTable, element);\n",
       "          const docLink = document.createElement('div');\n",
       "          docLink.innerHTML = docLinkHtml;\n",
       "          element.appendChild(docLink);\n",
       "        }\n",
       "      </script>\n",
       "    </div>\n",
       "  </div>\n",
       "  "
      ],
      "text/plain": [
       "            id                      C_id                  Data  \\\n",
       "0  jBulntGrnPE  UCQzdMyuz0Lf4zo4uGcEujFw  2022-09-19T02:00:12Z   \n",
       "1  c4Dt6F0ykvA  UCDVYQ4Zhbm3S2dlz7P1GBDg  2022-09-18T20:37:55Z   \n",
       "\n",
       "                                              Título  \n",
       "0  Season 1 Episode 6 Preview | House of the Drag...  \n",
       "1  Miami Dolphins vs. Baltimore Ravens | 2022 Wee...  "
      ]
     },
     "execution_count": 24,
     "metadata": {},
     "output_type": "execute_result"
    }
   ],
   "source": [
    "pd_normalize.head(2)"
   ]
  },
  {
   "cell_type": "code",
   "execution_count": null,
   "metadata": {
    "id": "oTEekuQaQFKn"
   },
   "outputs": [],
   "source": [
    "a=list(pd_stats['id'])\n"
   ]
  },
  {
   "cell_type": "code",
   "execution_count": null,
   "metadata": {
    "id": "ha8NyOfrZzoN"
   },
   "outputs": [],
   "source": [
    "Cid=[list(pd_normalize.loc[pd_normalize['id']==a[i]]['C_id'])[0] for i in range(len(a))]"
   ]
  },
  {
   "cell_type": "code",
   "execution_count": null,
   "metadata": {
    "id": "KbxapLLaXmFj"
   },
   "outputs": [],
   "source": [
    "Data=[list(pd_normalize.loc[pd_normalize['id']==a[i]]['Data'])[0] for i in range(len(a))]\n"
   ]
  },
  {
   "cell_type": "code",
   "execution_count": null,
   "metadata": {
    "id": "GetTuRl-YN9_"
   },
   "outputs": [],
   "source": [
    "Titulo=[list(pd_normalize.loc[pd_normalize['id']==a[i]]['Título'])[0] for i in range(len(a))]"
   ]
  },
  {
   "cell_type": "code",
   "execution_count": null,
   "metadata": {
    "colab": {
     "base_uri": "https://localhost:8080/"
    },
    "executionInfo": {
     "elapsed": 116,
     "status": "ok",
     "timestamp": 1663612421286,
     "user": {
      "displayName": "Brayan Mauricio Rodríguez Garzónn",
      "userId": "05435019562705070299"
     },
     "user_tz": 180
    },
    "id": "4-7ljpYOJdSa",
    "outputId": "2a634a89-2a59-4700-caa2-bac7bd44c830"
   },
   "outputs": [
    {
     "data": {
      "text/plain": [
       "4958"
      ]
     },
     "execution_count": 29,
     "metadata": {},
     "output_type": "execute_result"
    }
   ],
   "source": [
    "len(pd_stats)"
   ]
  },
  {
   "cell_type": "code",
   "execution_count": null,
   "metadata": {
    "id": "01rAFnOqaKAC"
   },
   "outputs": [],
   "source": [
    "pd_stats['C_id']=Cid"
   ]
  },
  {
   "cell_type": "code",
   "execution_count": null,
   "metadata": {
    "id": "24CSo3OTao6s"
   },
   "outputs": [],
   "source": [
    "pd_stats['Data']=Data"
   ]
  },
  {
   "cell_type": "code",
   "execution_count": null,
   "metadata": {
    "id": "btA9S9hwaAhC"
   },
   "outputs": [],
   "source": [
    "pd_stats['Titulo']=Titulo"
   ]
  },
  {
   "cell_type": "code",
   "execution_count": null,
   "metadata": {
    "colab": {
     "base_uri": "https://localhost:8080/"
    },
    "executionInfo": {
     "elapsed": 109,
     "status": "ok",
     "timestamp": 1663612421313,
     "user": {
      "displayName": "Brayan Mauricio Rodríguez Garzónn",
      "userId": "05435019562705070299"
     },
     "user_tz": 180
    },
    "id": "xlg8-U3jaFCW",
    "outputId": "e4cc7581-1cac-448a-ac51-65fd4b19ad88"
   },
   "outputs": [
    {
     "data": {
      "text/html": [
       "\n",
       "  <div id=\"df-546700d5-123e-4d44-b904-9f4dbdfbd131\">\n",
       "    <div class=\"colab-df-container\">\n",
       "      <div>\n",
       "<style scoped>\n",
       "    .dataframe tbody tr th:only-of-type {\n",
       "        vertical-align: middle;\n",
       "    }\n",
       "\n",
       "    .dataframe tbody tr th {\n",
       "        vertical-align: top;\n",
       "    }\n",
       "\n",
       "    .dataframe thead th {\n",
       "        text-align: right;\n",
       "    }\n",
       "</style>\n",
       "<table border=\"1\" class=\"dataframe\">\n",
       "  <thead>\n",
       "    <tr style=\"text-align: right;\">\n",
       "      <th></th>\n",
       "      <th>id</th>\n",
       "      <th>Vistas</th>\n",
       "      <th>likes</th>\n",
       "      <th>Comentarios</th>\n",
       "      <th>C_id</th>\n",
       "      <th>Data</th>\n",
       "      <th>Titulo</th>\n",
       "    </tr>\n",
       "  </thead>\n",
       "  <tbody>\n",
       "    <tr>\n",
       "      <th>0</th>\n",
       "      <td>jBulntGrnPE</td>\n",
       "      <td>1814472</td>\n",
       "      <td>39294.0</td>\n",
       "      <td>3580.0</td>\n",
       "      <td>UCQzdMyuz0Lf4zo4uGcEujFw</td>\n",
       "      <td>2022-09-19T02:00:12Z</td>\n",
       "      <td>Season 1 Episode 6 Preview | House of the Drag...</td>\n",
       "    </tr>\n",
       "    <tr>\n",
       "      <th>1</th>\n",
       "      <td>c4Dt6F0ykvA</td>\n",
       "      <td>2074130</td>\n",
       "      <td>42979.0</td>\n",
       "      <td>0.0</td>\n",
       "      <td>UCDVYQ4Zhbm3S2dlz7P1GBDg</td>\n",
       "      <td>2022-09-18T20:37:55Z</td>\n",
       "      <td>Miami Dolphins vs. Baltimore Ravens | 2022 Wee...</td>\n",
       "    </tr>\n",
       "  </tbody>\n",
       "</table>\n",
       "</div>\n",
       "      <button class=\"colab-df-convert\" onclick=\"convertToInteractive('df-546700d5-123e-4d44-b904-9f4dbdfbd131')\"\n",
       "              title=\"Convert this dataframe to an interactive table.\"\n",
       "              style=\"display:none;\">\n",
       "        \n",
       "  <svg xmlns=\"http://www.w3.org/2000/svg\" height=\"24px\"viewBox=\"0 0 24 24\"\n",
       "       width=\"24px\">\n",
       "    <path d=\"M0 0h24v24H0V0z\" fill=\"none\"/>\n",
       "    <path d=\"M18.56 5.44l.94 2.06.94-2.06 2.06-.94-2.06-.94-.94-2.06-.94 2.06-2.06.94zm-11 1L8.5 8.5l.94-2.06 2.06-.94-2.06-.94L8.5 2.5l-.94 2.06-2.06.94zm10 10l.94 2.06.94-2.06 2.06-.94-2.06-.94-.94-2.06-.94 2.06-2.06.94z\"/><path d=\"M17.41 7.96l-1.37-1.37c-.4-.4-.92-.59-1.43-.59-.52 0-1.04.2-1.43.59L10.3 9.45l-7.72 7.72c-.78.78-.78 2.05 0 2.83L4 21.41c.39.39.9.59 1.41.59.51 0 1.02-.2 1.41-.59l7.78-7.78 2.81-2.81c.8-.78.8-2.07 0-2.86zM5.41 20L4 18.59l7.72-7.72 1.47 1.35L5.41 20z\"/>\n",
       "  </svg>\n",
       "      </button>\n",
       "      \n",
       "  <style>\n",
       "    .colab-df-container {\n",
       "      display:flex;\n",
       "      flex-wrap:wrap;\n",
       "      gap: 12px;\n",
       "    }\n",
       "\n",
       "    .colab-df-convert {\n",
       "      background-color: #E8F0FE;\n",
       "      border: none;\n",
       "      border-radius: 50%;\n",
       "      cursor: pointer;\n",
       "      display: none;\n",
       "      fill: #1967D2;\n",
       "      height: 32px;\n",
       "      padding: 0 0 0 0;\n",
       "      width: 32px;\n",
       "    }\n",
       "\n",
       "    .colab-df-convert:hover {\n",
       "      background-color: #E2EBFA;\n",
       "      box-shadow: 0px 1px 2px rgba(60, 64, 67, 0.3), 0px 1px 3px 1px rgba(60, 64, 67, 0.15);\n",
       "      fill: #174EA6;\n",
       "    }\n",
       "\n",
       "    [theme=dark] .colab-df-convert {\n",
       "      background-color: #3B4455;\n",
       "      fill: #D2E3FC;\n",
       "    }\n",
       "\n",
       "    [theme=dark] .colab-df-convert:hover {\n",
       "      background-color: #434B5C;\n",
       "      box-shadow: 0px 1px 3px 1px rgba(0, 0, 0, 0.15);\n",
       "      filter: drop-shadow(0px 1px 2px rgba(0, 0, 0, 0.3));\n",
       "      fill: #FFFFFF;\n",
       "    }\n",
       "  </style>\n",
       "\n",
       "      <script>\n",
       "        const buttonEl =\n",
       "          document.querySelector('#df-546700d5-123e-4d44-b904-9f4dbdfbd131 button.colab-df-convert');\n",
       "        buttonEl.style.display =\n",
       "          google.colab.kernel.accessAllowed ? 'block' : 'none';\n",
       "\n",
       "        async function convertToInteractive(key) {\n",
       "          const element = document.querySelector('#df-546700d5-123e-4d44-b904-9f4dbdfbd131');\n",
       "          const dataTable =\n",
       "            await google.colab.kernel.invokeFunction('convertToInteractive',\n",
       "                                                     [key], {});\n",
       "          if (!dataTable) return;\n",
       "\n",
       "          const docLinkHtml = 'Like what you see? Visit the ' +\n",
       "            '<a target=\"_blank\" href=https://colab.research.google.com/notebooks/data_table.ipynb>data table notebook</a>'\n",
       "            + ' to learn more about interactive tables.';\n",
       "          element.innerHTML = '';\n",
       "          dataTable['output_type'] = 'display_data';\n",
       "          await google.colab.output.renderOutput(dataTable, element);\n",
       "          const docLink = document.createElement('div');\n",
       "          docLink.innerHTML = docLinkHtml;\n",
       "          element.appendChild(docLink);\n",
       "        }\n",
       "      </script>\n",
       "    </div>\n",
       "  </div>\n",
       "  "
      ],
      "text/plain": [
       "            id   Vistas    likes  Comentarios                      C_id  \\\n",
       "0  jBulntGrnPE  1814472  39294.0       3580.0  UCQzdMyuz0Lf4zo4uGcEujFw   \n",
       "1  c4Dt6F0ykvA  2074130  42979.0          0.0  UCDVYQ4Zhbm3S2dlz7P1GBDg   \n",
       "\n",
       "                   Data                                             Titulo  \n",
       "0  2022-09-19T02:00:12Z  Season 1 Episode 6 Preview | House of the Drag...  \n",
       "1  2022-09-18T20:37:55Z  Miami Dolphins vs. Baltimore Ravens | 2022 Wee...  "
      ]
     },
     "execution_count": 33,
     "metadata": {},
     "output_type": "execute_result"
    }
   ],
   "source": [
    "pd_stats.head(2)"
   ]
  },
  {
   "cell_type": "markdown",
   "metadata": {
    "id": "pUI9K0abfr4C"
   },
   "source": [
    "Trazendo os canais"
   ]
  },
  {
   "cell_type": "code",
   "execution_count": null,
   "metadata": {
    "colab": {
     "base_uri": "https://localhost:8080/"
    },
    "executionInfo": {
     "elapsed": 105,
     "status": "ok",
     "timestamp": 1663612421316,
     "user": {
      "displayName": "Brayan Mauricio Rodríguez Garzónn",
      "userId": "05435019562705070299"
     },
     "user_tz": 180
    },
    "id": "G7Ok74qPgezZ",
    "outputId": "fdbd8f61-5e0b-4c3f-be30-dc3b3467b49a"
   },
   "outputs": [
    {
     "data": {
      "text/plain": [
       "numpy.ndarray"
      ]
     },
     "execution_count": 34,
     "metadata": {},
     "output_type": "execute_result"
    }
   ],
   "source": [
    "type(pd_stats['C_id'].unique())"
   ]
  },
  {
   "cell_type": "code",
   "execution_count": null,
   "metadata": {
    "colab": {
     "base_uri": "https://localhost:8080/"
    },
    "executionInfo": {
     "elapsed": 103,
     "status": "ok",
     "timestamp": 1663612421319,
     "user": {
      "displayName": "Brayan Mauricio Rodríguez Garzónn",
      "userId": "05435019562705070299"
     },
     "user_tz": 180
    },
    "id": "zix6NCl4fu7K",
    "outputId": "6ba38123-c5c3-48a4-cb51-fd10281b93de"
   },
   "outputs": [
    {
     "data": {
      "application/vnd.google.colaboratory.intrinsic+json": {
       "type": "string"
      },
      "text/plain": [
       "'UCQzdMyuz0Lf4zo4uGcEujFw'"
      ]
     },
     "execution_count": 35,
     "metadata": {},
     "output_type": "execute_result"
    }
   ],
   "source": [
    "channels_id=list(pd_stats['C_id'])\n",
    "channels_id[0]"
   ]
  },
  {
   "cell_type": "code",
   "execution_count": null,
   "metadata": {
    "colab": {
     "base_uri": "https://localhost:8080/"
    },
    "executionInfo": {
     "elapsed": 100,
     "status": "ok",
     "timestamp": 1663612421321,
     "user": {
      "displayName": "Brayan Mauricio Rodríguez Garzónn",
      "userId": "05435019562705070299"
     },
     "user_tz": 180
    },
    "id": "m0lC5d_wMQOI",
    "outputId": "c33578c8-79d4-4c72-e343-9a240d5ef161"
   },
   "outputs": [
    {
     "data": {
      "text/plain": [
       "4958"
      ]
     },
     "execution_count": 36,
     "metadata": {},
     "output_type": "execute_result"
    }
   ],
   "source": [
    "len(channels_id)"
   ]
  },
  {
   "cell_type": "code",
   "execution_count": null,
   "metadata": {
    "id": "R3pa1ZWPgA7r"
   },
   "outputs": [],
   "source": [
    "channels=[]\n",
    "for i in channels_id:\n",
    "  request = youtube_um.channels().list(\n",
    "            part=\"snippet,contentDetails,statistics\",\n",
    "            id=i\n",
    "        )\n",
    "  response = request.execute()\n",
    "  channels+=response['items']"
   ]
  },
  {
   "cell_type": "code",
   "execution_count": null,
   "metadata": {
    "colab": {
     "base_uri": "https://localhost:8080/"
    },
    "executionInfo": {
     "elapsed": 86,
     "status": "ok",
     "timestamp": 1663612565319,
     "user": {
      "displayName": "Brayan Mauricio Rodríguez Garzónn",
      "userId": "05435019562705070299"
     },
     "user_tz": 180
    },
    "id": "j-eeO3ltj_4f",
    "outputId": "d1ad623c-8282-497e-c539-3291de572ef8"
   },
   "outputs": [
    {
     "data": {
      "text/html": [
       "\n",
       "  <div id=\"df-4c515da1-7c85-4d54-9666-5675af2dea89\">\n",
       "    <div class=\"colab-df-container\">\n",
       "      <div>\n",
       "<style scoped>\n",
       "    .dataframe tbody tr th:only-of-type {\n",
       "        vertical-align: middle;\n",
       "    }\n",
       "\n",
       "    .dataframe tbody tr th {\n",
       "        vertical-align: top;\n",
       "    }\n",
       "\n",
       "    .dataframe thead th {\n",
       "        text-align: right;\n",
       "    }\n",
       "</style>\n",
       "<table border=\"1\" class=\"dataframe\">\n",
       "  <thead>\n",
       "    <tr style=\"text-align: right;\">\n",
       "      <th></th>\n",
       "      <th>C_id</th>\n",
       "      <th>Data</th>\n",
       "      <th>C_Titulo</th>\n",
       "      <th>Pais</th>\n",
       "      <th>Vistas</th>\n",
       "      <th>Subscriptores</th>\n",
       "      <th>No Videos</th>\n",
       "    </tr>\n",
       "  </thead>\n",
       "  <tbody>\n",
       "    <tr>\n",
       "      <th>0</th>\n",
       "      <td>UCQzdMyuz0Lf4zo4uGcEujFw</td>\n",
       "      <td>2007-09-29T02:50:52Z</td>\n",
       "      <td>GameofThrones</td>\n",
       "      <td>NaN</td>\n",
       "      <td>1242804282</td>\n",
       "      <td>4680000</td>\n",
       "      <td>891</td>\n",
       "    </tr>\n",
       "    <tr>\n",
       "      <th>1</th>\n",
       "      <td>UCDVYQ4Zhbm3S2dlz7P1GBDg</td>\n",
       "      <td>2014-12-14T02:07:35Z</td>\n",
       "      <td>NFL</td>\n",
       "      <td>NaN</td>\n",
       "      <td>7095782393</td>\n",
       "      <td>9760000</td>\n",
       "      <td>26065</td>\n",
       "    </tr>\n",
       "    <tr>\n",
       "      <th>2</th>\n",
       "      <td>UCDVYQ4Zhbm3S2dlz7P1GBDg</td>\n",
       "      <td>2014-12-14T02:07:35Z</td>\n",
       "      <td>NFL</td>\n",
       "      <td>NaN</td>\n",
       "      <td>7095782393</td>\n",
       "      <td>9760000</td>\n",
       "      <td>26065</td>\n",
       "    </tr>\n",
       "    <tr>\n",
       "      <th>3</th>\n",
       "      <td>UCaXkIU1QidjPwiAYu6GcHjg</td>\n",
       "      <td>2011-12-01T19:16:09Z</td>\n",
       "      <td>MSNBC</td>\n",
       "      <td>NaN</td>\n",
       "      <td>8682222509</td>\n",
       "      <td>5220000</td>\n",
       "      <td>58189</td>\n",
       "    </tr>\n",
       "    <tr>\n",
       "      <th>4</th>\n",
       "      <td>UCTrQ7HXWRRxr7OsOtodr2_w</td>\n",
       "      <td>2006-07-05T23:18:56Z</td>\n",
       "      <td>Channel 4 News</td>\n",
       "      <td>GB</td>\n",
       "      <td>1158211532</td>\n",
       "      <td>2260000</td>\n",
       "      <td>13383</td>\n",
       "    </tr>\n",
       "    <tr>\n",
       "      <th>...</th>\n",
       "      <td>...</td>\n",
       "      <td>...</td>\n",
       "      <td>...</td>\n",
       "      <td>...</td>\n",
       "      <td>...</td>\n",
       "      <td>...</td>\n",
       "      <td>...</td>\n",
       "    </tr>\n",
       "    <tr>\n",
       "      <th>4953</th>\n",
       "      <td>UCj-RTZE-V3Q6jleatRR9k2A</td>\n",
       "      <td>2012-08-24T22:35:33Z</td>\n",
       "      <td>O POVO Online</td>\n",
       "      <td>BR</td>\n",
       "      <td>134983775</td>\n",
       "      <td>455000</td>\n",
       "      <td>9942</td>\n",
       "    </tr>\n",
       "    <tr>\n",
       "      <th>4954</th>\n",
       "      <td>UC11JFCoslUUMTuAsUPH8RdQ</td>\n",
       "      <td>2015-11-04T16:46:54Z</td>\n",
       "      <td>Humor Multishow</td>\n",
       "      <td>BR</td>\n",
       "      <td>3067890839</td>\n",
       "      <td>7560000</td>\n",
       "      <td>5104</td>\n",
       "    </tr>\n",
       "    <tr>\n",
       "      <th>4955</th>\n",
       "      <td>UCaXkIU1QidjPwiAYu6GcHjg</td>\n",
       "      <td>2011-12-01T19:16:09Z</td>\n",
       "      <td>MSNBC</td>\n",
       "      <td>NaN</td>\n",
       "      <td>8682222509</td>\n",
       "      <td>5220000</td>\n",
       "      <td>58189</td>\n",
       "    </tr>\n",
       "    <tr>\n",
       "      <th>4956</th>\n",
       "      <td>UCIu9zJq00ev2xj37kvyHtZQ</td>\n",
       "      <td>2015-02-03T19:23:32Z</td>\n",
       "      <td>Beyaz Futbol</td>\n",
       "      <td>TR</td>\n",
       "      <td>305873491</td>\n",
       "      <td>504000</td>\n",
       "      <td>4063</td>\n",
       "    </tr>\n",
       "    <tr>\n",
       "      <th>4957</th>\n",
       "      <td>UC48h7Dst_hX82HxOf3xJw_w</td>\n",
       "      <td>2014-05-29T07:24:43Z</td>\n",
       "      <td>Ch3Thailand</td>\n",
       "      <td>TH</td>\n",
       "      <td>20740290137</td>\n",
       "      <td>32000000</td>\n",
       "      <td>75441</td>\n",
       "    </tr>\n",
       "  </tbody>\n",
       "</table>\n",
       "<p>4958 rows × 7 columns</p>\n",
       "</div>\n",
       "      <button class=\"colab-df-convert\" onclick=\"convertToInteractive('df-4c515da1-7c85-4d54-9666-5675af2dea89')\"\n",
       "              title=\"Convert this dataframe to an interactive table.\"\n",
       "              style=\"display:none;\">\n",
       "        \n",
       "  <svg xmlns=\"http://www.w3.org/2000/svg\" height=\"24px\"viewBox=\"0 0 24 24\"\n",
       "       width=\"24px\">\n",
       "    <path d=\"M0 0h24v24H0V0z\" fill=\"none\"/>\n",
       "    <path d=\"M18.56 5.44l.94 2.06.94-2.06 2.06-.94-2.06-.94-.94-2.06-.94 2.06-2.06.94zm-11 1L8.5 8.5l.94-2.06 2.06-.94-2.06-.94L8.5 2.5l-.94 2.06-2.06.94zm10 10l.94 2.06.94-2.06 2.06-.94-2.06-.94-.94-2.06-.94 2.06-2.06.94z\"/><path d=\"M17.41 7.96l-1.37-1.37c-.4-.4-.92-.59-1.43-.59-.52 0-1.04.2-1.43.59L10.3 9.45l-7.72 7.72c-.78.78-.78 2.05 0 2.83L4 21.41c.39.39.9.59 1.41.59.51 0 1.02-.2 1.41-.59l7.78-7.78 2.81-2.81c.8-.78.8-2.07 0-2.86zM5.41 20L4 18.59l7.72-7.72 1.47 1.35L5.41 20z\"/>\n",
       "  </svg>\n",
       "      </button>\n",
       "      \n",
       "  <style>\n",
       "    .colab-df-container {\n",
       "      display:flex;\n",
       "      flex-wrap:wrap;\n",
       "      gap: 12px;\n",
       "    }\n",
       "\n",
       "    .colab-df-convert {\n",
       "      background-color: #E8F0FE;\n",
       "      border: none;\n",
       "      border-radius: 50%;\n",
       "      cursor: pointer;\n",
       "      display: none;\n",
       "      fill: #1967D2;\n",
       "      height: 32px;\n",
       "      padding: 0 0 0 0;\n",
       "      width: 32px;\n",
       "    }\n",
       "\n",
       "    .colab-df-convert:hover {\n",
       "      background-color: #E2EBFA;\n",
       "      box-shadow: 0px 1px 2px rgba(60, 64, 67, 0.3), 0px 1px 3px 1px rgba(60, 64, 67, 0.15);\n",
       "      fill: #174EA6;\n",
       "    }\n",
       "\n",
       "    [theme=dark] .colab-df-convert {\n",
       "      background-color: #3B4455;\n",
       "      fill: #D2E3FC;\n",
       "    }\n",
       "\n",
       "    [theme=dark] .colab-df-convert:hover {\n",
       "      background-color: #434B5C;\n",
       "      box-shadow: 0px 1px 3px 1px rgba(0, 0, 0, 0.15);\n",
       "      filter: drop-shadow(0px 1px 2px rgba(0, 0, 0, 0.3));\n",
       "      fill: #FFFFFF;\n",
       "    }\n",
       "  </style>\n",
       "\n",
       "      <script>\n",
       "        const buttonEl =\n",
       "          document.querySelector('#df-4c515da1-7c85-4d54-9666-5675af2dea89 button.colab-df-convert');\n",
       "        buttonEl.style.display =\n",
       "          google.colab.kernel.accessAllowed ? 'block' : 'none';\n",
       "\n",
       "        async function convertToInteractive(key) {\n",
       "          const element = document.querySelector('#df-4c515da1-7c85-4d54-9666-5675af2dea89');\n",
       "          const dataTable =\n",
       "            await google.colab.kernel.invokeFunction('convertToInteractive',\n",
       "                                                     [key], {});\n",
       "          if (!dataTable) return;\n",
       "\n",
       "          const docLinkHtml = 'Like what you see? Visit the ' +\n",
       "            '<a target=\"_blank\" href=https://colab.research.google.com/notebooks/data_table.ipynb>data table notebook</a>'\n",
       "            + ' to learn more about interactive tables.';\n",
       "          element.innerHTML = '';\n",
       "          dataTable['output_type'] = 'display_data';\n",
       "          await google.colab.output.renderOutput(dataTable, element);\n",
       "          const docLink = document.createElement('div');\n",
       "          docLink.innerHTML = docLinkHtml;\n",
       "          element.appendChild(docLink);\n",
       "        }\n",
       "      </script>\n",
       "    </div>\n",
       "  </div>\n",
       "  "
      ],
      "text/plain": [
       "                          C_id                  Data         C_Titulo Pais  \\\n",
       "0     UCQzdMyuz0Lf4zo4uGcEujFw  2007-09-29T02:50:52Z    GameofThrones  NaN   \n",
       "1     UCDVYQ4Zhbm3S2dlz7P1GBDg  2014-12-14T02:07:35Z              NFL  NaN   \n",
       "2     UCDVYQ4Zhbm3S2dlz7P1GBDg  2014-12-14T02:07:35Z              NFL  NaN   \n",
       "3     UCaXkIU1QidjPwiAYu6GcHjg  2011-12-01T19:16:09Z            MSNBC  NaN   \n",
       "4     UCTrQ7HXWRRxr7OsOtodr2_w  2006-07-05T23:18:56Z   Channel 4 News   GB   \n",
       "...                        ...                   ...              ...  ...   \n",
       "4953  UCj-RTZE-V3Q6jleatRR9k2A  2012-08-24T22:35:33Z    O POVO Online   BR   \n",
       "4954  UC11JFCoslUUMTuAsUPH8RdQ  2015-11-04T16:46:54Z  Humor Multishow   BR   \n",
       "4955  UCaXkIU1QidjPwiAYu6GcHjg  2011-12-01T19:16:09Z            MSNBC  NaN   \n",
       "4956  UCIu9zJq00ev2xj37kvyHtZQ  2015-02-03T19:23:32Z     Beyaz Futbol   TR   \n",
       "4957  UC48h7Dst_hX82HxOf3xJw_w  2014-05-29T07:24:43Z      Ch3Thailand   TH   \n",
       "\n",
       "           Vistas Subscriptores No Videos  \n",
       "0      1242804282       4680000       891  \n",
       "1      7095782393       9760000     26065  \n",
       "2      7095782393       9760000     26065  \n",
       "3      8682222509       5220000     58189  \n",
       "4      1158211532       2260000     13383  \n",
       "...           ...           ...       ...  \n",
       "4953    134983775        455000      9942  \n",
       "4954   3067890839       7560000      5104  \n",
       "4955   8682222509       5220000     58189  \n",
       "4956    305873491        504000      4063  \n",
       "4957  20740290137      32000000     75441  \n",
       "\n",
       "[4958 rows x 7 columns]"
      ]
     },
     "execution_count": 38,
     "metadata": {},
     "output_type": "execute_result"
    }
   ],
   "source": [
    "d={'canal':channels}\n",
    "df=pd.DataFrame(d)\n",
    "pd_normalize=pd.json_normalize(df['canal'])\n",
    "pd_normalize=pd_normalize[['id','snippet.publishedAt','snippet.title','snippet.country','statistics.viewCount','statistics.subscriberCount','statistics.videoCount']]\n",
    "pd_normalize.rename(columns={'id':'C_id','snippet.publishedAt':'Data','snippet.title':'C_Titulo','snippet.country':'Pais','statistics.viewCount':'Vistas','statistics.subscriberCount':'Subscriptores','statistics.videoCount':'No Videos'},inplace=True)\n",
    "pd_normalize"
   ]
  },
  {
   "cell_type": "code",
   "execution_count": null,
   "metadata": {
    "id": "ggFfD5Dco2l1"
   },
   "outputs": [],
   "source": [
    "pd_normalize['Vistas']=pd.to_numeric(pd_normalize['Vistas'],errors='coerce',downcast=\"integer\")\n",
    "pd_normalize['Subscriptores']=pd.to_numeric(pd_normalize['Subscriptores'],errors='coerce',downcast=\"integer\")\n",
    "pd_normalize['No Videos']=pd.to_numeric(pd_normalize['No Videos'],errors='coerce',downcast=\"integer\")"
   ]
  },
  {
   "cell_type": "code",
   "execution_count": null,
   "metadata": {
    "colab": {
     "base_uri": "https://localhost:8080/"
    },
    "executionInfo": {
     "elapsed": 655,
     "status": "ok",
     "timestamp": 1663612565911,
     "user": {
      "displayName": "Brayan Mauricio Rodríguez Garzónn",
      "userId": "05435019562705070299"
     },
     "user_tz": 180
    },
    "id": "Pr8tdXrjoqRu",
    "outputId": "ce405b99-e951-472d-8d78-7089f3e2c8c0"
   },
   "outputs": [
    {
     "data": {
      "text/plain": [
       "C_id             object\n",
       "Data             object\n",
       "C_Titulo         object\n",
       "Pais             object\n",
       "Vistas            int64\n",
       "Subscriptores     int32\n",
       "No Videos         int32\n",
       "dtype: object"
      ]
     },
     "execution_count": 40,
     "metadata": {},
     "output_type": "execute_result"
    }
   ],
   "source": [
    "pd_normalize.dtypes"
   ]
  },
  {
   "cell_type": "code",
   "execution_count": null,
   "metadata": {
    "colab": {
     "base_uri": "https://localhost:8080/"
    },
    "executionInfo": {
     "elapsed": 100,
     "status": "ok",
     "timestamp": 1663612565919,
     "user": {
      "displayName": "Brayan Mauricio Rodríguez Garzónn",
      "userId": "05435019562705070299"
     },
     "user_tz": 180
    },
    "id": "U8r6Xd0MpV4l",
    "outputId": "aff2de15-f3db-4e40-bab2-6391c39f6459"
   },
   "outputs": [
    {
     "data": {
      "text/html": [
       "\n",
       "  <div id=\"df-3815a79a-2e6f-4230-983e-343fba66de59\">\n",
       "    <div class=\"colab-df-container\">\n",
       "      <div>\n",
       "<style scoped>\n",
       "    .dataframe tbody tr th:only-of-type {\n",
       "        vertical-align: middle;\n",
       "    }\n",
       "\n",
       "    .dataframe tbody tr th {\n",
       "        vertical-align: top;\n",
       "    }\n",
       "\n",
       "    .dataframe thead th {\n",
       "        text-align: right;\n",
       "    }\n",
       "</style>\n",
       "<table border=\"1\" class=\"dataframe\">\n",
       "  <thead>\n",
       "    <tr style=\"text-align: right;\">\n",
       "      <th></th>\n",
       "      <th>C_id</th>\n",
       "      <th>Data</th>\n",
       "      <th>C_Titulo</th>\n",
       "      <th>Pais</th>\n",
       "      <th>Vistas</th>\n",
       "      <th>Subscriptores</th>\n",
       "      <th>No Videos</th>\n",
       "    </tr>\n",
       "  </thead>\n",
       "  <tbody>\n",
       "    <tr>\n",
       "      <th>0</th>\n",
       "      <td>UCQzdMyuz0Lf4zo4uGcEujFw</td>\n",
       "      <td>2007-09-29T02:50:52Z</td>\n",
       "      <td>GameofThrones</td>\n",
       "      <td>NaN</td>\n",
       "      <td>1242804282</td>\n",
       "      <td>4680000</td>\n",
       "      <td>891</td>\n",
       "    </tr>\n",
       "  </tbody>\n",
       "</table>\n",
       "</div>\n",
       "      <button class=\"colab-df-convert\" onclick=\"convertToInteractive('df-3815a79a-2e6f-4230-983e-343fba66de59')\"\n",
       "              title=\"Convert this dataframe to an interactive table.\"\n",
       "              style=\"display:none;\">\n",
       "        \n",
       "  <svg xmlns=\"http://www.w3.org/2000/svg\" height=\"24px\"viewBox=\"0 0 24 24\"\n",
       "       width=\"24px\">\n",
       "    <path d=\"M0 0h24v24H0V0z\" fill=\"none\"/>\n",
       "    <path d=\"M18.56 5.44l.94 2.06.94-2.06 2.06-.94-2.06-.94-.94-2.06-.94 2.06-2.06.94zm-11 1L8.5 8.5l.94-2.06 2.06-.94-2.06-.94L8.5 2.5l-.94 2.06-2.06.94zm10 10l.94 2.06.94-2.06 2.06-.94-2.06-.94-.94-2.06-.94 2.06-2.06.94z\"/><path d=\"M17.41 7.96l-1.37-1.37c-.4-.4-.92-.59-1.43-.59-.52 0-1.04.2-1.43.59L10.3 9.45l-7.72 7.72c-.78.78-.78 2.05 0 2.83L4 21.41c.39.39.9.59 1.41.59.51 0 1.02-.2 1.41-.59l7.78-7.78 2.81-2.81c.8-.78.8-2.07 0-2.86zM5.41 20L4 18.59l7.72-7.72 1.47 1.35L5.41 20z\"/>\n",
       "  </svg>\n",
       "      </button>\n",
       "      \n",
       "  <style>\n",
       "    .colab-df-container {\n",
       "      display:flex;\n",
       "      flex-wrap:wrap;\n",
       "      gap: 12px;\n",
       "    }\n",
       "\n",
       "    .colab-df-convert {\n",
       "      background-color: #E8F0FE;\n",
       "      border: none;\n",
       "      border-radius: 50%;\n",
       "      cursor: pointer;\n",
       "      display: none;\n",
       "      fill: #1967D2;\n",
       "      height: 32px;\n",
       "      padding: 0 0 0 0;\n",
       "      width: 32px;\n",
       "    }\n",
       "\n",
       "    .colab-df-convert:hover {\n",
       "      background-color: #E2EBFA;\n",
       "      box-shadow: 0px 1px 2px rgba(60, 64, 67, 0.3), 0px 1px 3px 1px rgba(60, 64, 67, 0.15);\n",
       "      fill: #174EA6;\n",
       "    }\n",
       "\n",
       "    [theme=dark] .colab-df-convert {\n",
       "      background-color: #3B4455;\n",
       "      fill: #D2E3FC;\n",
       "    }\n",
       "\n",
       "    [theme=dark] .colab-df-convert:hover {\n",
       "      background-color: #434B5C;\n",
       "      box-shadow: 0px 1px 3px 1px rgba(0, 0, 0, 0.15);\n",
       "      filter: drop-shadow(0px 1px 2px rgba(0, 0, 0, 0.3));\n",
       "      fill: #FFFFFF;\n",
       "    }\n",
       "  </style>\n",
       "\n",
       "      <script>\n",
       "        const buttonEl =\n",
       "          document.querySelector('#df-3815a79a-2e6f-4230-983e-343fba66de59 button.colab-df-convert');\n",
       "        buttonEl.style.display =\n",
       "          google.colab.kernel.accessAllowed ? 'block' : 'none';\n",
       "\n",
       "        async function convertToInteractive(key) {\n",
       "          const element = document.querySelector('#df-3815a79a-2e6f-4230-983e-343fba66de59');\n",
       "          const dataTable =\n",
       "            await google.colab.kernel.invokeFunction('convertToInteractive',\n",
       "                                                     [key], {});\n",
       "          if (!dataTable) return;\n",
       "\n",
       "          const docLinkHtml = 'Like what you see? Visit the ' +\n",
       "            '<a target=\"_blank\" href=https://colab.research.google.com/notebooks/data_table.ipynb>data table notebook</a>'\n",
       "            + ' to learn more about interactive tables.';\n",
       "          element.innerHTML = '';\n",
       "          dataTable['output_type'] = 'display_data';\n",
       "          await google.colab.output.renderOutput(dataTable, element);\n",
       "          const docLink = document.createElement('div');\n",
       "          docLink.innerHTML = docLinkHtml;\n",
       "          element.appendChild(docLink);\n",
       "        }\n",
       "      </script>\n",
       "    </div>\n",
       "  </div>\n",
       "  "
      ],
      "text/plain": [
       "                       C_id                  Data       C_Titulo Pais  \\\n",
       "0  UCQzdMyuz0Lf4zo4uGcEujFw  2007-09-29T02:50:52Z  GameofThrones  NaN   \n",
       "\n",
       "       Vistas  Subscriptores  No Videos  \n",
       "0  1242804282        4680000        891  "
      ]
     },
     "execution_count": 41,
     "metadata": {},
     "output_type": "execute_result"
    }
   ],
   "source": [
    "pd_normalize.head(1)"
   ]
  },
  {
   "cell_type": "code",
   "execution_count": null,
   "metadata": {
    "id": "ZukjYHpUmnD7"
   },
   "outputs": [],
   "source": [
    "pd_stats[['C_Data','C_Titulo','Pais','C_Vistas','Subscriptores','No Videos']]=pd_normalize[['Data','C_Titulo','Pais','Vistas','Subscriptores','No Videos']]"
   ]
  },
  {
   "cell_type": "code",
   "execution_count": null,
   "metadata": {
    "colab": {
     "base_uri": "https://localhost:8080/"
    },
    "executionInfo": {
     "elapsed": 91,
     "status": "ok",
     "timestamp": 1663612565929,
     "user": {
      "displayName": "Brayan Mauricio Rodríguez Garzónn",
      "userId": "05435019562705070299"
     },
     "user_tz": 180
    },
    "id": "_aTYfg-upjYK",
    "outputId": "74dc44ec-2aeb-42ba-e0de-51b52710e9ea"
   },
   "outputs": [
    {
     "data": {
      "text/html": [
       "\n",
       "  <div id=\"df-96364be4-d439-4c7a-b46c-555032988955\">\n",
       "    <div class=\"colab-df-container\">\n",
       "      <div>\n",
       "<style scoped>\n",
       "    .dataframe tbody tr th:only-of-type {\n",
       "        vertical-align: middle;\n",
       "    }\n",
       "\n",
       "    .dataframe tbody tr th {\n",
       "        vertical-align: top;\n",
       "    }\n",
       "\n",
       "    .dataframe thead th {\n",
       "        text-align: right;\n",
       "    }\n",
       "</style>\n",
       "<table border=\"1\" class=\"dataframe\">\n",
       "  <thead>\n",
       "    <tr style=\"text-align: right;\">\n",
       "      <th></th>\n",
       "      <th>id</th>\n",
       "      <th>Vistas</th>\n",
       "      <th>likes</th>\n",
       "      <th>Comentarios</th>\n",
       "      <th>C_id</th>\n",
       "      <th>Data</th>\n",
       "      <th>Titulo</th>\n",
       "      <th>C_Data</th>\n",
       "      <th>C_Titulo</th>\n",
       "      <th>Pais</th>\n",
       "      <th>C_Vistas</th>\n",
       "      <th>Subscriptores</th>\n",
       "      <th>No Videos</th>\n",
       "    </tr>\n",
       "  </thead>\n",
       "  <tbody>\n",
       "    <tr>\n",
       "      <th>0</th>\n",
       "      <td>jBulntGrnPE</td>\n",
       "      <td>1814472</td>\n",
       "      <td>39294.0</td>\n",
       "      <td>3580.0</td>\n",
       "      <td>UCQzdMyuz0Lf4zo4uGcEujFw</td>\n",
       "      <td>2022-09-19T02:00:12Z</td>\n",
       "      <td>Season 1 Episode 6 Preview | House of the Drag...</td>\n",
       "      <td>2007-09-29T02:50:52Z</td>\n",
       "      <td>GameofThrones</td>\n",
       "      <td>NaN</td>\n",
       "      <td>1242804282</td>\n",
       "      <td>4680000</td>\n",
       "      <td>891</td>\n",
       "    </tr>\n",
       "    <tr>\n",
       "      <th>1</th>\n",
       "      <td>c4Dt6F0ykvA</td>\n",
       "      <td>2074130</td>\n",
       "      <td>42979.0</td>\n",
       "      <td>0.0</td>\n",
       "      <td>UCDVYQ4Zhbm3S2dlz7P1GBDg</td>\n",
       "      <td>2022-09-18T20:37:55Z</td>\n",
       "      <td>Miami Dolphins vs. Baltimore Ravens | 2022 Wee...</td>\n",
       "      <td>2014-12-14T02:07:35Z</td>\n",
       "      <td>NFL</td>\n",
       "      <td>NaN</td>\n",
       "      <td>7095782393</td>\n",
       "      <td>9760000</td>\n",
       "      <td>26065</td>\n",
       "    </tr>\n",
       "    <tr>\n",
       "      <th>2</th>\n",
       "      <td>E9jCNiad4kE</td>\n",
       "      <td>1606893</td>\n",
       "      <td>20502.0</td>\n",
       "      <td>0.0</td>\n",
       "      <td>UCDVYQ4Zhbm3S2dlz7P1GBDg</td>\n",
       "      <td>2022-09-18T20:27:23Z</td>\n",
       "      <td>Tampa Bay Buccaneers vs. New Orleans Saints | ...</td>\n",
       "      <td>2014-12-14T02:07:35Z</td>\n",
       "      <td>NFL</td>\n",
       "      <td>NaN</td>\n",
       "      <td>7095782393</td>\n",
       "      <td>9760000</td>\n",
       "      <td>26065</td>\n",
       "    </tr>\n",
       "    <tr>\n",
       "      <th>3</th>\n",
       "      <td>s3mx1GkEUys</td>\n",
       "      <td>537628</td>\n",
       "      <td>9297.0</td>\n",
       "      <td>3671.0</td>\n",
       "      <td>UCaXkIU1QidjPwiAYu6GcHjg</td>\n",
       "      <td>2022-09-19T02:00:22Z</td>\n",
       "      <td>Trump’s Indictment Is ‘Unavoidable’ In Mar-a-L...</td>\n",
       "      <td>2011-12-01T19:16:09Z</td>\n",
       "      <td>MSNBC</td>\n",
       "      <td>NaN</td>\n",
       "      <td>8682222509</td>\n",
       "      <td>5220000</td>\n",
       "      <td>58189</td>\n",
       "    </tr>\n",
       "    <tr>\n",
       "      <th>4</th>\n",
       "      <td>6v2IZnZp6Ak</td>\n",
       "      <td>1468015</td>\n",
       "      <td>10499.0</td>\n",
       "      <td>1817.0</td>\n",
       "      <td>UCTrQ7HXWRRxr7OsOtodr2_w</td>\n",
       "      <td>2022-09-18T17:56:16Z</td>\n",
       "      <td>Queen Elizabeth II: Final preparations made fo...</td>\n",
       "      <td>2006-07-05T23:18:56Z</td>\n",
       "      <td>Channel 4 News</td>\n",
       "      <td>GB</td>\n",
       "      <td>1158211532</td>\n",
       "      <td>2260000</td>\n",
       "      <td>13383</td>\n",
       "    </tr>\n",
       "    <tr>\n",
       "      <th>...</th>\n",
       "      <td>...</td>\n",
       "      <td>...</td>\n",
       "      <td>...</td>\n",
       "      <td>...</td>\n",
       "      <td>...</td>\n",
       "      <td>...</td>\n",
       "      <td>...</td>\n",
       "      <td>...</td>\n",
       "      <td>...</td>\n",
       "      <td>...</td>\n",
       "      <td>...</td>\n",
       "      <td>...</td>\n",
       "      <td>...</td>\n",
       "    </tr>\n",
       "    <tr>\n",
       "      <th>4953</th>\n",
       "      <td>HjPaGr87_Wc</td>\n",
       "      <td>11712</td>\n",
       "      <td>79.0</td>\n",
       "      <td>41.0</td>\n",
       "      <td>UCj-RTZE-V3Q6jleatRR9k2A</td>\n",
       "      <td>2022-09-18T18:26:24Z</td>\n",
       "      <td>Homem morre após levar chifrada durante tourad...</td>\n",
       "      <td>2012-08-24T22:35:33Z</td>\n",
       "      <td>O POVO Online</td>\n",
       "      <td>BR</td>\n",
       "      <td>134983775</td>\n",
       "      <td>455000</td>\n",
       "      <td>9942</td>\n",
       "    </tr>\n",
       "    <tr>\n",
       "      <th>4954</th>\n",
       "      <td>rroW976Rfgo</td>\n",
       "      <td>19155</td>\n",
       "      <td>616.0</td>\n",
       "      <td>20.0</td>\n",
       "      <td>UC11JFCoslUUMTuAsUPH8RdQ</td>\n",
       "      <td>2022-09-18T21:00:30Z</td>\n",
       "      <td>Luísa Sonza e PA, Carlinhos Maia bloqueado: as...</td>\n",
       "      <td>2015-11-04T16:46:54Z</td>\n",
       "      <td>Humor Multishow</td>\n",
       "      <td>BR</td>\n",
       "      <td>3067890839</td>\n",
       "      <td>7560000</td>\n",
       "      <td>5104</td>\n",
       "    </tr>\n",
       "    <tr>\n",
       "      <th>4955</th>\n",
       "      <td>CSW5mQ_att4</td>\n",
       "      <td>7223</td>\n",
       "      <td>177.0</td>\n",
       "      <td>227.0</td>\n",
       "      <td>UCaXkIU1QidjPwiAYu6GcHjg</td>\n",
       "      <td>2022-09-18T18:30:10Z</td>\n",
       "      <td>&amp;#39;Decent, Honorable And All About Service&amp;#...</td>\n",
       "      <td>2011-12-01T19:16:09Z</td>\n",
       "      <td>MSNBC</td>\n",
       "      <td>NaN</td>\n",
       "      <td>8682222509</td>\n",
       "      <td>5220000</td>\n",
       "      <td>58189</td>\n",
       "    </tr>\n",
       "    <tr>\n",
       "      <th>4956</th>\n",
       "      <td>qxuCW6ixfJw</td>\n",
       "      <td>122041</td>\n",
       "      <td>1842.0</td>\n",
       "      <td>330.0</td>\n",
       "      <td>UCIu9zJq00ev2xj37kvyHtZQ</td>\n",
       "      <td>2022-09-18T22:36:57Z</td>\n",
       "      <td>Beyaz Futbol 18 Eylül 2022 2.Kısım ( Fenerbahç...</td>\n",
       "      <td>2015-02-03T19:23:32Z</td>\n",
       "      <td>Beyaz Futbol</td>\n",
       "      <td>TR</td>\n",
       "      <td>305873491</td>\n",
       "      <td>504000</td>\n",
       "      <td>4063</td>\n",
       "    </tr>\n",
       "    <tr>\n",
       "      <th>4957</th>\n",
       "      <td>OT4GbT1x8Js</td>\n",
       "      <td>8848</td>\n",
       "      <td>278.0</td>\n",
       "      <td>1.0</td>\n",
       "      <td>UC48h7Dst_hX82HxOf3xJw_w</td>\n",
       "      <td>2022-09-19T02:00:06Z</td>\n",
       "      <td>ข้าไม่ใช่บัวผัน และท่านก็ไม่ใช่แสนเมือง #ภูตแม...</td>\n",
       "      <td>2014-05-29T07:24:43Z</td>\n",
       "      <td>Ch3Thailand</td>\n",
       "      <td>TH</td>\n",
       "      <td>20740290137</td>\n",
       "      <td>32000000</td>\n",
       "      <td>75441</td>\n",
       "    </tr>\n",
       "  </tbody>\n",
       "</table>\n",
       "<p>4958 rows × 13 columns</p>\n",
       "</div>\n",
       "      <button class=\"colab-df-convert\" onclick=\"convertToInteractive('df-96364be4-d439-4c7a-b46c-555032988955')\"\n",
       "              title=\"Convert this dataframe to an interactive table.\"\n",
       "              style=\"display:none;\">\n",
       "        \n",
       "  <svg xmlns=\"http://www.w3.org/2000/svg\" height=\"24px\"viewBox=\"0 0 24 24\"\n",
       "       width=\"24px\">\n",
       "    <path d=\"M0 0h24v24H0V0z\" fill=\"none\"/>\n",
       "    <path d=\"M18.56 5.44l.94 2.06.94-2.06 2.06-.94-2.06-.94-.94-2.06-.94 2.06-2.06.94zm-11 1L8.5 8.5l.94-2.06 2.06-.94-2.06-.94L8.5 2.5l-.94 2.06-2.06.94zm10 10l.94 2.06.94-2.06 2.06-.94-2.06-.94-.94-2.06-.94 2.06-2.06.94z\"/><path d=\"M17.41 7.96l-1.37-1.37c-.4-.4-.92-.59-1.43-.59-.52 0-1.04.2-1.43.59L10.3 9.45l-7.72 7.72c-.78.78-.78 2.05 0 2.83L4 21.41c.39.39.9.59 1.41.59.51 0 1.02-.2 1.41-.59l7.78-7.78 2.81-2.81c.8-.78.8-2.07 0-2.86zM5.41 20L4 18.59l7.72-7.72 1.47 1.35L5.41 20z\"/>\n",
       "  </svg>\n",
       "      </button>\n",
       "      \n",
       "  <style>\n",
       "    .colab-df-container {\n",
       "      display:flex;\n",
       "      flex-wrap:wrap;\n",
       "      gap: 12px;\n",
       "    }\n",
       "\n",
       "    .colab-df-convert {\n",
       "      background-color: #E8F0FE;\n",
       "      border: none;\n",
       "      border-radius: 50%;\n",
       "      cursor: pointer;\n",
       "      display: none;\n",
       "      fill: #1967D2;\n",
       "      height: 32px;\n",
       "      padding: 0 0 0 0;\n",
       "      width: 32px;\n",
       "    }\n",
       "\n",
       "    .colab-df-convert:hover {\n",
       "      background-color: #E2EBFA;\n",
       "      box-shadow: 0px 1px 2px rgba(60, 64, 67, 0.3), 0px 1px 3px 1px rgba(60, 64, 67, 0.15);\n",
       "      fill: #174EA6;\n",
       "    }\n",
       "\n",
       "    [theme=dark] .colab-df-convert {\n",
       "      background-color: #3B4455;\n",
       "      fill: #D2E3FC;\n",
       "    }\n",
       "\n",
       "    [theme=dark] .colab-df-convert:hover {\n",
       "      background-color: #434B5C;\n",
       "      box-shadow: 0px 1px 3px 1px rgba(0, 0, 0, 0.15);\n",
       "      filter: drop-shadow(0px 1px 2px rgba(0, 0, 0, 0.3));\n",
       "      fill: #FFFFFF;\n",
       "    }\n",
       "  </style>\n",
       "\n",
       "      <script>\n",
       "        const buttonEl =\n",
       "          document.querySelector('#df-96364be4-d439-4c7a-b46c-555032988955 button.colab-df-convert');\n",
       "        buttonEl.style.display =\n",
       "          google.colab.kernel.accessAllowed ? 'block' : 'none';\n",
       "\n",
       "        async function convertToInteractive(key) {\n",
       "          const element = document.querySelector('#df-96364be4-d439-4c7a-b46c-555032988955');\n",
       "          const dataTable =\n",
       "            await google.colab.kernel.invokeFunction('convertToInteractive',\n",
       "                                                     [key], {});\n",
       "          if (!dataTable) return;\n",
       "\n",
       "          const docLinkHtml = 'Like what you see? Visit the ' +\n",
       "            '<a target=\"_blank\" href=https://colab.research.google.com/notebooks/data_table.ipynb>data table notebook</a>'\n",
       "            + ' to learn more about interactive tables.';\n",
       "          element.innerHTML = '';\n",
       "          dataTable['output_type'] = 'display_data';\n",
       "          await google.colab.output.renderOutput(dataTable, element);\n",
       "          const docLink = document.createElement('div');\n",
       "          docLink.innerHTML = docLinkHtml;\n",
       "          element.appendChild(docLink);\n",
       "        }\n",
       "      </script>\n",
       "    </div>\n",
       "  </div>\n",
       "  "
      ],
      "text/plain": [
       "               id   Vistas    likes  Comentarios                      C_id  \\\n",
       "0     jBulntGrnPE  1814472  39294.0       3580.0  UCQzdMyuz0Lf4zo4uGcEujFw   \n",
       "1     c4Dt6F0ykvA  2074130  42979.0          0.0  UCDVYQ4Zhbm3S2dlz7P1GBDg   \n",
       "2     E9jCNiad4kE  1606893  20502.0          0.0  UCDVYQ4Zhbm3S2dlz7P1GBDg   \n",
       "3     s3mx1GkEUys   537628   9297.0       3671.0  UCaXkIU1QidjPwiAYu6GcHjg   \n",
       "4     6v2IZnZp6Ak  1468015  10499.0       1817.0  UCTrQ7HXWRRxr7OsOtodr2_w   \n",
       "...           ...      ...      ...          ...                       ...   \n",
       "4953  HjPaGr87_Wc    11712     79.0         41.0  UCj-RTZE-V3Q6jleatRR9k2A   \n",
       "4954  rroW976Rfgo    19155    616.0         20.0  UC11JFCoslUUMTuAsUPH8RdQ   \n",
       "4955  CSW5mQ_att4     7223    177.0        227.0  UCaXkIU1QidjPwiAYu6GcHjg   \n",
       "4956  qxuCW6ixfJw   122041   1842.0        330.0  UCIu9zJq00ev2xj37kvyHtZQ   \n",
       "4957  OT4GbT1x8Js     8848    278.0          1.0  UC48h7Dst_hX82HxOf3xJw_w   \n",
       "\n",
       "                      Data                                             Titulo  \\\n",
       "0     2022-09-19T02:00:12Z  Season 1 Episode 6 Preview | House of the Drag...   \n",
       "1     2022-09-18T20:37:55Z  Miami Dolphins vs. Baltimore Ravens | 2022 Wee...   \n",
       "2     2022-09-18T20:27:23Z  Tampa Bay Buccaneers vs. New Orleans Saints | ...   \n",
       "3     2022-09-19T02:00:22Z  Trump’s Indictment Is ‘Unavoidable’ In Mar-a-L...   \n",
       "4     2022-09-18T17:56:16Z  Queen Elizabeth II: Final preparations made fo...   \n",
       "...                    ...                                                ...   \n",
       "4953  2022-09-18T18:26:24Z  Homem morre após levar chifrada durante tourad...   \n",
       "4954  2022-09-18T21:00:30Z  Luísa Sonza e PA, Carlinhos Maia bloqueado: as...   \n",
       "4955  2022-09-18T18:30:10Z  &#39;Decent, Honorable And All About Service&#...   \n",
       "4956  2022-09-18T22:36:57Z  Beyaz Futbol 18 Eylül 2022 2.Kısım ( Fenerbahç...   \n",
       "4957  2022-09-19T02:00:06Z  ข้าไม่ใช่บัวผัน และท่านก็ไม่ใช่แสนเมือง #ภูตแม...   \n",
       "\n",
       "                    C_Data         C_Titulo Pais     C_Vistas  Subscriptores  \\\n",
       "0     2007-09-29T02:50:52Z    GameofThrones  NaN   1242804282        4680000   \n",
       "1     2014-12-14T02:07:35Z              NFL  NaN   7095782393        9760000   \n",
       "2     2014-12-14T02:07:35Z              NFL  NaN   7095782393        9760000   \n",
       "3     2011-12-01T19:16:09Z            MSNBC  NaN   8682222509        5220000   \n",
       "4     2006-07-05T23:18:56Z   Channel 4 News   GB   1158211532        2260000   \n",
       "...                    ...              ...  ...          ...            ...   \n",
       "4953  2012-08-24T22:35:33Z    O POVO Online   BR    134983775         455000   \n",
       "4954  2015-11-04T16:46:54Z  Humor Multishow   BR   3067890839        7560000   \n",
       "4955  2011-12-01T19:16:09Z            MSNBC  NaN   8682222509        5220000   \n",
       "4956  2015-02-03T19:23:32Z     Beyaz Futbol   TR    305873491         504000   \n",
       "4957  2014-05-29T07:24:43Z      Ch3Thailand   TH  20740290137       32000000   \n",
       "\n",
       "      No Videos  \n",
       "0           891  \n",
       "1         26065  \n",
       "2         26065  \n",
       "3         58189  \n",
       "4         13383  \n",
       "...         ...  \n",
       "4953       9942  \n",
       "4954       5104  \n",
       "4955      58189  \n",
       "4956       4063  \n",
       "4957      75441  \n",
       "\n",
       "[4958 rows x 13 columns]"
      ]
     },
     "execution_count": 43,
     "metadata": {},
     "output_type": "execute_result"
    }
   ],
   "source": [
    "pd_stats"
   ]
  },
  {
   "cell_type": "code",
   "execution_count": null,
   "metadata": {
    "colab": {
     "base_uri": "https://localhost:8080/"
    },
    "executionInfo": {
     "elapsed": 86,
     "status": "ok",
     "timestamp": 1663612565933,
     "user": {
      "displayName": "Brayan Mauricio Rodríguez Garzónn",
      "userId": "05435019562705070299"
     },
     "user_tz": 180
    },
    "id": "mQXmFsGmNSHA",
    "outputId": "f2935e65-c068-486d-9a4c-5c1ffd11e427"
   },
   "outputs": [
    {
     "data": {
      "text/plain": [
       "id                 0\n",
       "Vistas             0\n",
       "likes            106\n",
       "Comentarios      153\n",
       "C_id               0\n",
       "Data               0\n",
       "Titulo             0\n",
       "C_Data             0\n",
       "C_Titulo           0\n",
       "Pais             749\n",
       "C_Vistas           0\n",
       "Subscriptores      0\n",
       "No Videos          0\n",
       "dtype: int64"
      ]
     },
     "execution_count": 44,
     "metadata": {},
     "output_type": "execute_result"
    }
   ],
   "source": [
    "# pd_stats['Pais'].value_counts()\n",
    "pd_stats.isna().sum()"
   ]
  },
  {
   "cell_type": "markdown",
   "metadata": {
    "id": "O4GVGikMVgxE"
   },
   "source": [
    "## Adiciona os novos videos aos  já amostrados em dias anteriores\n",
    "\n",
    "O data frame criado na etapa anterior chama-se \n",
    "pd_stats"
   ]
  },
  {
   "cell_type": "code",
   "execution_count": null,
   "metadata": {
    "id": "tGvJuZpMSlek"
   },
   "outputs": [],
   "source": [
    "link='/content/drive/MyDrive/MyCopy/You_tube_database/archive/'"
   ]
  },
  {
   "cell_type": "code",
   "execution_count": null,
   "metadata": {
    "colab": {
     "base_uri": "https://localhost:8080/"
    },
    "executionInfo": {
     "elapsed": 26,
     "status": "ok",
     "timestamp": 1663612634855,
     "user": {
      "displayName": "Brayan Mauricio Rodríguez Garzónn",
      "userId": "05435019562705070299"
     },
     "user_tz": 180
    },
    "id": "KrC5TEtFWUEy",
    "outputId": "e7916d09-0a37-4ed1-9f61-3b8460953424"
   },
   "outputs": [
    {
     "data": {
      "text/plain": [
       "(4958, 13)"
      ]
     },
     "execution_count": 46,
     "metadata": {},
     "output_type": "execute_result"
    }
   ],
   "source": [
    "pd_stats.shape"
   ]
  },
  {
   "cell_type": "markdown",
   "metadata": {
    "id": "JKf2z4qmW33z"
   },
   "source": [
    "Carregamos os vídeos de dias anteriores"
   ]
  },
  {
   "cell_type": "code",
   "execution_count": null,
   "metadata": {
    "colab": {
     "base_uri": "https://localhost:8080/"
    },
    "executionInfo": {
     "elapsed": 3410,
     "status": "ok",
     "timestamp": 1663612644277,
     "user": {
      "displayName": "Brayan Mauricio Rodríguez Garzónn",
      "userId": "05435019562705070299"
     },
     "user_tz": 180
    },
    "id": "-R81dYlhNt3L",
    "outputId": "59acdef7-a9a1-4304-a88e-79bff754c879"
   },
   "outputs": [
    {
     "name": "stderr",
     "output_type": "stream",
     "text": [
      "/usr/local/lib/python3.7/dist-packages/IPython/core/interactiveshell.py:3326: DtypeWarning: Columns (7) have mixed types.Specify dtype option on import or set low_memory=False.\n",
      "  exec(code_obj, self.user_global_ns, self.user_ns)\n"
     ]
    }
   ],
   "source": [
    "amostras_anterior=pd.read_csv(link+'amostra_de_videos.csv')"
   ]
  },
  {
   "cell_type": "code",
   "execution_count": null,
   "metadata": {
    "colab": {
     "base_uri": "https://localhost:8080/"
    },
    "executionInfo": {
     "elapsed": 325,
     "status": "ok",
     "timestamp": 1663612681887,
     "user": {
      "displayName": "Brayan Mauricio Rodríguez Garzónn",
      "userId": "05435019562705070299"
     },
     "user_tz": 180
    },
    "id": "7y8uxKtJPBgz",
    "outputId": "ad853a7a-e7dc-4f26-a100-e008b5ce9cb8"
   },
   "outputs": [
    {
     "data": {
      "text/plain": [
       "(143180, 15)"
      ]
     },
     "execution_count": 48,
     "metadata": {},
     "output_type": "execute_result"
    }
   ],
   "source": [
    "amostras_anterior.shape"
   ]
  },
  {
   "cell_type": "code",
   "execution_count": null,
   "metadata": {
    "colab": {
     "base_uri": "https://localhost:8080/"
    },
    "executionInfo": {
     "elapsed": 461,
     "status": "ok",
     "timestamp": 1663612687312,
     "user": {
      "displayName": "Brayan Mauricio Rodríguez Garzónn",
      "userId": "05435019562705070299"
     },
     "user_tz": 180
    },
    "id": "V-qV88KeR0Z7",
    "outputId": "82a3fdf1-5a04-4a20-9196-8aaa3465f85c"
   },
   "outputs": [
    {
     "data": {
      "text/plain": [
       "(4958, 13)"
      ]
     },
     "execution_count": 49,
     "metadata": {},
     "output_type": "execute_result"
    }
   ],
   "source": [
    "pd_stats.shape"
   ]
  },
  {
   "cell_type": "markdown",
   "metadata": {
    "id": "08LpXS1_XxFk"
   },
   "source": [
    "Agregando os novos dados **pd_stats** aos velhos dados **amostras_anterior**, "
   ]
  },
  {
   "cell_type": "code",
   "execution_count": null,
   "metadata": {
    "id": "blHFVzY7RxjT"
   },
   "outputs": [],
   "source": [
    "novas_amostras = amostras_anterior.append(pd_stats, ignore_index=True)\n",
    "novas_amostras=novas_amostras.drop(columns='Unnamed: 0')"
   ]
  },
  {
   "cell_type": "code",
   "execution_count": null,
   "metadata": {
    "colab": {
     "base_uri": "https://localhost:8080/"
    },
    "executionInfo": {
     "elapsed": 498,
     "status": "ok",
     "timestamp": 1663612695268,
     "user": {
      "displayName": "Brayan Mauricio Rodríguez Garzónn",
      "userId": "05435019562705070299"
     },
     "user_tz": 180
    },
    "id": "f-DMQVvpSOQs",
    "outputId": "1c701472-5670-430b-8b52-0865b894e500"
   },
   "outputs": [
    {
     "data": {
      "text/plain": [
       "(148138, 14)"
      ]
     },
     "execution_count": 51,
     "metadata": {},
     "output_type": "execute_result"
    }
   ],
   "source": [
    "novas_amostras.shape"
   ]
  },
  {
   "cell_type": "markdown",
   "metadata": {
    "id": "mRqEY9plYMQN"
   },
   "source": [
    "Verifiquemos que a adição se realizou apropiadamente.\n",
    "\n",
    "A ultima instancia dos dados coletados em dias anteriores é:"
   ]
  },
  {
   "cell_type": "code",
   "execution_count": null,
   "metadata": {
    "colab": {
     "base_uri": "https://localhost:8080/",
     "height": 214
    },
    "executionInfo": {
     "elapsed": 303,
     "status": "ok",
     "timestamp": 1663371350305,
     "user": {
      "displayName": "Brayan Mauricio Rodríguez Garzónn",
      "userId": "05435019562705070299"
     },
     "user_tz": 180
    },
    "id": "YdETUv0sTUUL",
    "outputId": "b8cb281a-c04d-43d5-d136-f74ea9aef8c0"
   },
   "outputs": [
    {
     "data": {
      "text/html": [
       "\n",
       "  <div id=\"df-a664c71c-b3aa-4cfc-a3bc-b31e9d276d0e\">\n",
       "    <div class=\"colab-df-container\">\n",
       "      <div>\n",
       "<style scoped>\n",
       "    .dataframe tbody tr th:only-of-type {\n",
       "        vertical-align: middle;\n",
       "    }\n",
       "\n",
       "    .dataframe tbody tr th {\n",
       "        vertical-align: top;\n",
       "    }\n",
       "\n",
       "    .dataframe thead th {\n",
       "        text-align: right;\n",
       "    }\n",
       "</style>\n",
       "<table border=\"1\" class=\"dataframe\">\n",
       "  <thead>\n",
       "    <tr style=\"text-align: right;\">\n",
       "      <th></th>\n",
       "      <th>Unnamed: 0</th>\n",
       "      <th>id</th>\n",
       "      <th>Vistas</th>\n",
       "      <th>likes</th>\n",
       "      <th>Comentarios</th>\n",
       "      <th>C_id</th>\n",
       "      <th>Data</th>\n",
       "      <th>Título</th>\n",
       "      <th>C_Data</th>\n",
       "      <th>C_Titulo</th>\n",
       "      <th>Pais</th>\n",
       "      <th>C_Vistas</th>\n",
       "      <th>Subscriptores</th>\n",
       "      <th>No Videos</th>\n",
       "      <th>Titulo</th>\n",
       "    </tr>\n",
       "  </thead>\n",
       "  <tbody>\n",
       "    <tr>\n",
       "      <th>133279</th>\n",
       "      <td>133279</td>\n",
       "      <td>GcxBDSj4eGo</td>\n",
       "      <td>89125.0</td>\n",
       "      <td>5186.0</td>\n",
       "      <td>64.0</td>\n",
       "      <td>UCuUUWPHIioyfmctnDpwsFzw</td>\n",
       "      <td>2022-09-15T00:21:24Z</td>\n",
       "      <td>NaN</td>\n",
       "      <td>2021-02-26T15:05:09.860468Z</td>\n",
       "      <td>POD DELAS</td>\n",
       "      <td>BR</td>\n",
       "      <td>132642806</td>\n",
       "      <td>1920000.0</td>\n",
       "      <td>205</td>\n",
       "      <td>VANESSA LOPES - PODDELAS #203</td>\n",
       "    </tr>\n",
       "  </tbody>\n",
       "</table>\n",
       "</div>\n",
       "      <button class=\"colab-df-convert\" onclick=\"convertToInteractive('df-a664c71c-b3aa-4cfc-a3bc-b31e9d276d0e')\"\n",
       "              title=\"Convert this dataframe to an interactive table.\"\n",
       "              style=\"display:none;\">\n",
       "        \n",
       "  <svg xmlns=\"http://www.w3.org/2000/svg\" height=\"24px\"viewBox=\"0 0 24 24\"\n",
       "       width=\"24px\">\n",
       "    <path d=\"M0 0h24v24H0V0z\" fill=\"none\"/>\n",
       "    <path d=\"M18.56 5.44l.94 2.06.94-2.06 2.06-.94-2.06-.94-.94-2.06-.94 2.06-2.06.94zm-11 1L8.5 8.5l.94-2.06 2.06-.94-2.06-.94L8.5 2.5l-.94 2.06-2.06.94zm10 10l.94 2.06.94-2.06 2.06-.94-2.06-.94-.94-2.06-.94 2.06-2.06.94z\"/><path d=\"M17.41 7.96l-1.37-1.37c-.4-.4-.92-.59-1.43-.59-.52 0-1.04.2-1.43.59L10.3 9.45l-7.72 7.72c-.78.78-.78 2.05 0 2.83L4 21.41c.39.39.9.59 1.41.59.51 0 1.02-.2 1.41-.59l7.78-7.78 2.81-2.81c.8-.78.8-2.07 0-2.86zM5.41 20L4 18.59l7.72-7.72 1.47 1.35L5.41 20z\"/>\n",
       "  </svg>\n",
       "      </button>\n",
       "      \n",
       "  <style>\n",
       "    .colab-df-container {\n",
       "      display:flex;\n",
       "      flex-wrap:wrap;\n",
       "      gap: 12px;\n",
       "    }\n",
       "\n",
       "    .colab-df-convert {\n",
       "      background-color: #E8F0FE;\n",
       "      border: none;\n",
       "      border-radius: 50%;\n",
       "      cursor: pointer;\n",
       "      display: none;\n",
       "      fill: #1967D2;\n",
       "      height: 32px;\n",
       "      padding: 0 0 0 0;\n",
       "      width: 32px;\n",
       "    }\n",
       "\n",
       "    .colab-df-convert:hover {\n",
       "      background-color: #E2EBFA;\n",
       "      box-shadow: 0px 1px 2px rgba(60, 64, 67, 0.3), 0px 1px 3px 1px rgba(60, 64, 67, 0.15);\n",
       "      fill: #174EA6;\n",
       "    }\n",
       "\n",
       "    [theme=dark] .colab-df-convert {\n",
       "      background-color: #3B4455;\n",
       "      fill: #D2E3FC;\n",
       "    }\n",
       "\n",
       "    [theme=dark] .colab-df-convert:hover {\n",
       "      background-color: #434B5C;\n",
       "      box-shadow: 0px 1px 3px 1px rgba(0, 0, 0, 0.15);\n",
       "      filter: drop-shadow(0px 1px 2px rgba(0, 0, 0, 0.3));\n",
       "      fill: #FFFFFF;\n",
       "    }\n",
       "  </style>\n",
       "\n",
       "      <script>\n",
       "        const buttonEl =\n",
       "          document.querySelector('#df-a664c71c-b3aa-4cfc-a3bc-b31e9d276d0e button.colab-df-convert');\n",
       "        buttonEl.style.display =\n",
       "          google.colab.kernel.accessAllowed ? 'block' : 'none';\n",
       "\n",
       "        async function convertToInteractive(key) {\n",
       "          const element = document.querySelector('#df-a664c71c-b3aa-4cfc-a3bc-b31e9d276d0e');\n",
       "          const dataTable =\n",
       "            await google.colab.kernel.invokeFunction('convertToInteractive',\n",
       "                                                     [key], {});\n",
       "          if (!dataTable) return;\n",
       "\n",
       "          const docLinkHtml = 'Like what you see? Visit the ' +\n",
       "            '<a target=\"_blank\" href=https://colab.research.google.com/notebooks/data_table.ipynb>data table notebook</a>'\n",
       "            + ' to learn more about interactive tables.';\n",
       "          element.innerHTML = '';\n",
       "          dataTable['output_type'] = 'display_data';\n",
       "          await google.colab.output.renderOutput(dataTable, element);\n",
       "          const docLink = document.createElement('div');\n",
       "          docLink.innerHTML = docLinkHtml;\n",
       "          element.appendChild(docLink);\n",
       "        }\n",
       "      </script>\n",
       "    </div>\n",
       "  </div>\n",
       "  "
      ],
      "text/plain": [
       "        Unnamed: 0           id   Vistas   likes  Comentarios  \\\n",
       "133279      133279  GcxBDSj4eGo  89125.0  5186.0         64.0   \n",
       "\n",
       "                            C_id                  Data Título  \\\n",
       "133279  UCuUUWPHIioyfmctnDpwsFzw  2022-09-15T00:21:24Z    NaN   \n",
       "\n",
       "                             C_Data   C_Titulo Pais   C_Vistas  Subscriptores  \\\n",
       "133279  2021-02-26T15:05:09.860468Z  POD DELAS   BR  132642806      1920000.0   \n",
       "\n",
       "        No Videos                         Titulo  \n",
       "133279        205  VANESSA LOPES - PODDELAS #203  "
      ]
     },
     "execution_count": 54,
     "metadata": {},
     "output_type": "execute_result"
    }
   ],
   "source": [
    "amostras_anterior.tail(1)"
   ]
  },
  {
   "cell_type": "markdown",
   "metadata": {
    "id": "Tqugaig6Yy3I"
   },
   "source": [
    "Por outro lado a primeira estancia dos dados novos é\n"
   ]
  },
  {
   "cell_type": "code",
   "execution_count": null,
   "metadata": {
    "colab": {
     "base_uri": "https://localhost:8080/",
     "height": 284
    },
    "executionInfo": {
     "elapsed": 636,
     "status": "ok",
     "timestamp": 1663612703034,
     "user": {
      "displayName": "Brayan Mauricio Rodríguez Garzónn",
      "userId": "05435019562705070299"
     },
     "user_tz": 180
    },
    "id": "JaxvKSjXYyI6",
    "outputId": "b4b47eda-ff38-4afa-a020-11e0ee11957d"
   },
   "outputs": [
    {
     "data": {
      "text/html": [
       "\n",
       "  <div id=\"df-9926da4d-b541-4bd4-bf54-834d971a7880\">\n",
       "    <div class=\"colab-df-container\">\n",
       "      <div>\n",
       "<style scoped>\n",
       "    .dataframe tbody tr th:only-of-type {\n",
       "        vertical-align: middle;\n",
       "    }\n",
       "\n",
       "    .dataframe tbody tr th {\n",
       "        vertical-align: top;\n",
       "    }\n",
       "\n",
       "    .dataframe thead th {\n",
       "        text-align: right;\n",
       "    }\n",
       "</style>\n",
       "<table border=\"1\" class=\"dataframe\">\n",
       "  <thead>\n",
       "    <tr style=\"text-align: right;\">\n",
       "      <th></th>\n",
       "      <th>id</th>\n",
       "      <th>Vistas</th>\n",
       "      <th>likes</th>\n",
       "      <th>Comentarios</th>\n",
       "      <th>C_id</th>\n",
       "      <th>Data</th>\n",
       "      <th>Titulo</th>\n",
       "      <th>C_Data</th>\n",
       "      <th>C_Titulo</th>\n",
       "      <th>Pais</th>\n",
       "      <th>C_Vistas</th>\n",
       "      <th>Subscriptores</th>\n",
       "      <th>No Videos</th>\n",
       "    </tr>\n",
       "  </thead>\n",
       "  <tbody>\n",
       "    <tr>\n",
       "      <th>0</th>\n",
       "      <td>jBulntGrnPE</td>\n",
       "      <td>1814472</td>\n",
       "      <td>39294.0</td>\n",
       "      <td>3580.0</td>\n",
       "      <td>UCQzdMyuz0Lf4zo4uGcEujFw</td>\n",
       "      <td>2022-09-19T02:00:12Z</td>\n",
       "      <td>Season 1 Episode 6 Preview | House of the Drag...</td>\n",
       "      <td>2007-09-29T02:50:52Z</td>\n",
       "      <td>GameofThrones</td>\n",
       "      <td>NaN</td>\n",
       "      <td>1242804282</td>\n",
       "      <td>4680000</td>\n",
       "      <td>891</td>\n",
       "    </tr>\n",
       "  </tbody>\n",
       "</table>\n",
       "</div>\n",
       "      <button class=\"colab-df-convert\" onclick=\"convertToInteractive('df-9926da4d-b541-4bd4-bf54-834d971a7880')\"\n",
       "              title=\"Convert this dataframe to an interactive table.\"\n",
       "              style=\"display:none;\">\n",
       "        \n",
       "  <svg xmlns=\"http://www.w3.org/2000/svg\" height=\"24px\"viewBox=\"0 0 24 24\"\n",
       "       width=\"24px\">\n",
       "    <path d=\"M0 0h24v24H0V0z\" fill=\"none\"/>\n",
       "    <path d=\"M18.56 5.44l.94 2.06.94-2.06 2.06-.94-2.06-.94-.94-2.06-.94 2.06-2.06.94zm-11 1L8.5 8.5l.94-2.06 2.06-.94-2.06-.94L8.5 2.5l-.94 2.06-2.06.94zm10 10l.94 2.06.94-2.06 2.06-.94-2.06-.94-.94-2.06-.94 2.06-2.06.94z\"/><path d=\"M17.41 7.96l-1.37-1.37c-.4-.4-.92-.59-1.43-.59-.52 0-1.04.2-1.43.59L10.3 9.45l-7.72 7.72c-.78.78-.78 2.05 0 2.83L4 21.41c.39.39.9.59 1.41.59.51 0 1.02-.2 1.41-.59l7.78-7.78 2.81-2.81c.8-.78.8-2.07 0-2.86zM5.41 20L4 18.59l7.72-7.72 1.47 1.35L5.41 20z\"/>\n",
       "  </svg>\n",
       "      </button>\n",
       "      \n",
       "  <style>\n",
       "    .colab-df-container {\n",
       "      display:flex;\n",
       "      flex-wrap:wrap;\n",
       "      gap: 12px;\n",
       "    }\n",
       "\n",
       "    .colab-df-convert {\n",
       "      background-color: #E8F0FE;\n",
       "      border: none;\n",
       "      border-radius: 50%;\n",
       "      cursor: pointer;\n",
       "      display: none;\n",
       "      fill: #1967D2;\n",
       "      height: 32px;\n",
       "      padding: 0 0 0 0;\n",
       "      width: 32px;\n",
       "    }\n",
       "\n",
       "    .colab-df-convert:hover {\n",
       "      background-color: #E2EBFA;\n",
       "      box-shadow: 0px 1px 2px rgba(60, 64, 67, 0.3), 0px 1px 3px 1px rgba(60, 64, 67, 0.15);\n",
       "      fill: #174EA6;\n",
       "    }\n",
       "\n",
       "    [theme=dark] .colab-df-convert {\n",
       "      background-color: #3B4455;\n",
       "      fill: #D2E3FC;\n",
       "    }\n",
       "\n",
       "    [theme=dark] .colab-df-convert:hover {\n",
       "      background-color: #434B5C;\n",
       "      box-shadow: 0px 1px 3px 1px rgba(0, 0, 0, 0.15);\n",
       "      filter: drop-shadow(0px 1px 2px rgba(0, 0, 0, 0.3));\n",
       "      fill: #FFFFFF;\n",
       "    }\n",
       "  </style>\n",
       "\n",
       "      <script>\n",
       "        const buttonEl =\n",
       "          document.querySelector('#df-9926da4d-b541-4bd4-bf54-834d971a7880 button.colab-df-convert');\n",
       "        buttonEl.style.display =\n",
       "          google.colab.kernel.accessAllowed ? 'block' : 'none';\n",
       "\n",
       "        async function convertToInteractive(key) {\n",
       "          const element = document.querySelector('#df-9926da4d-b541-4bd4-bf54-834d971a7880');\n",
       "          const dataTable =\n",
       "            await google.colab.kernel.invokeFunction('convertToInteractive',\n",
       "                                                     [key], {});\n",
       "          if (!dataTable) return;\n",
       "\n",
       "          const docLinkHtml = 'Like what you see? Visit the ' +\n",
       "            '<a target=\"_blank\" href=https://colab.research.google.com/notebooks/data_table.ipynb>data table notebook</a>'\n",
       "            + ' to learn more about interactive tables.';\n",
       "          element.innerHTML = '';\n",
       "          dataTable['output_type'] = 'display_data';\n",
       "          await google.colab.output.renderOutput(dataTable, element);\n",
       "          const docLink = document.createElement('div');\n",
       "          docLink.innerHTML = docLinkHtml;\n",
       "          element.appendChild(docLink);\n",
       "        }\n",
       "      </script>\n",
       "    </div>\n",
       "  </div>\n",
       "  "
      ],
      "text/plain": [
       "            id   Vistas    likes  Comentarios                      C_id  \\\n",
       "0  jBulntGrnPE  1814472  39294.0       3580.0  UCQzdMyuz0Lf4zo4uGcEujFw   \n",
       "\n",
       "                   Data                                             Titulo  \\\n",
       "0  2022-09-19T02:00:12Z  Season 1 Episode 6 Preview | House of the Drag...   \n",
       "\n",
       "                 C_Data       C_Titulo Pais    C_Vistas  Subscriptores  \\\n",
       "0  2007-09-29T02:50:52Z  GameofThrones  NaN  1242804282        4680000   \n",
       "\n",
       "   No Videos  \n",
       "0        891  "
      ]
     },
     "execution_count": 52,
     "metadata": {},
     "output_type": "execute_result"
    }
   ],
   "source": [
    "pd_stats.head(1)"
   ]
  },
  {
   "cell_type": "markdown",
   "metadata": {
    "id": "05Mx1wVfY9G7"
   },
   "source": [
    "Logo o ponto de união acontece em:\n"
   ]
  },
  {
   "cell_type": "code",
   "execution_count": null,
   "metadata": {
    "colab": {
     "base_uri": "https://localhost:8080/",
     "height": 263
    },
    "executionInfo": {
     "elapsed": 796,
     "status": "ok",
     "timestamp": 1662498942116,
     "user": {
      "displayName": "Brayan Mauricio Rodríguez Garzónn",
      "userId": "05435019562705070299"
     },
     "user_tz": 180
    },
    "id": "gKbgaP0NSRd2",
    "outputId": "92b0b080-acfc-4cac-d84d-be96b965dfaa"
   },
   "outputs": [
    {
     "data": {
      "text/html": [
       "\n",
       "  <div id=\"df-15107690-7899-4ca1-8f22-d12d9fc2349b\">\n",
       "    <div class=\"colab-df-container\">\n",
       "      <div>\n",
       "<style scoped>\n",
       "    .dataframe tbody tr th:only-of-type {\n",
       "        vertical-align: middle;\n",
       "    }\n",
       "\n",
       "    .dataframe tbody tr th {\n",
       "        vertical-align: top;\n",
       "    }\n",
       "\n",
       "    .dataframe thead th {\n",
       "        text-align: right;\n",
       "    }\n",
       "</style>\n",
       "<table border=\"1\" class=\"dataframe\">\n",
       "  <thead>\n",
       "    <tr style=\"text-align: right;\">\n",
       "      <th></th>\n",
       "      <th>id</th>\n",
       "      <th>Vistas</th>\n",
       "      <th>likes</th>\n",
       "      <th>Comentarios</th>\n",
       "      <th>C_id</th>\n",
       "      <th>Data</th>\n",
       "      <th>Título</th>\n",
       "      <th>C_Data</th>\n",
       "      <th>C_Titulo</th>\n",
       "      <th>Pais</th>\n",
       "      <th>C_Vistas</th>\n",
       "      <th>Subscriptores</th>\n",
       "      <th>No Videos</th>\n",
       "      <th>Titulo</th>\n",
       "    </tr>\n",
       "  </thead>\n",
       "  <tbody>\n",
       "    <tr>\n",
       "      <th>93650</th>\n",
       "      <td>X9o5BrTGBNM</td>\n",
       "      <td>745353.0</td>\n",
       "      <td>48860.0</td>\n",
       "      <td>1743.0</td>\n",
       "      <td>UCLtCejNl8eAg4PO_9lf2TIg</td>\n",
       "      <td>2022-09-05T04:35:00Z</td>\n",
       "      <td>NaN</td>\n",
       "      <td>2011-08-10T09:40:41Z</td>\n",
       "      <td>Anand Audio</td>\n",
       "      <td>IN</td>\n",
       "      <td>6630823566</td>\n",
       "      <td>9900000.0</td>\n",
       "      <td>4552</td>\n",
       "      <td>Guru Shishyaru | Trailer | Sharaan|Nishvika|Th...</td>\n",
       "    </tr>\n",
       "    <tr>\n",
       "      <th>93651</th>\n",
       "      <td>TV2UOZX-S20</td>\n",
       "      <td>808690.0</td>\n",
       "      <td>15244.0</td>\n",
       "      <td>1400.0</td>\n",
       "      <td>UC1NF71EwP41VdjAU1iXdLkw</td>\n",
       "      <td>2022-09-06T03:49:16Z</td>\n",
       "      <td>NaN</td>\n",
       "      <td>2007-10-26T18:09:55Z</td>\n",
       "      <td>Narendra Modi</td>\n",
       "      <td>IN</td>\n",
       "      <td>2402510854</td>\n",
       "      <td>12500000.0</td>\n",
       "      <td>17291</td>\n",
       "      <td>PM Modi attends ceremonial welcome of Banglade...</td>\n",
       "    </tr>\n",
       "  </tbody>\n",
       "</table>\n",
       "</div>\n",
       "      <button class=\"colab-df-convert\" onclick=\"convertToInteractive('df-15107690-7899-4ca1-8f22-d12d9fc2349b')\"\n",
       "              title=\"Convert this dataframe to an interactive table.\"\n",
       "              style=\"display:none;\">\n",
       "        \n",
       "  <svg xmlns=\"http://www.w3.org/2000/svg\" height=\"24px\"viewBox=\"0 0 24 24\"\n",
       "       width=\"24px\">\n",
       "    <path d=\"M0 0h24v24H0V0z\" fill=\"none\"/>\n",
       "    <path d=\"M18.56 5.44l.94 2.06.94-2.06 2.06-.94-2.06-.94-.94-2.06-.94 2.06-2.06.94zm-11 1L8.5 8.5l.94-2.06 2.06-.94-2.06-.94L8.5 2.5l-.94 2.06-2.06.94zm10 10l.94 2.06.94-2.06 2.06-.94-2.06-.94-.94-2.06-.94 2.06-2.06.94z\"/><path d=\"M17.41 7.96l-1.37-1.37c-.4-.4-.92-.59-1.43-.59-.52 0-1.04.2-1.43.59L10.3 9.45l-7.72 7.72c-.78.78-.78 2.05 0 2.83L4 21.41c.39.39.9.59 1.41.59.51 0 1.02-.2 1.41-.59l7.78-7.78 2.81-2.81c.8-.78.8-2.07 0-2.86zM5.41 20L4 18.59l7.72-7.72 1.47 1.35L5.41 20z\"/>\n",
       "  </svg>\n",
       "      </button>\n",
       "      \n",
       "  <style>\n",
       "    .colab-df-container {\n",
       "      display:flex;\n",
       "      flex-wrap:wrap;\n",
       "      gap: 12px;\n",
       "    }\n",
       "\n",
       "    .colab-df-convert {\n",
       "      background-color: #E8F0FE;\n",
       "      border: none;\n",
       "      border-radius: 50%;\n",
       "      cursor: pointer;\n",
       "      display: none;\n",
       "      fill: #1967D2;\n",
       "      height: 32px;\n",
       "      padding: 0 0 0 0;\n",
       "      width: 32px;\n",
       "    }\n",
       "\n",
       "    .colab-df-convert:hover {\n",
       "      background-color: #E2EBFA;\n",
       "      box-shadow: 0px 1px 2px rgba(60, 64, 67, 0.3), 0px 1px 3px 1px rgba(60, 64, 67, 0.15);\n",
       "      fill: #174EA6;\n",
       "    }\n",
       "\n",
       "    [theme=dark] .colab-df-convert {\n",
       "      background-color: #3B4455;\n",
       "      fill: #D2E3FC;\n",
       "    }\n",
       "\n",
       "    [theme=dark] .colab-df-convert:hover {\n",
       "      background-color: #434B5C;\n",
       "      box-shadow: 0px 1px 3px 1px rgba(0, 0, 0, 0.15);\n",
       "      filter: drop-shadow(0px 1px 2px rgba(0, 0, 0, 0.3));\n",
       "      fill: #FFFFFF;\n",
       "    }\n",
       "  </style>\n",
       "\n",
       "      <script>\n",
       "        const buttonEl =\n",
       "          document.querySelector('#df-15107690-7899-4ca1-8f22-d12d9fc2349b button.colab-df-convert');\n",
       "        buttonEl.style.display =\n",
       "          google.colab.kernel.accessAllowed ? 'block' : 'none';\n",
       "\n",
       "        async function convertToInteractive(key) {\n",
       "          const element = document.querySelector('#df-15107690-7899-4ca1-8f22-d12d9fc2349b');\n",
       "          const dataTable =\n",
       "            await google.colab.kernel.invokeFunction('convertToInteractive',\n",
       "                                                     [key], {});\n",
       "          if (!dataTable) return;\n",
       "\n",
       "          const docLinkHtml = 'Like what you see? Visit the ' +\n",
       "            '<a target=\"_blank\" href=https://colab.research.google.com/notebooks/data_table.ipynb>data table notebook</a>'\n",
       "            + ' to learn more about interactive tables.';\n",
       "          element.innerHTML = '';\n",
       "          dataTable['output_type'] = 'display_data';\n",
       "          await google.colab.output.renderOutput(dataTable, element);\n",
       "          const docLink = document.createElement('div');\n",
       "          docLink.innerHTML = docLinkHtml;\n",
       "          element.appendChild(docLink);\n",
       "        }\n",
       "      </script>\n",
       "    </div>\n",
       "  </div>\n",
       "  "
      ],
      "text/plain": [
       "                id    Vistas    likes  Comentarios                      C_id  \\\n",
       "93650  X9o5BrTGBNM  745353.0  48860.0       1743.0  UCLtCejNl8eAg4PO_9lf2TIg   \n",
       "93651  TV2UOZX-S20  808690.0  15244.0       1400.0  UC1NF71EwP41VdjAU1iXdLkw   \n",
       "\n",
       "                       Data Título                C_Data       C_Titulo Pais  \\\n",
       "93650  2022-09-05T04:35:00Z    NaN  2011-08-10T09:40:41Z    Anand Audio   IN   \n",
       "93651  2022-09-06T03:49:16Z    NaN  2007-10-26T18:09:55Z  Narendra Modi   IN   \n",
       "\n",
       "         C_Vistas  Subscriptores  No Videos  \\\n",
       "93650  6630823566      9900000.0       4552   \n",
       "93651  2402510854     12500000.0      17291   \n",
       "\n",
       "                                                  Titulo  \n",
       "93650  Guru Shishyaru | Trailer | Sharaan|Nishvika|Th...  \n",
       "93651  PM Modi attends ceremonial welcome of Banglade...  "
      ]
     },
     "execution_count": 53,
     "metadata": {},
     "output_type": "execute_result"
    }
   ],
   "source": [
    "novas_amostras.iloc[[amostras_anterior.shape[0]-1,amostras_anterior.shape[0]]]"
   ]
  },
  {
   "cell_type": "markdown",
   "metadata": {
    "id": "uRFqqPiZ3O_h"
   },
   "source": [
    "Verificando o estado do Dataframe, na requisição para o país\n"
   ]
  },
  {
   "cell_type": "code",
   "execution_count": null,
   "metadata": {
    "colab": {
     "base_uri": "https://localhost:8080/"
    },
    "executionInfo": {
     "elapsed": 307,
     "status": "ok",
     "timestamp": 1663612717575,
     "user": {
      "displayName": "Brayan Mauricio Rodríguez Garzónn",
      "userId": "05435019562705070299"
     },
     "user_tz": 180
    },
    "id": "z07laQ563i3i",
    "outputId": "f541c1a8-866f-4cd8-988e-b0bd95c6d465"
   },
   "outputs": [
    {
     "data": {
      "text/plain": [
       "BR    70019\n",
       "US     9785\n",
       "KR     8929\n",
       "TH     8334\n",
       "IN     7605\n",
       "      ...  \n",
       "VE        1\n",
       "MZ        1\n",
       "UZ        1\n",
       "AM        1\n",
       "MK        1\n",
       "Name: Pais, Length: 109, dtype: int64"
      ]
     },
     "execution_count": 53,
     "metadata": {},
     "output_type": "execute_result"
    }
   ],
   "source": [
    "novas_amostras['Pais'].value_counts()"
   ]
  },
  {
   "cell_type": "markdown",
   "metadata": {
    "id": "aMFgmRvGcJcJ"
   },
   "source": [
    "\n",
    "## Exportando hacia google drive \n",
    "\n",
    "La union de los nuevos datos con los antiguos está guardada en el DataFrame **novas_amostras**"
   ]
  },
  {
   "cell_type": "code",
   "execution_count": null,
   "metadata": {
    "colab": {
     "base_uri": "https://localhost:8080/"
    },
    "executionInfo": {
     "elapsed": 471,
     "status": "ok",
     "timestamp": 1663178430595,
     "user": {
      "displayName": "Brayan Mauricio Rodríguez Garzónn",
      "userId": "05435019562705070299"
     },
     "user_tz": 180
    },
    "id": "Z-jB4dU4cd2B",
    "outputId": "eff98d8c-3007-4bd6-9ffd-218b3d9b1ff4"
   },
   "outputs": [
    {
     "name": "stdout",
     "output_type": "stream",
     "text": [
      "<class 'pandas.core.frame.DataFrame'>\n",
      "RangeIndex: 128311 entries, 0 to 128310\n",
      "Data columns (total 14 columns):\n",
      " #   Column         Non-Null Count   Dtype  \n",
      "---  ------         --------------   -----  \n",
      " 0   id             128311 non-null  object \n",
      " 1   Vistas         128302 non-null  float64\n",
      " 2   likes          126426 non-null  float64\n",
      " 3   Comentarios    123118 non-null  float64\n",
      " 4   C_id           128311 non-null  object \n",
      " 5   Data           128311 non-null  object \n",
      " 6   Título         63989 non-null   object \n",
      " 7   C_Data         128311 non-null  object \n",
      " 8   C_Titulo       128311 non-null  object \n",
      " 9   Pais           114603 non-null  object \n",
      " 10  C_Vistas       128311 non-null  int64  \n",
      " 11  Subscriptores  128297 non-null  float64\n",
      " 12  No Videos      128311 non-null  int64  \n",
      " 13  Titulo         64322 non-null   object \n",
      "dtypes: float64(4), int64(2), object(8)\n",
      "memory usage: 13.7+ MB\n"
     ]
    }
   ],
   "source": [
    "\n",
    "novas_amostras.info()"
   ]
  },
  {
   "cell_type": "code",
   "execution_count": null,
   "metadata": {
    "colab": {
     "base_uri": "https://localhost:8080/",
     "height": 36
    },
    "executionInfo": {
     "elapsed": 389,
     "status": "ok",
     "timestamp": 1663612725226,
     "user": {
      "displayName": "Brayan Mauricio Rodríguez Garzónn",
      "userId": "05435019562705070299"
     },
     "user_tz": 180
    },
    "id": "EoZs3L5qro5U",
    "outputId": "653e9da0-0a18-4bd0-bf9d-9a1bcc1a88f1"
   },
   "outputs": [
    {
     "data": {
      "application/vnd.google.colaboratory.intrinsic+json": {
       "type": "string"
      },
      "text/plain": [
       "'/content/drive/MyDrive/MyCopy/You_tube_database/archive/'"
      ]
     },
     "execution_count": 54,
     "metadata": {},
     "output_type": "execute_result"
    }
   ],
   "source": [
    "link"
   ]
  },
  {
   "cell_type": "code",
   "execution_count": null,
   "metadata": {
    "id": "645XSi5bpvvI"
   },
   "outputs": [],
   "source": [
    "with open(link+'amostra_de_videos.csv', 'w') as f:\n",
    "  novas_amostras.to_csv(f)"
   ]
  },
  {
   "cell_type": "markdown",
   "metadata": {
    "id": "sfvw2DBk2Ffn"
   },
   "source": [
    "## Construindo interativamente o data frame\n",
    "\n",
    "\n",
    "Definiremos uma função que pega uma lista de videos que tem uma quantidade de vídeos mltipla de 50, e depois para esses vídeos \n",
    "\n"
   ]
  },
  {
   "cell_type": "code",
   "execution_count": null,
   "metadata": {
    "id": "cQFamAc82YJq"
   },
   "outputs": [],
   "source": [
    "def captura_de_views(videos_id):\n",
    "  i=0\n",
    "  stats=[]\n",
    "  quantidade_views=[]\n",
    "\n",
    "  while i<2:\n",
    "      request = youtube.videos().list(\n",
    "                part=\"statistics\",\n",
    "                #pageToken= Next_page_token, \n",
    "                id=videos_id[i*50:(i+1)*50]\n",
    "            )\n",
    "      # fileDetails ,, ,suggestions,\n",
    "      response = request.execute()\n",
    "      stats+=response['items']\n",
    "      #Next_page_token=response.get('nextPageToken')\n",
    "      i=i+1\n",
    "  quantidade_views = [stats[i]['statistics']['viewCount'] for i in range(len(stats))] \n",
    "  return(quantidade_views)\n"
   ]
  },
  {
   "cell_type": "code",
   "execution_count": null,
   "metadata": {
    "id": "tS2OGj0z4a0D"
   },
   "outputs": [],
   "source": [
    "from datetime import datetime\n",
    "\n"
   ]
  },
  {
   "cell_type": "code",
   "execution_count": null,
   "metadata": {
    "id": "jG3Sbz88al3a"
   },
   "outputs": [],
   "source": [
    "import time\n",
    "  \n",
    "i=0  \n",
    "while(i<3):\n",
    "    df[datetime.now().strftime(\"%d-%m at %H:%M\")]=captura_de_views(videos_id)\n",
    "    i=i+1\n",
    "    time.sleep(60)\n"
   ]
  },
  {
   "cell_type": "code",
   "execution_count": null,
   "metadata": {
    "colab": {
     "base_uri": "https://localhost:8080/",
     "height": 455
    },
    "executionInfo": {
     "elapsed": 1455,
     "status": "ok",
     "timestamp": 1658875332223,
     "user": {
      "displayName": "Brayan Mauricio Rodríguez Garzónn",
      "userId": "05435019562705070299"
     },
     "user_tz": 180
    },
    "id": "o35M86I0B2dP",
    "outputId": "267443c0-cf80-4530-9f3d-5ee1886f7d8b"
   },
   "outputs": [
    {
     "data": {
      "text/html": [
       "\n",
       "  <div id=\"df-e3f2ab41-d032-4302-b79c-3b212c63573c\">\n",
       "    <div class=\"colab-df-container\">\n",
       "      <div>\n",
       "<style scoped>\n",
       "    .dataframe tbody tr th:only-of-type {\n",
       "        vertical-align: middle;\n",
       "    }\n",
       "\n",
       "    .dataframe tbody tr th {\n",
       "        vertical-align: top;\n",
       "    }\n",
       "\n",
       "    .dataframe thead th {\n",
       "        text-align: right;\n",
       "    }\n",
       "</style>\n",
       "<table border=\"1\" class=\"dataframe\">\n",
       "  <thead>\n",
       "    <tr style=\"text-align: right;\">\n",
       "      <th></th>\n",
       "      <th>Views</th>\n",
       "      <th>26-07 at 22:38</th>\n",
       "      <th>26-07 at 22:39</th>\n",
       "      <th>26-07 at 22:40</th>\n",
       "    </tr>\n",
       "    <tr>\n",
       "      <th>Video</th>\n",
       "      <th></th>\n",
       "      <th></th>\n",
       "      <th></th>\n",
       "      <th></th>\n",
       "    </tr>\n",
       "  </thead>\n",
       "  <tbody>\n",
       "    <tr>\n",
       "      <th>tzl8Y0yTon4</th>\n",
       "      <td>79752</td>\n",
       "      <td>79752</td>\n",
       "      <td>79840</td>\n",
       "      <td>79840</td>\n",
       "    </tr>\n",
       "    <tr>\n",
       "      <th>1dOlGVnzMZc</th>\n",
       "      <td>468957</td>\n",
       "      <td>469748</td>\n",
       "      <td>469752</td>\n",
       "      <td>469752</td>\n",
       "    </tr>\n",
       "    <tr>\n",
       "      <th>H8-gUuyJm8k</th>\n",
       "      <td>530397</td>\n",
       "      <td>530397</td>\n",
       "      <td>530397</td>\n",
       "      <td>530397</td>\n",
       "    </tr>\n",
       "    <tr>\n",
       "      <th>clf7stNtaOI</th>\n",
       "      <td>1937676</td>\n",
       "      <td>1937676</td>\n",
       "      <td>1937676</td>\n",
       "      <td>1937792</td>\n",
       "    </tr>\n",
       "    <tr>\n",
       "      <th>DZQxQNC5xYw</th>\n",
       "      <td>89004</td>\n",
       "      <td>89004</td>\n",
       "      <td>89004</td>\n",
       "      <td>89004</td>\n",
       "    </tr>\n",
       "    <tr>\n",
       "      <th>...</th>\n",
       "      <td>...</td>\n",
       "      <td>...</td>\n",
       "      <td>...</td>\n",
       "      <td>...</td>\n",
       "    </tr>\n",
       "    <tr>\n",
       "      <th>3PTw9dvjbIc</th>\n",
       "      <td>32072</td>\n",
       "      <td>32240</td>\n",
       "      <td>32245</td>\n",
       "      <td>32245</td>\n",
       "    </tr>\n",
       "    <tr>\n",
       "      <th>BF5IszgvZP8</th>\n",
       "      <td>603657</td>\n",
       "      <td>603657</td>\n",
       "      <td>603657</td>\n",
       "      <td>606024</td>\n",
       "    </tr>\n",
       "    <tr>\n",
       "      <th>oJ5RQlLupIw</th>\n",
       "      <td>638872</td>\n",
       "      <td>640203</td>\n",
       "      <td>640203</td>\n",
       "      <td>640203</td>\n",
       "    </tr>\n",
       "    <tr>\n",
       "      <th>DrUFmaqfTq8</th>\n",
       "      <td>35558</td>\n",
       "      <td>35558</td>\n",
       "      <td>35558</td>\n",
       "      <td>35609</td>\n",
       "    </tr>\n",
       "    <tr>\n",
       "      <th>ZPYCc8JhV5Y</th>\n",
       "      <td>73582</td>\n",
       "      <td>73582</td>\n",
       "      <td>73997</td>\n",
       "      <td>73997</td>\n",
       "    </tr>\n",
       "  </tbody>\n",
       "</table>\n",
       "<p>100 rows × 4 columns</p>\n",
       "</div>\n",
       "      <button class=\"colab-df-convert\" onclick=\"convertToInteractive('df-e3f2ab41-d032-4302-b79c-3b212c63573c')\"\n",
       "              title=\"Convert this dataframe to an interactive table.\"\n",
       "              style=\"display:none;\">\n",
       "        \n",
       "  <svg xmlns=\"http://www.w3.org/2000/svg\" height=\"24px\"viewBox=\"0 0 24 24\"\n",
       "       width=\"24px\">\n",
       "    <path d=\"M0 0h24v24H0V0z\" fill=\"none\"/>\n",
       "    <path d=\"M18.56 5.44l.94 2.06.94-2.06 2.06-.94-2.06-.94-.94-2.06-.94 2.06-2.06.94zm-11 1L8.5 8.5l.94-2.06 2.06-.94-2.06-.94L8.5 2.5l-.94 2.06-2.06.94zm10 10l.94 2.06.94-2.06 2.06-.94-2.06-.94-.94-2.06-.94 2.06-2.06.94z\"/><path d=\"M17.41 7.96l-1.37-1.37c-.4-.4-.92-.59-1.43-.59-.52 0-1.04.2-1.43.59L10.3 9.45l-7.72 7.72c-.78.78-.78 2.05 0 2.83L4 21.41c.39.39.9.59 1.41.59.51 0 1.02-.2 1.41-.59l7.78-7.78 2.81-2.81c.8-.78.8-2.07 0-2.86zM5.41 20L4 18.59l7.72-7.72 1.47 1.35L5.41 20z\"/>\n",
       "  </svg>\n",
       "      </button>\n",
       "      \n",
       "  <style>\n",
       "    .colab-df-container {\n",
       "      display:flex;\n",
       "      flex-wrap:wrap;\n",
       "      gap: 12px;\n",
       "    }\n",
       "\n",
       "    .colab-df-convert {\n",
       "      background-color: #E8F0FE;\n",
       "      border: none;\n",
       "      border-radius: 50%;\n",
       "      cursor: pointer;\n",
       "      display: none;\n",
       "      fill: #1967D2;\n",
       "      height: 32px;\n",
       "      padding: 0 0 0 0;\n",
       "      width: 32px;\n",
       "    }\n",
       "\n",
       "    .colab-df-convert:hover {\n",
       "      background-color: #E2EBFA;\n",
       "      box-shadow: 0px 1px 2px rgba(60, 64, 67, 0.3), 0px 1px 3px 1px rgba(60, 64, 67, 0.15);\n",
       "      fill: #174EA6;\n",
       "    }\n",
       "\n",
       "    [theme=dark] .colab-df-convert {\n",
       "      background-color: #3B4455;\n",
       "      fill: #D2E3FC;\n",
       "    }\n",
       "\n",
       "    [theme=dark] .colab-df-convert:hover {\n",
       "      background-color: #434B5C;\n",
       "      box-shadow: 0px 1px 3px 1px rgba(0, 0, 0, 0.15);\n",
       "      filter: drop-shadow(0px 1px 2px rgba(0, 0, 0, 0.3));\n",
       "      fill: #FFFFFF;\n",
       "    }\n",
       "  </style>\n",
       "\n",
       "      <script>\n",
       "        const buttonEl =\n",
       "          document.querySelector('#df-e3f2ab41-d032-4302-b79c-3b212c63573c button.colab-df-convert');\n",
       "        buttonEl.style.display =\n",
       "          google.colab.kernel.accessAllowed ? 'block' : 'none';\n",
       "\n",
       "        async function convertToInteractive(key) {\n",
       "          const element = document.querySelector('#df-e3f2ab41-d032-4302-b79c-3b212c63573c');\n",
       "          const dataTable =\n",
       "            await google.colab.kernel.invokeFunction('convertToInteractive',\n",
       "                                                     [key], {});\n",
       "          if (!dataTable) return;\n",
       "\n",
       "          const docLinkHtml = 'Like what you see? Visit the ' +\n",
       "            '<a target=\"_blank\" href=https://colab.research.google.com/notebooks/data_table.ipynb>data table notebook</a>'\n",
       "            + ' to learn more about interactive tables.';\n",
       "          element.innerHTML = '';\n",
       "          dataTable['output_type'] = 'display_data';\n",
       "          await google.colab.output.renderOutput(dataTable, element);\n",
       "          const docLink = document.createElement('div');\n",
       "          docLink.innerHTML = docLinkHtml;\n",
       "          element.appendChild(docLink);\n",
       "        }\n",
       "      </script>\n",
       "    </div>\n",
       "  </div>\n",
       "  "
      ],
      "text/plain": [
       "               Views 26-07 at 22:38 26-07 at 22:39 26-07 at 22:40\n",
       "Video                                                            \n",
       "tzl8Y0yTon4    79752          79752          79840          79840\n",
       "1dOlGVnzMZc   468957         469748         469752         469752\n",
       "H8-gUuyJm8k   530397         530397         530397         530397\n",
       "clf7stNtaOI  1937676        1937676        1937676        1937792\n",
       "DZQxQNC5xYw    89004          89004          89004          89004\n",
       "...              ...            ...            ...            ...\n",
       "3PTw9dvjbIc    32072          32240          32245          32245\n",
       "BF5IszgvZP8   603657         603657         603657         606024\n",
       "oJ5RQlLupIw   638872         640203         640203         640203\n",
       "DrUFmaqfTq8    35558          35558          35558          35609\n",
       "ZPYCc8JhV5Y    73582          73582          73997          73997\n",
       "\n",
       "[100 rows x 4 columns]"
      ]
     },
     "execution_count": 33,
     "metadata": {},
     "output_type": "execute_result"
    }
   ],
   "source": [
    "df"
   ]
  },
  {
   "cell_type": "code",
   "execution_count": null,
   "metadata": {
    "id": "m6S8x5GY_gh9"
   },
   "outputs": [],
   "source": [
    "#indices=range(6)\n",
    "df.iloc[:, 0]=pd.to_numeric(df.iloc[:, 0])\n",
    "df.iloc[:, 1]=pd.to_numeric(df.iloc[:, 1])\n",
    "df.iloc[:, 2]=pd.to_numeric(df.iloc[:, 2])\n",
    "df.iloc[:, 3]=pd.to_numeric(df.iloc[:, 3])\n",
    "\n"
   ]
  },
  {
   "cell_type": "code",
   "execution_count": null,
   "metadata": {
    "colab": {
     "base_uri": "https://localhost:8080/"
    },
    "executionInfo": {
     "elapsed": 623,
     "status": "ok",
     "timestamp": 1658875404370,
     "user": {
      "displayName": "Brayan Mauricio Rodríguez Garzónn",
      "userId": "05435019562705070299"
     },
     "user_tz": 180
    },
    "id": "wOYqeR5V_5Up",
    "outputId": "30de6b94-839e-4ce7-d27e-4a073e243b64"
   },
   "outputs": [
    {
     "data": {
      "text/plain": [
       "Views             int64\n",
       "26-07 at 22:38    int64\n",
       "26-07 at 22:39    int64\n",
       "26-07 at 22:40    int64\n",
       "dtype: object"
      ]
     },
     "execution_count": 35,
     "metadata": {},
     "output_type": "execute_result"
    }
   ],
   "source": [
    "df.dtypes"
   ]
  },
  {
   "cell_type": "code",
   "execution_count": null,
   "metadata": {
    "colab": {
     "base_uri": "https://localhost:8080/",
     "height": 526
    },
    "executionInfo": {
     "elapsed": 474,
     "status": "ok",
     "timestamp": 1658864710700,
     "user": {
      "displayName": "Brayan Mauricio Rodríguez Garzónn",
      "userId": "05435019562705070299"
     },
     "user_tz": 180
    },
    "id": "xiOCe3WQ7De9",
    "outputId": "96fba06a-7d30-4122-c8af-c65fb859b09c"
   },
   "outputs": [
    {
     "name": "stderr",
     "output_type": "stream",
     "text": [
      "/usr/local/lib/python3.7/dist-packages/pandas/plotting/_matplotlib/core.py:633: UserWarning: The handle <matplotlib.lines.Line2D object at 0x7f4489b14c50> has a label of '__ur8Ykcivw' which cannot be automatically added to the legend.\n",
      "  ax.legend(handles, labels, loc=\"best\", title=title)\n",
      "/usr/local/lib/python3.7/dist-packages/pandas/plotting/_matplotlib/core.py:633: UserWarning: The handle <matplotlib.lines.Line2D object at 0x7f448825d750> has a label of '_3Ooq3vXe98' which cannot be automatically added to the legend.\n",
      "  ax.legend(handles, labels, loc=\"best\", title=title)\n",
      "/usr/local/lib/python3.7/dist-packages/pandas/plotting/_matplotlib/core.py:633: UserWarning: The handle <matplotlib.lines.Line2D object at 0x7f4488081e50> has a label of '_1IgBhngQto' which cannot be automatically added to the legend.\n",
      "  ax.legend(handles, labels, loc=\"best\", title=title)\n"
     ]
    },
    {
     "data": {
      "image/png": "[encoded data removed]",
      "text/plain": [
       "<Figure size 504x432 with 1 Axes>"
      ]
     },
     "metadata": {
      "needs_background": "light"
     },
     "output_type": "display_data"
    }
   ],
   "source": [
    "import matplotlib.pyplot as plt\n",
    "\n",
    "\n",
    "\n",
    "# transpose and plot\n",
    "ax = df.T.plot(figsize=(7, 6))\n",
    "ax.set_ylabel('Views', fontsize=12)\n",
    "ax.set_xlabel('Dates', fontsize=12)\n",
    "ax.get_legend().remove()\n",
    "plt.show()"
   ]
  },
  {
   "cell_type": "code",
   "execution_count": null,
   "metadata": {
    "colab": {
     "base_uri": "https://localhost:8080/",
     "height": 588
    },
    "executionInfo": {
     "elapsed": 307,
     "status": "ok",
     "timestamp": 1658871861016,
     "user": {
      "displayName": "Brayan Mauricio Rodríguez Garzónn",
      "userId": "05435019562705070299"
     },
     "user_tz": 180
    },
    "id": "VJGvmko07HyW",
    "outputId": "351862fa-b19b-4241-a416-d80ad0b39b14"
   },
   "outputs": [
    {
     "data": {
      "text/html": [
       "\n",
       "  <div id=\"df-46fcc66d-1625-4999-92ad-1cbf2f143a28\">\n",
       "    <div class=\"colab-df-container\">\n",
       "      <div>\n",
       "<style scoped>\n",
       "    .dataframe tbody tr th:only-of-type {\n",
       "        vertical-align: middle;\n",
       "    }\n",
       "\n",
       "    .dataframe tbody tr th {\n",
       "        vertical-align: top;\n",
       "    }\n",
       "\n",
       "    .dataframe thead th {\n",
       "        text-align: right;\n",
       "    }\n",
       "</style>\n",
       "<table border=\"1\" class=\"dataframe\">\n",
       "  <thead>\n",
       "    <tr style=\"text-align: right;\">\n",
       "      <th>Video</th>\n",
       "      <th>gej0Wj5Mr0A</th>\n",
       "      <th>bMFGP35xnD4</th>\n",
       "      <th>dBaVDq_qP2Y</th>\n",
       "      <th>BV8mdtNnrwk</th>\n",
       "      <th>p0MKOEmF9cA</th>\n",
       "      <th>oHDi01Yn4tY</th>\n",
       "      <th>Tr7mwAGTdK4</th>\n",
       "      <th>eFx3DB6dcUw</th>\n",
       "      <th>__ur8Ykcivw</th>\n",
       "      <th>MrktLFjzYWQ</th>\n",
       "      <th>...</th>\n",
       "      <th>wSWe10Vqn-Q</th>\n",
       "      <th>hOGuaMazCz8</th>\n",
       "      <th>p0MKOEmF9cA</th>\n",
       "      <th>8oCQbXvBF-k</th>\n",
       "      <th>73vl1-ljARc</th>\n",
       "      <th>s8Ak8G3B0ak</th>\n",
       "      <th>zCIcLE1GWUo</th>\n",
       "      <th>H6trv40u1mw</th>\n",
       "      <th>UH-TqH_SSIk</th>\n",
       "      <th>idynFPj5-UU</th>\n",
       "    </tr>\n",
       "  </thead>\n",
       "  <tbody>\n",
       "    <tr>\n",
       "      <th>Views</th>\n",
       "      <td>301176</td>\n",
       "      <td>767509</td>\n",
       "      <td>557827</td>\n",
       "      <td>218072</td>\n",
       "      <td>350648</td>\n",
       "      <td>1320498</td>\n",
       "      <td>8464857</td>\n",
       "      <td>189117</td>\n",
       "      <td>9193391</td>\n",
       "      <td>809987</td>\n",
       "      <td>...</td>\n",
       "      <td>648538</td>\n",
       "      <td>21167862</td>\n",
       "      <td>350648</td>\n",
       "      <td>184502</td>\n",
       "      <td>287957</td>\n",
       "      <td>267230</td>\n",
       "      <td>6844571</td>\n",
       "      <td>77501</td>\n",
       "      <td>119386</td>\n",
       "      <td>332274</td>\n",
       "    </tr>\n",
       "    <tr>\n",
       "      <th>26-07 at 21:35</th>\n",
       "      <td>301176</td>\n",
       "      <td>767780</td>\n",
       "      <td>557827</td>\n",
       "      <td>218072</td>\n",
       "      <td>350710</td>\n",
       "      <td>1320498</td>\n",
       "      <td>8464857</td>\n",
       "      <td>189117</td>\n",
       "      <td>9193391</td>\n",
       "      <td>809987</td>\n",
       "      <td>...</td>\n",
       "      <td>648538</td>\n",
       "      <td>21167862</td>\n",
       "      <td>350710</td>\n",
       "      <td>184502</td>\n",
       "      <td>287957</td>\n",
       "      <td>267230</td>\n",
       "      <td>6844571</td>\n",
       "      <td>77501</td>\n",
       "      <td>119386</td>\n",
       "      <td>332274</td>\n",
       "    </tr>\n",
       "    <tr>\n",
       "      <th>26-07 at 21:36</th>\n",
       "      <td>301176</td>\n",
       "      <td>767780</td>\n",
       "      <td>557866</td>\n",
       "      <td>218073</td>\n",
       "      <td>350710</td>\n",
       "      <td>1320872</td>\n",
       "      <td>8464857</td>\n",
       "      <td>189140</td>\n",
       "      <td>9193391</td>\n",
       "      <td>809987</td>\n",
       "      <td>...</td>\n",
       "      <td>648538</td>\n",
       "      <td>21167862</td>\n",
       "      <td>350710</td>\n",
       "      <td>184502</td>\n",
       "      <td>287957</td>\n",
       "      <td>267230</td>\n",
       "      <td>6844571</td>\n",
       "      <td>77501</td>\n",
       "      <td>119386</td>\n",
       "      <td>332327</td>\n",
       "    </tr>\n",
       "    <tr>\n",
       "      <th>26-07 at 21:37</th>\n",
       "      <td>301176</td>\n",
       "      <td>767780</td>\n",
       "      <td>557866</td>\n",
       "      <td>218073</td>\n",
       "      <td>350710</td>\n",
       "      <td>1320872</td>\n",
       "      <td>8464857</td>\n",
       "      <td>189140</td>\n",
       "      <td>9196770</td>\n",
       "      <td>810307</td>\n",
       "      <td>...</td>\n",
       "      <td>648538</td>\n",
       "      <td>21167862</td>\n",
       "      <td>350710</td>\n",
       "      <td>184502</td>\n",
       "      <td>287957</td>\n",
       "      <td>267230</td>\n",
       "      <td>6844571</td>\n",
       "      <td>77501</td>\n",
       "      <td>119386</td>\n",
       "      <td>332327</td>\n",
       "    </tr>\n",
       "    <tr>\n",
       "      <th>26-07 at 21:38</th>\n",
       "      <td>301176</td>\n",
       "      <td>767780</td>\n",
       "      <td>557866</td>\n",
       "      <td>218073</td>\n",
       "      <td>350710</td>\n",
       "      <td>1320872</td>\n",
       "      <td>8464857</td>\n",
       "      <td>189140</td>\n",
       "      <td>9196770</td>\n",
       "      <td>810307</td>\n",
       "      <td>...</td>\n",
       "      <td>648538</td>\n",
       "      <td>21169912</td>\n",
       "      <td>350710</td>\n",
       "      <td>184502</td>\n",
       "      <td>287976</td>\n",
       "      <td>267234</td>\n",
       "      <td>6845049</td>\n",
       "      <td>77501</td>\n",
       "      <td>119386</td>\n",
       "      <td>332327</td>\n",
       "    </tr>\n",
       "    <tr>\n",
       "      <th>26-07 at 21:39</th>\n",
       "      <td>301176</td>\n",
       "      <td>767780</td>\n",
       "      <td>557866</td>\n",
       "      <td>218073</td>\n",
       "      <td>350710</td>\n",
       "      <td>1320872</td>\n",
       "      <td>8464857</td>\n",
       "      <td>189140</td>\n",
       "      <td>9196770</td>\n",
       "      <td>810307</td>\n",
       "      <td>...</td>\n",
       "      <td>648538</td>\n",
       "      <td>21169912</td>\n",
       "      <td>350710</td>\n",
       "      <td>184502</td>\n",
       "      <td>287976</td>\n",
       "      <td>267234</td>\n",
       "      <td>6845049</td>\n",
       "      <td>77514</td>\n",
       "      <td>119396</td>\n",
       "      <td>332327</td>\n",
       "    </tr>\n",
       "    <tr>\n",
       "      <th>26-07 at 21:40</th>\n",
       "      <td>301221</td>\n",
       "      <td>768099</td>\n",
       "      <td>557866</td>\n",
       "      <td>218073</td>\n",
       "      <td>350781</td>\n",
       "      <td>1321765</td>\n",
       "      <td>8465160</td>\n",
       "      <td>189191</td>\n",
       "      <td>9196770</td>\n",
       "      <td>810307</td>\n",
       "      <td>...</td>\n",
       "      <td>648538</td>\n",
       "      <td>21169912</td>\n",
       "      <td>350781</td>\n",
       "      <td>184502</td>\n",
       "      <td>287976</td>\n",
       "      <td>267234</td>\n",
       "      <td>6845049</td>\n",
       "      <td>77514</td>\n",
       "      <td>119396</td>\n",
       "      <td>332327</td>\n",
       "    </tr>\n",
       "  </tbody>\n",
       "</table>\n",
       "<p>7 rows × 100 columns</p>\n",
       "</div>\n",
       "      <button class=\"colab-df-convert\" onclick=\"convertToInteractive('df-46fcc66d-1625-4999-92ad-1cbf2f143a28')\"\n",
       "              title=\"Convert this dataframe to an interactive table.\"\n",
       "              style=\"display:none;\">\n",
       "        \n",
       "  <svg xmlns=\"http://www.w3.org/2000/svg\" height=\"24px\"viewBox=\"0 0 24 24\"\n",
       "       width=\"24px\">\n",
       "    <path d=\"M0 0h24v24H0V0z\" fill=\"none\"/>\n",
       "    <path d=\"M18.56 5.44l.94 2.06.94-2.06 2.06-.94-2.06-.94-.94-2.06-.94 2.06-2.06.94zm-11 1L8.5 8.5l.94-2.06 2.06-.94-2.06-.94L8.5 2.5l-.94 2.06-2.06.94zm10 10l.94 2.06.94-2.06 2.06-.94-2.06-.94-.94-2.06-.94 2.06-2.06.94z\"/><path d=\"M17.41 7.96l-1.37-1.37c-.4-.4-.92-.59-1.43-.59-.52 0-1.04.2-1.43.59L10.3 9.45l-7.72 7.72c-.78.78-.78 2.05 0 2.83L4 21.41c.39.39.9.59 1.41.59.51 0 1.02-.2 1.41-.59l7.78-7.78 2.81-2.81c.8-.78.8-2.07 0-2.86zM5.41 20L4 18.59l7.72-7.72 1.47 1.35L5.41 20z\"/>\n",
       "  </svg>\n",
       "      </button>\n",
       "      \n",
       "  <style>\n",
       "    .colab-df-container {\n",
       "      display:flex;\n",
       "      flex-wrap:wrap;\n",
       "      gap: 12px;\n",
       "    }\n",
       "\n",
       "    .colab-df-convert {\n",
       "      background-color: #E8F0FE;\n",
       "      border: none;\n",
       "      border-radius: 50%;\n",
       "      cursor: pointer;\n",
       "      display: none;\n",
       "      fill: #1967D2;\n",
       "      height: 32px;\n",
       "      padding: 0 0 0 0;\n",
       "      width: 32px;\n",
       "    }\n",
       "\n",
       "    .colab-df-convert:hover {\n",
       "      background-color: #E2EBFA;\n",
       "      box-shadow: 0px 1px 2px rgba(60, 64, 67, 0.3), 0px 1px 3px 1px rgba(60, 64, 67, 0.15);\n",
       "      fill: #174EA6;\n",
       "    }\n",
       "\n",
       "    [theme=dark] .colab-df-convert {\n",
       "      background-color: #3B4455;\n",
       "      fill: #D2E3FC;\n",
       "    }\n",
       "\n",
       "    [theme=dark] .colab-df-convert:hover {\n",
       "      background-color: #434B5C;\n",
       "      box-shadow: 0px 1px 3px 1px rgba(0, 0, 0, 0.15);\n",
       "      filter: drop-shadow(0px 1px 2px rgba(0, 0, 0, 0.3));\n",
       "      fill: #FFFFFF;\n",
       "    }\n",
       "  </style>\n",
       "\n",
       "      <script>\n",
       "        const buttonEl =\n",
       "          document.querySelector('#df-46fcc66d-1625-4999-92ad-1cbf2f143a28 button.colab-df-convert');\n",
       "        buttonEl.style.display =\n",
       "          google.colab.kernel.accessAllowed ? 'block' : 'none';\n",
       "\n",
       "        async function convertToInteractive(key) {\n",
       "          const element = document.querySelector('#df-46fcc66d-1625-4999-92ad-1cbf2f143a28');\n",
       "          const dataTable =\n",
       "            await google.colab.kernel.invokeFunction('convertToInteractive',\n",
       "                                                     [key], {});\n",
       "          if (!dataTable) return;\n",
       "\n",
       "          const docLinkHtml = 'Like what you see? Visit the ' +\n",
       "            '<a target=\"_blank\" href=https://colab.research.google.com/notebooks/data_table.ipynb>data table notebook</a>'\n",
       "            + ' to learn more about interactive tables.';\n",
       "          element.innerHTML = '';\n",
       "          dataTable['output_type'] = 'display_data';\n",
       "          await google.colab.output.renderOutput(dataTable, element);\n",
       "          const docLink = document.createElement('div');\n",
       "          docLink.innerHTML = docLinkHtml;\n",
       "          element.appendChild(docLink);\n",
       "        }\n",
       "      </script>\n",
       "    </div>\n",
       "  </div>\n",
       "  "
      ],
      "text/plain": [
       "Video           gej0Wj5Mr0A  bMFGP35xnD4  dBaVDq_qP2Y  BV8mdtNnrwk  \\\n",
       "Views                301176       767509       557827       218072   \n",
       "26-07 at 21:35       301176       767780       557827       218072   \n",
       "26-07 at 21:36       301176       767780       557866       218073   \n",
       "26-07 at 21:37       301176       767780       557866       218073   \n",
       "26-07 at 21:38       301176       767780       557866       218073   \n",
       "26-07 at 21:39       301176       767780       557866       218073   \n",
       "26-07 at 21:40       301221       768099       557866       218073   \n",
       "\n",
       "Video           p0MKOEmF9cA  oHDi01Yn4tY  Tr7mwAGTdK4  eFx3DB6dcUw  \\\n",
       "Views                350648      1320498      8464857       189117   \n",
       "26-07 at 21:35       350710      1320498      8464857       189117   \n",
       "26-07 at 21:36       350710      1320872      8464857       189140   \n",
       "26-07 at 21:37       350710      1320872      8464857       189140   \n",
       "26-07 at 21:38       350710      1320872      8464857       189140   \n",
       "26-07 at 21:39       350710      1320872      8464857       189140   \n",
       "26-07 at 21:40       350781      1321765      8465160       189191   \n",
       "\n",
       "Video           __ur8Ykcivw  MrktLFjzYWQ  ...  wSWe10Vqn-Q  hOGuaMazCz8  \\\n",
       "Views               9193391       809987  ...       648538     21167862   \n",
       "26-07 at 21:35      9193391       809987  ...       648538     21167862   \n",
       "26-07 at 21:36      9193391       809987  ...       648538     21167862   \n",
       "26-07 at 21:37      9196770       810307  ...       648538     21167862   \n",
       "26-07 at 21:38      9196770       810307  ...       648538     21169912   \n",
       "26-07 at 21:39      9196770       810307  ...       648538     21169912   \n",
       "26-07 at 21:40      9196770       810307  ...       648538     21169912   \n",
       "\n",
       "Video           p0MKOEmF9cA  8oCQbXvBF-k  73vl1-ljARc  s8Ak8G3B0ak  \\\n",
       "Views                350648       184502       287957       267230   \n",
       "26-07 at 21:35       350710       184502       287957       267230   \n",
       "26-07 at 21:36       350710       184502       287957       267230   \n",
       "26-07 at 21:37       350710       184502       287957       267230   \n",
       "26-07 at 21:38       350710       184502       287976       267234   \n",
       "26-07 at 21:39       350710       184502       287976       267234   \n",
       "26-07 at 21:40       350781       184502       287976       267234   \n",
       "\n",
       "Video           zCIcLE1GWUo  H6trv40u1mw  UH-TqH_SSIk  idynFPj5-UU  \n",
       "Views               6844571        77501       119386       332274  \n",
       "26-07 at 21:35      6844571        77501       119386       332274  \n",
       "26-07 at 21:36      6844571        77501       119386       332327  \n",
       "26-07 at 21:37      6844571        77501       119386       332327  \n",
       "26-07 at 21:38      6845049        77501       119386       332327  \n",
       "26-07 at 21:39      6845049        77514       119396       332327  \n",
       "26-07 at 21:40      6845049        77514       119396       332327  \n",
       "\n",
       "[7 rows x 100 columns]"
      ]
     },
     "execution_count": 17,
     "metadata": {},
     "output_type": "execute_result"
    }
   ],
   "source": [
    "dft=df.T\n",
    "dft\n"
   ]
  },
  {
   "cell_type": "code",
   "execution_count": null,
   "metadata": {
    "colab": {
     "base_uri": "https://localhost:8080/",
     "height": 282
    },
    "executionInfo": {
     "elapsed": 477,
     "status": "ok",
     "timestamp": 1658871994571,
     "user": {
      "displayName": "Brayan Mauricio Rodríguez Garzónn",
      "userId": "05435019562705070299"
     },
     "user_tz": 180
    },
    "id": "L5veyKMDIce_",
    "outputId": "a28ee1ee-2e32-48c7-daea-797d341113ae"
   },
   "outputs": [
    {
     "data": {
      "text/plain": [
       "[<matplotlib.lines.Line2D at 0x7f24691c7750>]"
      ]
     },
     "execution_count": 19,
     "metadata": {},
     "output_type": "execute_result"
    },
    {
     "data": {
      "image/png": "[encoded data removed]",
      "text/plain": [
       "<Figure size 432x288 with 1 Axes>"
      ]
     },
     "metadata": {
      "needs_background": "light"
     },
     "output_type": "display_data"
    }
   ],
   "source": [
    "import numpy as np\n",
    "import matplotlib.pyplot as plt\n",
    "\n",
    "#y = np.diff(dft['gej0Wj5Mr0A'])\n",
    "#y = np.diff(dft.iloc[:, 0])\n",
    "\n",
    "i=0\n",
    "\n",
    "plt.plot(np.diff(dft.iloc[:, 0]))\n",
    "plt.plot(np.diff(dft.iloc[:, 1]))\n",
    "plt.plot(np.diff(dft.iloc[:, 2]))\n",
    "plt.plot(np.diff(dft.iloc[:, 3]))\n",
    "plt.plot(np.diff(dft.iloc[:, 4]))\n",
    "plt.plot(np.diff(dft.iloc[:, 5]))\n",
    "\n"
   ]
  },
  {
   "cell_type": "code",
   "execution_count": null,
   "metadata": {
    "id": "BsKwdMrEMtLZ"
   },
   "outputs": [],
   "source": []
  },
  {
   "cell_type": "markdown",
   "metadata": {
    "id": "NF_ubcwQYJ5D"
   },
   "source": [
    "## Complementado a base de dados tendencias com as durações \n",
    "\n"
   ]
  },
  {
   "cell_type": "code",
   "execution_count": null,
   "metadata": {
    "colab": {
     "base_uri": "https://localhost:8080/",
     "height": 36
    },
    "executionInfo": {
     "elapsed": 401,
     "status": "ok",
     "timestamp": 1670156197445,
     "user": {
      "displayName": "Brayan Mauricio Rodríguez Garzónn",
      "userId": "05435019562705070299"
     },
     "user_tz": 180
    },
    "id": "Sau56VPYcLr8",
    "outputId": "81303b96-ad60-4c4c-83ca-2c2bcc71c9f6"
   },
   "outputs": [
    {
     "data": {
      "application/vnd.google.colaboratory.intrinsic+json": {
       "type": "string"
      },
      "text/plain": [
       "'/content/drive/MyDrive/MyCopy/You_tube_database/archive/'"
      ]
     },
     "execution_count": 4,
     "metadata": {},
     "output_type": "execute_result"
    }
   ],
   "source": [
    "import pandas as pd\n",
    "import numpy as np\n",
    "link\n"
   ]
  },
  {
   "cell_type": "code",
   "execution_count": null,
   "metadata": {
    "id": "RuAUqSrVYOTz"
   },
   "outputs": [],
   "source": [
    "tendencias=pd.read_csv(link+'tendencias_tratadas.csv',lineterminator='\\n')"
   ]
  },
  {
   "cell_type": "code",
   "execution_count": null,
   "metadata": {
    "colab": {
     "base_uri": "https://localhost:8080/"
    },
    "executionInfo": {
     "elapsed": 399,
     "status": "ok",
     "timestamp": 1670156420687,
     "user": {
      "displayName": "Brayan Mauricio Rodríguez Garzónn",
      "userId": "05435019562705070299"
     },
     "user_tz": 180
    },
    "id": "0CqkFpyKbxTY",
    "outputId": "b530166f-9569-4e47-b773-9218f9e43ba5"
   },
   "outputs": [
    {
     "name": "stdout",
     "output_type": "stream",
     "text": [
      "(150061, 17)\n",
      "23366\n"
     ]
    }
   ],
   "source": [
    "print(tendencias.shape)\n",
    "print(len(tendencias['Id'].unique()))"
   ]
  },
  {
   "cell_type": "code",
   "execution_count": null,
   "metadata": {
    "colab": {
     "base_uri": "https://localhost:8080/",
     "height": 332
    },
    "executionInfo": {
     "elapsed": 428,
     "status": "ok",
     "timestamp": 1670157074566,
     "user": {
      "displayName": "Brayan Mauricio Rodríguez Garzónn",
      "userId": "05435019562705070299"
     },
     "user_tz": 180
    },
    "id": "Q7CBqZRrfNFW",
    "outputId": "90372e60-c294-455d-adfb-154a6eeec9bd"
   },
   "outputs": [
    {
     "data": {
      "text/html": [
       "\n",
       "  <div id=\"df-c51fce2a-79cc-45cb-b8b2-1168a423e13b\">\n",
       "    <div class=\"colab-df-container\">\n",
       "      <div>\n",
       "<style scoped>\n",
       "    .dataframe tbody tr th:only-of-type {\n",
       "        vertical-align: middle;\n",
       "    }\n",
       "\n",
       "    .dataframe tbody tr th {\n",
       "        vertical-align: top;\n",
       "    }\n",
       "\n",
       "    .dataframe thead th {\n",
       "        text-align: right;\n",
       "    }\n",
       "</style>\n",
       "<table border=\"1\" class=\"dataframe\">\n",
       "  <thead>\n",
       "    <tr style=\"text-align: right;\">\n",
       "      <th></th>\n",
       "      <th>Unnamed: 0</th>\n",
       "      <th>Id</th>\n",
       "      <th>Titulo</th>\n",
       "      <th>Data</th>\n",
       "      <th>C_id</th>\n",
       "      <th>C_titulo</th>\n",
       "      <th>Categoria</th>\n",
       "      <th>Data_tendencia</th>\n",
       "      <th>Etiqueta</th>\n",
       "      <th>Vistas</th>\n",
       "      <th>likes</th>\n",
       "      <th>dislikes</th>\n",
       "      <th>Q_comentarios</th>\n",
       "      <th>Descricao</th>\n",
       "      <th>Duracao</th>\n",
       "      <th>C_Data</th>\n",
       "      <th>Subscriptores</th>\n",
       "    </tr>\n",
       "  </thead>\n",
       "  <tbody>\n",
       "    <tr>\n",
       "      <th>17111</th>\n",
       "      <td>18004</td>\n",
       "      <td>rS2UJpD3tQQ</td>\n",
       "      <td>PREPAREI UMA SURPRESA PRA ELA! ‹ JonVlogs ›</td>\n",
       "      <td>2020-11-10 22:00:12+00:00</td>\n",
       "      <td>UCbIV7t22dH_d75fv1GP56zA</td>\n",
       "      <td>Jon Vlogs</td>\n",
       "      <td>Entertainment</td>\n",
       "      <td>2020-11-11 00:00:00+00:00</td>\n",
       "      <td>JonVlogs|intercambio|dia|nos|eua|jon|jhon|john...</td>\n",
       "      <td>145368</td>\n",
       "      <td>35283</td>\n",
       "      <td>261</td>\n",
       "      <td>509</td>\n",
       "      <td>Fala ae galera, blz? Como falei pra vocês no ú...</td>\n",
       "      <td>484.0</td>\n",
       "      <td>2015-09-13 05:19:14+00:00</td>\n",
       "      <td>6760000.0</td>\n",
       "    </tr>\n",
       "    <tr>\n",
       "      <th>37847</th>\n",
       "      <td>39606</td>\n",
       "      <td>-X-mA9N-_Hc</td>\n",
       "      <td>TROLEI MINHA AMIGA NO ANIVERSÁRIO DELA</td>\n",
       "      <td>2021-03-01 14:15:01+00:00</td>\n",
       "      <td>UC8gWf3nGUdGhp_fNUBOrCtA</td>\n",
       "      <td>Dani Nobrega</td>\n",
       "      <td>People &amp; Blogs</td>\n",
       "      <td>2021-03-02 00:00:00+00:00</td>\n",
       "      <td>[None]</td>\n",
       "      <td>157725</td>\n",
       "      <td>30413</td>\n",
       "      <td>205</td>\n",
       "      <td>1455</td>\n",
       "      <td>Genteeee, o que vocês acharam desse presente? ...</td>\n",
       "      <td>1011.0</td>\n",
       "      <td>2021-02-18 04:13:44.693282+00:00</td>\n",
       "      <td>1380000.0</td>\n",
       "    </tr>\n",
       "  </tbody>\n",
       "</table>\n",
       "</div>\n",
       "      <button class=\"colab-df-convert\" onclick=\"convertToInteractive('df-c51fce2a-79cc-45cb-b8b2-1168a423e13b')\"\n",
       "              title=\"Convert this dataframe to an interactive table.\"\n",
       "              style=\"display:none;\">\n",
       "        \n",
       "  <svg xmlns=\"http://www.w3.org/2000/svg\" height=\"24px\"viewBox=\"0 0 24 24\"\n",
       "       width=\"24px\">\n",
       "    <path d=\"M0 0h24v24H0V0z\" fill=\"none\"/>\n",
       "    <path d=\"M18.56 5.44l.94 2.06.94-2.06 2.06-.94-2.06-.94-.94-2.06-.94 2.06-2.06.94zm-11 1L8.5 8.5l.94-2.06 2.06-.94-2.06-.94L8.5 2.5l-.94 2.06-2.06.94zm10 10l.94 2.06.94-2.06 2.06-.94-2.06-.94-.94-2.06-.94 2.06-2.06.94z\"/><path d=\"M17.41 7.96l-1.37-1.37c-.4-.4-.92-.59-1.43-.59-.52 0-1.04.2-1.43.59L10.3 9.45l-7.72 7.72c-.78.78-.78 2.05 0 2.83L4 21.41c.39.39.9.59 1.41.59.51 0 1.02-.2 1.41-.59l7.78-7.78 2.81-2.81c.8-.78.8-2.07 0-2.86zM5.41 20L4 18.59l7.72-7.72 1.47 1.35L5.41 20z\"/>\n",
       "  </svg>\n",
       "      </button>\n",
       "      \n",
       "  <style>\n",
       "    .colab-df-container {\n",
       "      display:flex;\n",
       "      flex-wrap:wrap;\n",
       "      gap: 12px;\n",
       "    }\n",
       "\n",
       "    .colab-df-convert {\n",
       "      background-color: #E8F0FE;\n",
       "      border: none;\n",
       "      border-radius: 50%;\n",
       "      cursor: pointer;\n",
       "      display: none;\n",
       "      fill: #1967D2;\n",
       "      height: 32px;\n",
       "      padding: 0 0 0 0;\n",
       "      width: 32px;\n",
       "    }\n",
       "\n",
       "    .colab-df-convert:hover {\n",
       "      background-color: #E2EBFA;\n",
       "      box-shadow: 0px 1px 2px rgba(60, 64, 67, 0.3), 0px 1px 3px 1px rgba(60, 64, 67, 0.15);\n",
       "      fill: #174EA6;\n",
       "    }\n",
       "\n",
       "    [theme=dark] .colab-df-convert {\n",
       "      background-color: #3B4455;\n",
       "      fill: #D2E3FC;\n",
       "    }\n",
       "\n",
       "    [theme=dark] .colab-df-convert:hover {\n",
       "      background-color: #434B5C;\n",
       "      box-shadow: 0px 1px 3px 1px rgba(0, 0, 0, 0.15);\n",
       "      filter: drop-shadow(0px 1px 2px rgba(0, 0, 0, 0.3));\n",
       "      fill: #FFFFFF;\n",
       "    }\n",
       "  </style>\n",
       "\n",
       "      <script>\n",
       "        const buttonEl =\n",
       "          document.querySelector('#df-c51fce2a-79cc-45cb-b8b2-1168a423e13b button.colab-df-convert');\n",
       "        buttonEl.style.display =\n",
       "          google.colab.kernel.accessAllowed ? 'block' : 'none';\n",
       "\n",
       "        async function convertToInteractive(key) {\n",
       "          const element = document.querySelector('#df-c51fce2a-79cc-45cb-b8b2-1168a423e13b');\n",
       "          const dataTable =\n",
       "            await google.colab.kernel.invokeFunction('convertToInteractive',\n",
       "                                                     [key], {});\n",
       "          if (!dataTable) return;\n",
       "\n",
       "          const docLinkHtml = 'Like what you see? Visit the ' +\n",
       "            '<a target=\"_blank\" href=https://colab.research.google.com/notebooks/data_table.ipynb>data table notebook</a>'\n",
       "            + ' to learn more about interactive tables.';\n",
       "          element.innerHTML = '';\n",
       "          dataTable['output_type'] = 'display_data';\n",
       "          await google.colab.output.renderOutput(dataTable, element);\n",
       "          const docLink = document.createElement('div');\n",
       "          docLink.innerHTML = docLinkHtml;\n",
       "          element.appendChild(docLink);\n",
       "        }\n",
       "      </script>\n",
       "    </div>\n",
       "  </div>\n",
       "  "
      ],
      "text/plain": [
       "       Unnamed: 0           Id                                       Titulo  \\\n",
       "17111       18004  rS2UJpD3tQQ  PREPAREI UMA SURPRESA PRA ELA! ‹ JonVlogs ›   \n",
       "37847       39606  -X-mA9N-_Hc       TROLEI MINHA AMIGA NO ANIVERSÁRIO DELA   \n",
       "\n",
       "                            Data                      C_id      C_titulo  \\\n",
       "17111  2020-11-10 22:00:12+00:00  UCbIV7t22dH_d75fv1GP56zA     Jon Vlogs   \n",
       "37847  2021-03-01 14:15:01+00:00  UC8gWf3nGUdGhp_fNUBOrCtA  Dani Nobrega   \n",
       "\n",
       "            Categoria             Data_tendencia  \\\n",
       "17111   Entertainment  2020-11-11 00:00:00+00:00   \n",
       "37847  People & Blogs  2021-03-02 00:00:00+00:00   \n",
       "\n",
       "                                                Etiqueta  Vistas  likes  \\\n",
       "17111  JonVlogs|intercambio|dia|nos|eua|jon|jhon|john...  145368  35283   \n",
       "37847                                             [None]  157725  30413   \n",
       "\n",
       "       dislikes  Q_comentarios  \\\n",
       "17111       261            509   \n",
       "37847       205           1455   \n",
       "\n",
       "                                               Descricao  Duracao  \\\n",
       "17111  Fala ae galera, blz? Como falei pra vocês no ú...    484.0   \n",
       "37847  Genteeee, o que vocês acharam desse presente? ...   1011.0   \n",
       "\n",
       "                                 C_Data  Subscriptores  \n",
       "17111         2015-09-13 05:19:14+00:00      6760000.0  \n",
       "37847  2021-02-18 04:13:44.693282+00:00      1380000.0  "
      ]
     },
     "execution_count": 8,
     "metadata": {},
     "output_type": "execute_result"
    }
   ],
   "source": [
    "tendencias.sample(2)"
   ]
  },
  {
   "cell_type": "code",
   "execution_count": null,
   "metadata": {
    "colab": {
     "base_uri": "https://localhost:8080/",
     "height": 214
    },
    "executionInfo": {
     "elapsed": 6,
     "status": "ok",
     "timestamp": 1670157079200,
     "user": {
      "displayName": "Brayan Mauricio Rodríguez Garzónn",
      "userId": "05435019562705070299"
     },
     "user_tz": 180
    },
    "id": "UTVVpfRNeB7W",
    "outputId": "7c36c3d4-132d-454c-e712-6bbe37ae66c4"
   },
   "outputs": [
    {
     "data": {
      "text/html": [
       "\n",
       "  <div id=\"df-3d1b8d3d-b370-433b-929f-56fc2d4cbd93\">\n",
       "    <div class=\"colab-df-container\">\n",
       "      <div>\n",
       "<style scoped>\n",
       "    .dataframe tbody tr th:only-of-type {\n",
       "        vertical-align: middle;\n",
       "    }\n",
       "\n",
       "    .dataframe tbody tr th {\n",
       "        vertical-align: top;\n",
       "    }\n",
       "\n",
       "    .dataframe thead th {\n",
       "        text-align: right;\n",
       "    }\n",
       "</style>\n",
       "<table border=\"1\" class=\"dataframe\">\n",
       "  <thead>\n",
       "    <tr style=\"text-align: right;\">\n",
       "      <th></th>\n",
       "      <th>Id</th>\n",
       "      <th>Titulo</th>\n",
       "      <th>Data</th>\n",
       "      <th>C_id</th>\n",
       "      <th>C_titulo</th>\n",
       "      <th>Categoria</th>\n",
       "      <th>Data_tendencia</th>\n",
       "      <th>Etiqueta</th>\n",
       "      <th>Vistas</th>\n",
       "      <th>likes</th>\n",
       "      <th>dislikes</th>\n",
       "      <th>Q_comentarios</th>\n",
       "      <th>Descricao</th>\n",
       "      <th>Duracao</th>\n",
       "      <th>C_Data</th>\n",
       "      <th>Subscriptores</th>\n",
       "    </tr>\n",
       "  </thead>\n",
       "  <tbody>\n",
       "    <tr>\n",
       "      <th>101784</th>\n",
       "      <td>Ladql7BS0Jw</td>\n",
       "      <td>ESTOU NAMORANDO!! *nos conhecendo melhor*</td>\n",
       "      <td>2022-01-12 15:22:48+00:00</td>\n",
       "      <td>UCxYqdYKUNyuKt2pJMIt4P7g</td>\n",
       "      <td>Thaís Chagas</td>\n",
       "      <td>People &amp; Blogs</td>\n",
       "      <td>2022-01-18 00:00:00+00:00</td>\n",
       "      <td>[None]</td>\n",
       "      <td>204018</td>\n",
       "      <td>23764</td>\n",
       "      <td>0</td>\n",
       "      <td>658</td>\n",
       "      <td>NaN</td>\n",
       "      <td>702.0</td>\n",
       "      <td>2015-12-06 16:33:39+00:00</td>\n",
       "      <td>678000.0</td>\n",
       "    </tr>\n",
       "  </tbody>\n",
       "</table>\n",
       "</div>\n",
       "      <button class=\"colab-df-convert\" onclick=\"convertToInteractive('df-3d1b8d3d-b370-433b-929f-56fc2d4cbd93')\"\n",
       "              title=\"Convert this dataframe to an interactive table.\"\n",
       "              style=\"display:none;\">\n",
       "        \n",
       "  <svg xmlns=\"http://www.w3.org/2000/svg\" height=\"24px\"viewBox=\"0 0 24 24\"\n",
       "       width=\"24px\">\n",
       "    <path d=\"M0 0h24v24H0V0z\" fill=\"none\"/>\n",
       "    <path d=\"M18.56 5.44l.94 2.06.94-2.06 2.06-.94-2.06-.94-.94-2.06-.94 2.06-2.06.94zm-11 1L8.5 8.5l.94-2.06 2.06-.94-2.06-.94L8.5 2.5l-.94 2.06-2.06.94zm10 10l.94 2.06.94-2.06 2.06-.94-2.06-.94-.94-2.06-.94 2.06-2.06.94z\"/><path d=\"M17.41 7.96l-1.37-1.37c-.4-.4-.92-.59-1.43-.59-.52 0-1.04.2-1.43.59L10.3 9.45l-7.72 7.72c-.78.78-.78 2.05 0 2.83L4 21.41c.39.39.9.59 1.41.59.51 0 1.02-.2 1.41-.59l7.78-7.78 2.81-2.81c.8-.78.8-2.07 0-2.86zM5.41 20L4 18.59l7.72-7.72 1.47 1.35L5.41 20z\"/>\n",
       "  </svg>\n",
       "      </button>\n",
       "      \n",
       "  <style>\n",
       "    .colab-df-container {\n",
       "      display:flex;\n",
       "      flex-wrap:wrap;\n",
       "      gap: 12px;\n",
       "    }\n",
       "\n",
       "    .colab-df-convert {\n",
       "      background-color: #E8F0FE;\n",
       "      border: none;\n",
       "      border-radius: 50%;\n",
       "      cursor: pointer;\n",
       "      display: none;\n",
       "      fill: #1967D2;\n",
       "      height: 32px;\n",
       "      padding: 0 0 0 0;\n",
       "      width: 32px;\n",
       "    }\n",
       "\n",
       "    .colab-df-convert:hover {\n",
       "      background-color: #E2EBFA;\n",
       "      box-shadow: 0px 1px 2px rgba(60, 64, 67, 0.3), 0px 1px 3px 1px rgba(60, 64, 67, 0.15);\n",
       "      fill: #174EA6;\n",
       "    }\n",
       "\n",
       "    [theme=dark] .colab-df-convert {\n",
       "      background-color: #3B4455;\n",
       "      fill: #D2E3FC;\n",
       "    }\n",
       "\n",
       "    [theme=dark] .colab-df-convert:hover {\n",
       "      background-color: #434B5C;\n",
       "      box-shadow: 0px 1px 3px 1px rgba(0, 0, 0, 0.15);\n",
       "      filter: drop-shadow(0px 1px 2px rgba(0, 0, 0, 0.3));\n",
       "      fill: #FFFFFF;\n",
       "    }\n",
       "  </style>\n",
       "\n",
       "      <script>\n",
       "        const buttonEl =\n",
       "          document.querySelector('#df-3d1b8d3d-b370-433b-929f-56fc2d4cbd93 button.colab-df-convert');\n",
       "        buttonEl.style.display =\n",
       "          google.colab.kernel.accessAllowed ? 'block' : 'none';\n",
       "\n",
       "        async function convertToInteractive(key) {\n",
       "          const element = document.querySelector('#df-3d1b8d3d-b370-433b-929f-56fc2d4cbd93');\n",
       "          const dataTable =\n",
       "            await google.colab.kernel.invokeFunction('convertToInteractive',\n",
       "                                                     [key], {});\n",
       "          if (!dataTable) return;\n",
       "\n",
       "          const docLinkHtml = 'Like what you see? Visit the ' +\n",
       "            '<a target=\"_blank\" href=https://colab.research.google.com/notebooks/data_table.ipynb>data table notebook</a>'\n",
       "            + ' to learn more about interactive tables.';\n",
       "          element.innerHTML = '';\n",
       "          dataTable['output_type'] = 'display_data';\n",
       "          await google.colab.output.renderOutput(dataTable, element);\n",
       "          const docLink = document.createElement('div');\n",
       "          docLink.innerHTML = docLinkHtml;\n",
       "          element.appendChild(docLink);\n",
       "        }\n",
       "      </script>\n",
       "    </div>\n",
       "  </div>\n",
       "  "
      ],
      "text/plain": [
       "                 Id                                     Titulo  \\\n",
       "101784  Ladql7BS0Jw  ESTOU NAMORANDO!! *nos conhecendo melhor*   \n",
       "\n",
       "                             Data                      C_id      C_titulo  \\\n",
       "101784  2022-01-12 15:22:48+00:00  UCxYqdYKUNyuKt2pJMIt4P7g  Thaís Chagas   \n",
       "\n",
       "             Categoria             Data_tendencia Etiqueta  Vistas  likes  \\\n",
       "101784  People & Blogs  2022-01-18 00:00:00+00:00   [None]  204018  23764   \n",
       "\n",
       "        dislikes  Q_comentarios Descricao  Duracao                     C_Data  \\\n",
       "101784         0            658       NaN    702.0  2015-12-06 16:33:39+00:00   \n",
       "\n",
       "        Subscriptores  \n",
       "101784       678000.0  "
      ]
     },
     "execution_count": 9,
     "metadata": {},
     "output_type": "execute_result"
    }
   ],
   "source": [
    "tendencias=tendencias.drop(columns='Unnamed: 0')\n",
    "tendencias.sample(1)"
   ]
  },
  {
   "cell_type": "code",
   "execution_count": null,
   "metadata": {
    "id": "CXVo7VKFfiw7"
   },
   "outputs": [],
   "source": [
    "ids=list(tendencias['Id'].unique())\n"
   ]
  },
  {
   "cell_type": "code",
   "execution_count": null,
   "metadata": {
    "colab": {
     "base_uri": "https://localhost:8080/"
    },
    "executionInfo": {
     "elapsed": 10,
     "status": "ok",
     "timestamp": 1670157085111,
     "user": {
      "displayName": "Brayan Mauricio Rodríguez Garzónn",
      "userId": "05435019562705070299"
     },
     "user_tz": 180
    },
    "id": "9PKeXaz1p_MH",
    "outputId": "4c2a8c9f-0c34-4472-94a1-686e30a8f10e"
   },
   "outputs": [
    {
     "data": {
      "text/plain": [
       "23366"
      ]
     },
     "execution_count": 11,
     "metadata": {},
     "output_type": "execute_result"
    }
   ],
   "source": [
    "len(ids)"
   ]
  },
  {
   "cell_type": "code",
   "execution_count": null,
   "metadata": {
    "id": "-dLbDwHggCjh"
   },
   "outputs": [],
   "source": [
    "request = youtube_tres.videos().list(\n",
    "          part=\"id, snippet, contentDetails, player, recordingDetails, statistics, status, topicDetails\",\n",
    "          id='wxvduBB8jPo'\n",
    "      )\n",
    "# fileDetails ,, ,suggestions,\n",
    "response = request.execute()\n",
    "# response"
   ]
  },
  {
   "cell_type": "markdown",
   "metadata": {
    "id": "XWhY_Ml9pDW0"
   },
   "source": [
    "A part snippet contem a categoria, e  content details contem a duração dos vídeos ."
   ]
  },
  {
   "cell_type": "code",
   "execution_count": null,
   "metadata": {
    "id": "f-awycrhoM_m"
   },
   "outputs": [],
   "source": [
    "i=0\n",
    "durations=[]\n",
    "\n",
    "for i in range(100):\n",
    "  request = youtube_tres.videos().list(\n",
    "            part=\"contentDetails\",\n",
    "            id=ids[50*i:(i+1)*50]\n",
    "        )\n",
    "  # fileDetails ,, ,suggestions,\n",
    "  response = request.execute()\n",
    "  durations+=response['items']\n"
   ]
  },
  {
   "cell_type": "code",
   "execution_count": null,
   "metadata": {
    "id": "JmDxg7DrsVAC"
   },
   "outputs": [],
   "source": [
    "i=0\n",
    "for i in range(100,200):\n",
    "  request = youtube_tres.videos().list(\n",
    "            part=\"contentDetails\",\n",
    "            id=ids[50*i:(i+1)*50]\n",
    "        )\n",
    "  # fileDetails ,, ,suggestions,\n",
    "  response = request.execute()\n",
    "  durations+=response['items']"
   ]
  },
  {
   "cell_type": "code",
   "execution_count": null,
   "metadata": {
    "id": "wSzjoZrjs-Jz"
   },
   "outputs": [],
   "source": [
    "durations_save=durations.copy()"
   ]
  },
  {
   "cell_type": "code",
   "execution_count": null,
   "metadata": {
    "id": "zRbLSB7JtGOF"
   },
   "outputs": [],
   "source": [
    "i=0\n",
    "for i in range(200,300):\n",
    "  request = youtube_tres.videos().list(\n",
    "            part=\"contentDetails\",\n",
    "            id=ids[50*i:(i+1)*50]\n",
    "        )\n",
    "  # fileDetails ,, ,suggestions,\n",
    "  response = request.execute()\n",
    "  durations+=response['items']"
   ]
  },
  {
   "cell_type": "code",
   "execution_count": null,
   "metadata": {
    "id": "gLs8TY7jtgIz"
   },
   "outputs": [],
   "source": [
    "i=0\n",
    "for i in range(300,400):\n",
    "  request = youtube_tres.videos().list(\n",
    "            part=\"contentDetails\",\n",
    "            id=ids[50*i:(i+1)*50]\n",
    "        )\n",
    "  # fileDetails ,, ,suggestions,\n",
    "  response = request.execute()\n",
    "  durations+=response['items']"
   ]
  },
  {
   "cell_type": "code",
   "execution_count": null,
   "metadata": {
    "id": "rMke4RgMvB0c"
   },
   "outputs": [],
   "source": [
    "i=0\n",
    "for i in range(400*50,len(ids)):\n",
    "  request = youtube_tres.videos().list(\n",
    "            part=\"contentDetails\",\n",
    "            id=ids[i]\n",
    "        )\n",
    "  # fileDetails ,, ,suggestions,\n",
    "  response = request.execute()\n",
    "  durations+=response['items']"
   ]
  },
  {
   "cell_type": "code",
   "execution_count": null,
   "metadata": {
    "colab": {
     "base_uri": "https://localhost:8080/"
    },
    "executionInfo": {
     "elapsed": 320,
     "status": "ok",
     "timestamp": 1664751306099,
     "user": {
      "displayName": "Brayan Mauricio Rodríguez Garzónn",
      "userId": "05435019562705070299"
     },
     "user_tz": 180
    },
    "id": "M9fkXaAqqm2M",
    "outputId": "35feaa66-afb9-41c5-b505-7e63b2d40d5a"
   },
   "outputs": [
    {
     "data": {
      "text/plain": [
       "23366"
      ]
     },
     "execution_count": 22,
     "metadata": {},
     "output_type": "execute_result"
    }
   ],
   "source": [
    "len(durations)"
   ]
  },
  {
   "cell_type": "code",
   "execution_count": null,
   "metadata": {
    "colab": {
     "base_uri": "https://localhost:8080/"
    },
    "executionInfo": {
     "elapsed": 447,
     "status": "ok",
     "timestamp": 1664751312287,
     "user": {
      "displayName": "Brayan Mauricio Rodríguez Garzónn",
      "userId": "05435019562705070299"
     },
     "user_tz": 180
    },
    "id": "y1plJqE2qwZ6",
    "outputId": "85503580-b8e7-4dec-8c6c-942bba36c10a"
   },
   "outputs": [
    {
     "data": {
      "text/plain": [
       "9528"
      ]
     },
     "execution_count": 23,
     "metadata": {},
     "output_type": "execute_result"
    }
   ],
   "source": [
    "len(durations_save)"
   ]
  },
  {
   "cell_type": "code",
   "execution_count": null,
   "metadata": {
    "colab": {
     "base_uri": "https://localhost:8080/",
     "height": 468
    },
    "executionInfo": {
     "elapsed": 359,
     "status": "ok",
     "timestamp": 1664751319368,
     "user": {
      "displayName": "Brayan Mauricio Rodríguez Garzónn",
      "userId": "05435019562705070299"
     },
     "user_tz": 180
    },
    "id": "LkCAjGhUwqh9",
    "outputId": "44f08890-2fdf-4d0a-dbfa-4015a48fe413"
   },
   "outputs": [
    {
     "data": {
      "text/html": [
       "\n",
       "  <div id=\"df-32141c0a-c0a8-468a-9359-70f6145cc46e\">\n",
       "    <div class=\"colab-df-container\">\n",
       "      <div>\n",
       "<style scoped>\n",
       "    .dataframe tbody tr th:only-of-type {\n",
       "        vertical-align: middle;\n",
       "    }\n",
       "\n",
       "    .dataframe tbody tr th {\n",
       "        vertical-align: top;\n",
       "    }\n",
       "\n",
       "    .dataframe thead th {\n",
       "        text-align: right;\n",
       "    }\n",
       "</style>\n",
       "<table border=\"1\" class=\"dataframe\">\n",
       "  <thead>\n",
       "    <tr style=\"text-align: right;\">\n",
       "      <th></th>\n",
       "      <th>kind</th>\n",
       "      <th>etag</th>\n",
       "      <th>id</th>\n",
       "      <th>contentDetails</th>\n",
       "    </tr>\n",
       "  </thead>\n",
       "  <tbody>\n",
       "    <tr>\n",
       "      <th>0</th>\n",
       "      <td>youtube#video</td>\n",
       "      <td>eLwWwogrdm-A6VKRUL6sGg4Frlw</td>\n",
       "      <td>s9FH4rDMvds</td>\n",
       "      <td>{'duration': 'PT10M4S', 'dimension': '2d', 'de...</td>\n",
       "    </tr>\n",
       "    <tr>\n",
       "      <th>1</th>\n",
       "      <td>youtube#video</td>\n",
       "      <td>brRSc5SLleyLwZDY6B-6Kf9X1Y0</td>\n",
       "      <td>jbGRowa5tIk</td>\n",
       "      <td>{'duration': 'PT21S', 'dimension': '2d', 'defi...</td>\n",
       "    </tr>\n",
       "    <tr>\n",
       "      <th>2</th>\n",
       "      <td>youtube#video</td>\n",
       "      <td>2ztZj4u22qA66F-Q99Ww7992IqQ</td>\n",
       "      <td>3EfkCrXKZNs</td>\n",
       "      <td>{'duration': 'PT3M5S', 'dimension': '2d', 'def...</td>\n",
       "    </tr>\n",
       "    <tr>\n",
       "      <th>3</th>\n",
       "      <td>youtube#video</td>\n",
       "      <td>YnYxm_OZi4zC6_5n8sKPvJ_Y-cY</td>\n",
       "      <td>gBjox7vn3-g</td>\n",
       "      <td>{'duration': 'PT3M39S', 'dimension': '2d', 'de...</td>\n",
       "    </tr>\n",
       "    <tr>\n",
       "      <th>4</th>\n",
       "      <td>youtube#video</td>\n",
       "      <td>ToN5lx5uIJeb0AfAmnI2iVy2Lx8</td>\n",
       "      <td>npoUGx7UW7o</td>\n",
       "      <td>{'duration': 'PT31M18S', 'dimension': '2d', 'd...</td>\n",
       "    </tr>\n",
       "    <tr>\n",
       "      <th>...</th>\n",
       "      <td>...</td>\n",
       "      <td>...</td>\n",
       "      <td>...</td>\n",
       "      <td>...</td>\n",
       "    </tr>\n",
       "    <tr>\n",
       "      <th>23361</th>\n",
       "      <td>youtube#video</td>\n",
       "      <td>yHgTxV_l40L_RQSpaC8qDt5LSVk</td>\n",
       "      <td>gM7gQkQrWco</td>\n",
       "      <td>{'duration': 'PT3M13S', 'dimension': '2d', 'de...</td>\n",
       "    </tr>\n",
       "    <tr>\n",
       "      <th>23362</th>\n",
       "      <td>youtube#video</td>\n",
       "      <td>HDiHpE2iZxNLDda8BPNa7WGNtpI</td>\n",
       "      <td>uWrpRzCPrnc</td>\n",
       "      <td>{'duration': 'PT8M14S', 'dimension': '2d', 'de...</td>\n",
       "    </tr>\n",
       "    <tr>\n",
       "      <th>23363</th>\n",
       "      <td>youtube#video</td>\n",
       "      <td>oxMG6qxgAgr5YvCmAQ5WGAZtHas</td>\n",
       "      <td>l4zalgSV9ec</td>\n",
       "      <td>{'duration': 'PT3M6S', 'dimension': '2d', 'def...</td>\n",
       "    </tr>\n",
       "    <tr>\n",
       "      <th>23364</th>\n",
       "      <td>youtube#video</td>\n",
       "      <td>3f9k4uDS2D241nmCar0hFIJn-58</td>\n",
       "      <td>WUUvw3fSYdk</td>\n",
       "      <td>{'duration': 'PT18M11S', 'dimension': '2d', 'd...</td>\n",
       "    </tr>\n",
       "    <tr>\n",
       "      <th>23365</th>\n",
       "      <td>youtube#video</td>\n",
       "      <td>guDOjEEXS9AVB7_AQVHCM6t6_AI</td>\n",
       "      <td>DvttwAY1Ry8</td>\n",
       "      <td>{'duration': 'PT4H53M46S', 'dimension': '2d', ...</td>\n",
       "    </tr>\n",
       "  </tbody>\n",
       "</table>\n",
       "<p>23366 rows × 4 columns</p>\n",
       "</div>\n",
       "      <button class=\"colab-df-convert\" onclick=\"convertToInteractive('df-32141c0a-c0a8-468a-9359-70f6145cc46e')\"\n",
       "              title=\"Convert this dataframe to an interactive table.\"\n",
       "              style=\"display:none;\">\n",
       "        \n",
       "  <svg xmlns=\"http://www.w3.org/2000/svg\" height=\"24px\"viewBox=\"0 0 24 24\"\n",
       "       width=\"24px\">\n",
       "    <path d=\"M0 0h24v24H0V0z\" fill=\"none\"/>\n",
       "    <path d=\"M18.56 5.44l.94 2.06.94-2.06 2.06-.94-2.06-.94-.94-2.06-.94 2.06-2.06.94zm-11 1L8.5 8.5l.94-2.06 2.06-.94-2.06-.94L8.5 2.5l-.94 2.06-2.06.94zm10 10l.94 2.06.94-2.06 2.06-.94-2.06-.94-.94-2.06-.94 2.06-2.06.94z\"/><path d=\"M17.41 7.96l-1.37-1.37c-.4-.4-.92-.59-1.43-.59-.52 0-1.04.2-1.43.59L10.3 9.45l-7.72 7.72c-.78.78-.78 2.05 0 2.83L4 21.41c.39.39.9.59 1.41.59.51 0 1.02-.2 1.41-.59l7.78-7.78 2.81-2.81c.8-.78.8-2.07 0-2.86zM5.41 20L4 18.59l7.72-7.72 1.47 1.35L5.41 20z\"/>\n",
       "  </svg>\n",
       "      </button>\n",
       "      \n",
       "  <style>\n",
       "    .colab-df-container {\n",
       "      display:flex;\n",
       "      flex-wrap:wrap;\n",
       "      gap: 12px;\n",
       "    }\n",
       "\n",
       "    .colab-df-convert {\n",
       "      background-color: #E8F0FE;\n",
       "      border: none;\n",
       "      border-radius: 50%;\n",
       "      cursor: pointer;\n",
       "      display: none;\n",
       "      fill: #1967D2;\n",
       "      height: 32px;\n",
       "      padding: 0 0 0 0;\n",
       "      width: 32px;\n",
       "    }\n",
       "\n",
       "    .colab-df-convert:hover {\n",
       "      background-color: #E2EBFA;\n",
       "      box-shadow: 0px 1px 2px rgba(60, 64, 67, 0.3), 0px 1px 3px 1px rgba(60, 64, 67, 0.15);\n",
       "      fill: #174EA6;\n",
       "    }\n",
       "\n",
       "    [theme=dark] .colab-df-convert {\n",
       "      background-color: #3B4455;\n",
       "      fill: #D2E3FC;\n",
       "    }\n",
       "\n",
       "    [theme=dark] .colab-df-convert:hover {\n",
       "      background-color: #434B5C;\n",
       "      box-shadow: 0px 1px 3px 1px rgba(0, 0, 0, 0.15);\n",
       "      filter: drop-shadow(0px 1px 2px rgba(0, 0, 0, 0.3));\n",
       "      fill: #FFFFFF;\n",
       "    }\n",
       "  </style>\n",
       "\n",
       "      <script>\n",
       "        const buttonEl =\n",
       "          document.querySelector('#df-32141c0a-c0a8-468a-9359-70f6145cc46e button.colab-df-convert');\n",
       "        buttonEl.style.display =\n",
       "          google.colab.kernel.accessAllowed ? 'block' : 'none';\n",
       "\n",
       "        async function convertToInteractive(key) {\n",
       "          const element = document.querySelector('#df-32141c0a-c0a8-468a-9359-70f6145cc46e');\n",
       "          const dataTable =\n",
       "            await google.colab.kernel.invokeFunction('convertToInteractive',\n",
       "                                                     [key], {});\n",
       "          if (!dataTable) return;\n",
       "\n",
       "          const docLinkHtml = 'Like what you see? Visit the ' +\n",
       "            '<a target=\"_blank\" href=https://colab.research.google.com/notebooks/data_table.ipynb>data table notebook</a>'\n",
       "            + ' to learn more about interactive tables.';\n",
       "          element.innerHTML = '';\n",
       "          dataTable['output_type'] = 'display_data';\n",
       "          await google.colab.output.renderOutput(dataTable, element);\n",
       "          const docLink = document.createElement('div');\n",
       "          docLink.innerHTML = docLinkHtml;\n",
       "          element.appendChild(docLink);\n",
       "        }\n",
       "      </script>\n",
       "    </div>\n",
       "  </div>\n",
       "  "
      ],
      "text/plain": [
       "                kind                         etag           id  \\\n",
       "0      youtube#video  eLwWwogrdm-A6VKRUL6sGg4Frlw  s9FH4rDMvds   \n",
       "1      youtube#video  brRSc5SLleyLwZDY6B-6Kf9X1Y0  jbGRowa5tIk   \n",
       "2      youtube#video  2ztZj4u22qA66F-Q99Ww7992IqQ  3EfkCrXKZNs   \n",
       "3      youtube#video  YnYxm_OZi4zC6_5n8sKPvJ_Y-cY  gBjox7vn3-g   \n",
       "4      youtube#video  ToN5lx5uIJeb0AfAmnI2iVy2Lx8  npoUGx7UW7o   \n",
       "...              ...                          ...          ...   \n",
       "23361  youtube#video  yHgTxV_l40L_RQSpaC8qDt5LSVk  gM7gQkQrWco   \n",
       "23362  youtube#video  HDiHpE2iZxNLDda8BPNa7WGNtpI  uWrpRzCPrnc   \n",
       "23363  youtube#video  oxMG6qxgAgr5YvCmAQ5WGAZtHas  l4zalgSV9ec   \n",
       "23364  youtube#video  3f9k4uDS2D241nmCar0hFIJn-58  WUUvw3fSYdk   \n",
       "23365  youtube#video  guDOjEEXS9AVB7_AQVHCM6t6_AI  DvttwAY1Ry8   \n",
       "\n",
       "                                          contentDetails  \n",
       "0      {'duration': 'PT10M4S', 'dimension': '2d', 'de...  \n",
       "1      {'duration': 'PT21S', 'dimension': '2d', 'defi...  \n",
       "2      {'duration': 'PT3M5S', 'dimension': '2d', 'def...  \n",
       "3      {'duration': 'PT3M39S', 'dimension': '2d', 'de...  \n",
       "4      {'duration': 'PT31M18S', 'dimension': '2d', 'd...  \n",
       "...                                                  ...  \n",
       "23361  {'duration': 'PT3M13S', 'dimension': '2d', 'de...  \n",
       "23362  {'duration': 'PT8M14S', 'dimension': '2d', 'de...  \n",
       "23363  {'duration': 'PT3M6S', 'dimension': '2d', 'def...  \n",
       "23364  {'duration': 'PT18M11S', 'dimension': '2d', 'd...  \n",
       "23365  {'duration': 'PT4H53M46S', 'dimension': '2d', ...  \n",
       "\n",
       "[23366 rows x 4 columns]"
      ]
     },
     "execution_count": 24,
     "metadata": {},
     "output_type": "execute_result"
    }
   ],
   "source": [
    "df=pd.DataFrame(durations)\n",
    "df"
   ]
  },
  {
   "cell_type": "code",
   "execution_count": null,
   "metadata": {
    "id": "GAv3uOedwxW9"
   },
   "outputs": [],
   "source": [
    "# with open(link+'durations.csv', 'w') as f:\n",
    "#   df.to_csv(f)"
   ]
  },
  {
   "cell_type": "code",
   "execution_count": null,
   "metadata": {
    "colab": {
     "base_uri": "https://localhost:8080/",
     "height": 81
    },
    "executionInfo": {
     "elapsed": 873,
     "status": "ok",
     "timestamp": 1664752052558,
     "user": {
      "displayName": "Brayan Mauricio Rodríguez Garzónn",
      "userId": "05435019562705070299"
     },
     "user_tz": 180
    },
    "id": "BWfjsVuI9Cij",
    "outputId": "0caae6b2-3780-407e-b735-5b639e4002b4"
   },
   "outputs": [
    {
     "data": {
      "text/html": [
       "\n",
       "  <div id=\"df-acd4774a-777c-46f4-b1ab-0dec1a4a041b\">\n",
       "    <div class=\"colab-df-container\">\n",
       "      <div>\n",
       "<style scoped>\n",
       "    .dataframe tbody tr th:only-of-type {\n",
       "        vertical-align: middle;\n",
       "    }\n",
       "\n",
       "    .dataframe tbody tr th {\n",
       "        vertical-align: top;\n",
       "    }\n",
       "\n",
       "    .dataframe thead th {\n",
       "        text-align: right;\n",
       "    }\n",
       "</style>\n",
       "<table border=\"1\" class=\"dataframe\">\n",
       "  <thead>\n",
       "    <tr style=\"text-align: right;\">\n",
       "      <th></th>\n",
       "      <th>id</th>\n",
       "      <th>Duracao</th>\n",
       "    </tr>\n",
       "  </thead>\n",
       "  <tbody>\n",
       "    <tr>\n",
       "      <th>0</th>\n",
       "      <td>s9FH4rDMvds</td>\n",
       "      <td>PT10M4S</td>\n",
       "    </tr>\n",
       "  </tbody>\n",
       "</table>\n",
       "</div>\n",
       "      <button class=\"colab-df-convert\" onclick=\"convertToInteractive('df-acd4774a-777c-46f4-b1ab-0dec1a4a041b')\"\n",
       "              title=\"Convert this dataframe to an interactive table.\"\n",
       "              style=\"display:none;\">\n",
       "        \n",
       "  <svg xmlns=\"http://www.w3.org/2000/svg\" height=\"24px\"viewBox=\"0 0 24 24\"\n",
       "       width=\"24px\">\n",
       "    <path d=\"M0 0h24v24H0V0z\" fill=\"none\"/>\n",
       "    <path d=\"M18.56 5.44l.94 2.06.94-2.06 2.06-.94-2.06-.94-.94-2.06-.94 2.06-2.06.94zm-11 1L8.5 8.5l.94-2.06 2.06-.94-2.06-.94L8.5 2.5l-.94 2.06-2.06.94zm10 10l.94 2.06.94-2.06 2.06-.94-2.06-.94-.94-2.06-.94 2.06-2.06.94z\"/><path d=\"M17.41 7.96l-1.37-1.37c-.4-.4-.92-.59-1.43-.59-.52 0-1.04.2-1.43.59L10.3 9.45l-7.72 7.72c-.78.78-.78 2.05 0 2.83L4 21.41c.39.39.9.59 1.41.59.51 0 1.02-.2 1.41-.59l7.78-7.78 2.81-2.81c.8-.78.8-2.07 0-2.86zM5.41 20L4 18.59l7.72-7.72 1.47 1.35L5.41 20z\"/>\n",
       "  </svg>\n",
       "      </button>\n",
       "      \n",
       "  <style>\n",
       "    .colab-df-container {\n",
       "      display:flex;\n",
       "      flex-wrap:wrap;\n",
       "      gap: 12px;\n",
       "    }\n",
       "\n",
       "    .colab-df-convert {\n",
       "      background-color: #E8F0FE;\n",
       "      border: none;\n",
       "      border-radius: 50%;\n",
       "      cursor: pointer;\n",
       "      display: none;\n",
       "      fill: #1967D2;\n",
       "      height: 32px;\n",
       "      padding: 0 0 0 0;\n",
       "      width: 32px;\n",
       "    }\n",
       "\n",
       "    .colab-df-convert:hover {\n",
       "      background-color: #E2EBFA;\n",
       "      box-shadow: 0px 1px 2px rgba(60, 64, 67, 0.3), 0px 1px 3px 1px rgba(60, 64, 67, 0.15);\n",
       "      fill: #174EA6;\n",
       "    }\n",
       "\n",
       "    [theme=dark] .colab-df-convert {\n",
       "      background-color: #3B4455;\n",
       "      fill: #D2E3FC;\n",
       "    }\n",
       "\n",
       "    [theme=dark] .colab-df-convert:hover {\n",
       "      background-color: #434B5C;\n",
       "      box-shadow: 0px 1px 3px 1px rgba(0, 0, 0, 0.15);\n",
       "      filter: drop-shadow(0px 1px 2px rgba(0, 0, 0, 0.3));\n",
       "      fill: #FFFFFF;\n",
       "    }\n",
       "  </style>\n",
       "\n",
       "      <script>\n",
       "        const buttonEl =\n",
       "          document.querySelector('#df-acd4774a-777c-46f4-b1ab-0dec1a4a041b button.colab-df-convert');\n",
       "        buttonEl.style.display =\n",
       "          google.colab.kernel.accessAllowed ? 'block' : 'none';\n",
       "\n",
       "        async function convertToInteractive(key) {\n",
       "          const element = document.querySelector('#df-acd4774a-777c-46f4-b1ab-0dec1a4a041b');\n",
       "          const dataTable =\n",
       "            await google.colab.kernel.invokeFunction('convertToInteractive',\n",
       "                                                     [key], {});\n",
       "          if (!dataTable) return;\n",
       "\n",
       "          const docLinkHtml = 'Like what you see? Visit the ' +\n",
       "            '<a target=\"_blank\" href=https://colab.research.google.com/notebooks/data_table.ipynb>data table notebook</a>'\n",
       "            + ' to learn more about interactive tables.';\n",
       "          element.innerHTML = '';\n",
       "          dataTable['output_type'] = 'display_data';\n",
       "          await google.colab.output.renderOutput(dataTable, element);\n",
       "          const docLink = document.createElement('div');\n",
       "          docLink.innerHTML = docLinkHtml;\n",
       "          element.appendChild(docLink);\n",
       "        }\n",
       "      </script>\n",
       "    </div>\n",
       "  </div>\n",
       "  "
      ],
      "text/plain": [
       "            id  Duracao\n",
       "0  s9FH4rDMvds  PT10M4S"
      ]
     },
     "execution_count": 26,
     "metadata": {},
     "output_type": "execute_result"
    }
   ],
   "source": [
    "d={'items':durations}\n",
    "df=pd.DataFrame(d)\n",
    "pd_normalize=pd.json_normalize(df['items'])\n",
    "pd_normalize=pd_normalize[['id','contentDetails.duration']]\n",
    "pd_normalize.rename(columns={'contentDetails.duration':'Duracao'},inplace=True)\n",
    "pd_normalize.head(1)\n"
   ]
  },
  {
   "cell_type": "code",
   "execution_count": null,
   "metadata": {
    "id": "k_otX4G09qoJ"
   },
   "outputs": [],
   "source": []
  },
  {
   "cell_type": "markdown",
   "metadata": {
    "id": "V5m6z62ev6PV"
   },
   "source": [
    "Guardamos uma copia por segurança"
   ]
  },
  {
   "cell_type": "code",
   "execution_count": null,
   "metadata": {
    "id": "N9P6T3ic56kG"
   },
   "outputs": [],
   "source": [
    "df_copy=pd_normalize.copy()"
   ]
  },
  {
   "cell_type": "code",
   "execution_count": null,
   "metadata": {
    "colab": {
     "base_uri": "https://localhost:8080/"
    },
    "executionInfo": {
     "elapsed": 22,
     "status": "ok",
     "timestamp": 1664752254784,
     "user": {
      "displayName": "Brayan Mauricio Rodríguez Garzónn",
      "userId": "05435019562705070299"
     },
     "user_tz": 180
    },
    "id": "YjOt38u_909N",
    "outputId": "1b927cc2-d3f5-46b2-abf5-f8fd25dc0335"
   },
   "outputs": [
    {
     "data": {
      "text/plain": [
       "(23366, 2)"
      ]
     },
     "execution_count": 28,
     "metadata": {},
     "output_type": "execute_result"
    }
   ],
   "source": [
    "df_copy.shape"
   ]
  },
  {
   "cell_type": "markdown",
   "metadata": {
    "id": "-U_SXrF5HJCy"
   },
   "source": [
    "E vamos guardar eles num documento csv, caso sejam detetadas falhas no tratamento de dados"
   ]
  },
  {
   "cell_type": "code",
   "execution_count": null,
   "metadata": {
    "id": "Vz4P2NazU59-"
   },
   "outputs": [],
   "source": [
    "link='/content/drive/MyDrive/MyCopy/You_tube_database/archive/'\n",
    "\n",
    "# fluff, id = link.split('d/')"
   ]
  },
  {
   "cell_type": "code",
   "execution_count": null,
   "metadata": {
    "id": "ZCPeqk_iHTEK"
   },
   "outputs": [],
   "source": [
    "# with open(link+'durations_non_format.csv', 'w') as f:\n",
    "#   pd_normalize.to_csv(f)"
   ]
  },
  {
   "cell_type": "markdown",
   "metadata": {
    "id": "dDr5QaJjU5-A"
   },
   "source": [
    "**C<omeçando desde aqui**"
   ]
  },
  {
   "cell_type": "code",
   "execution_count": null,
   "metadata": {
    "colab": {
     "base_uri": "https://localhost:8080/",
     "height": 238
    },
    "executionInfo": {
     "elapsed": 334,
     "status": "ok",
     "timestamp": 1664752355377,
     "user": {
      "displayName": "Brayan Mauricio Rodríguez Garzónn",
      "userId": "05435019562705070299"
     },
     "user_tz": 180
    },
    "id": "ulmc4eE1U5-B",
    "outputId": "04c7cd4e-a4ad-42f3-af91-233284d47133"
   },
   "outputs": [
    {
     "data": {
      "text/html": [
       "\n",
       "  <div id=\"df-6589a2ce-a838-4156-8dd3-aef6baa78bc4\">\n",
       "    <div class=\"colab-df-container\">\n",
       "      <div>\n",
       "<style scoped>\n",
       "    .dataframe tbody tr th:only-of-type {\n",
       "        vertical-align: middle;\n",
       "    }\n",
       "\n",
       "    .dataframe tbody tr th {\n",
       "        vertical-align: top;\n",
       "    }\n",
       "\n",
       "    .dataframe thead th {\n",
       "        text-align: right;\n",
       "    }\n",
       "</style>\n",
       "<table border=\"1\" class=\"dataframe\">\n",
       "  <thead>\n",
       "    <tr style=\"text-align: right;\">\n",
       "      <th></th>\n",
       "      <th>id</th>\n",
       "      <th>Duracao</th>\n",
       "    </tr>\n",
       "  </thead>\n",
       "  <tbody>\n",
       "    <tr>\n",
       "      <th>0</th>\n",
       "      <td>s9FH4rDMvds</td>\n",
       "      <td>PT10M4S</td>\n",
       "    </tr>\n",
       "    <tr>\n",
       "      <th>1</th>\n",
       "      <td>jbGRowa5tIk</td>\n",
       "      <td>PT21S</td>\n",
       "    </tr>\n",
       "    <tr>\n",
       "      <th>2</th>\n",
       "      <td>3EfkCrXKZNs</td>\n",
       "      <td>PT3M5S</td>\n",
       "    </tr>\n",
       "    <tr>\n",
       "      <th>3</th>\n",
       "      <td>gBjox7vn3-g</td>\n",
       "      <td>PT3M39S</td>\n",
       "    </tr>\n",
       "    <tr>\n",
       "      <th>4</th>\n",
       "      <td>npoUGx7UW7o</td>\n",
       "      <td>PT31M18S</td>\n",
       "    </tr>\n",
       "    <tr>\n",
       "      <th>5</th>\n",
       "      <td>Vu6PNpYKu2U</td>\n",
       "      <td>PT18M15S</td>\n",
       "    </tr>\n",
       "  </tbody>\n",
       "</table>\n",
       "</div>\n",
       "      <button class=\"colab-df-convert\" onclick=\"convertToInteractive('df-6589a2ce-a838-4156-8dd3-aef6baa78bc4')\"\n",
       "              title=\"Convert this dataframe to an interactive table.\"\n",
       "              style=\"display:none;\">\n",
       "        \n",
       "  <svg xmlns=\"http://www.w3.org/2000/svg\" height=\"24px\"viewBox=\"0 0 24 24\"\n",
       "       width=\"24px\">\n",
       "    <path d=\"M0 0h24v24H0V0z\" fill=\"none\"/>\n",
       "    <path d=\"M18.56 5.44l.94 2.06.94-2.06 2.06-.94-2.06-.94-.94-2.06-.94 2.06-2.06.94zm-11 1L8.5 8.5l.94-2.06 2.06-.94-2.06-.94L8.5 2.5l-.94 2.06-2.06.94zm10 10l.94 2.06.94-2.06 2.06-.94-2.06-.94-.94-2.06-.94 2.06-2.06.94z\"/><path d=\"M17.41 7.96l-1.37-1.37c-.4-.4-.92-.59-1.43-.59-.52 0-1.04.2-1.43.59L10.3 9.45l-7.72 7.72c-.78.78-.78 2.05 0 2.83L4 21.41c.39.39.9.59 1.41.59.51 0 1.02-.2 1.41-.59l7.78-7.78 2.81-2.81c.8-.78.8-2.07 0-2.86zM5.41 20L4 18.59l7.72-7.72 1.47 1.35L5.41 20z\"/>\n",
       "  </svg>\n",
       "      </button>\n",
       "      \n",
       "  <style>\n",
       "    .colab-df-container {\n",
       "      display:flex;\n",
       "      flex-wrap:wrap;\n",
       "      gap: 12px;\n",
       "    }\n",
       "\n",
       "    .colab-df-convert {\n",
       "      background-color: #E8F0FE;\n",
       "      border: none;\n",
       "      border-radius: 50%;\n",
       "      cursor: pointer;\n",
       "      display: none;\n",
       "      fill: #1967D2;\n",
       "      height: 32px;\n",
       "      padding: 0 0 0 0;\n",
       "      width: 32px;\n",
       "    }\n",
       "\n",
       "    .colab-df-convert:hover {\n",
       "      background-color: #E2EBFA;\n",
       "      box-shadow: 0px 1px 2px rgba(60, 64, 67, 0.3), 0px 1px 3px 1px rgba(60, 64, 67, 0.15);\n",
       "      fill: #174EA6;\n",
       "    }\n",
       "\n",
       "    [theme=dark] .colab-df-convert {\n",
       "      background-color: #3B4455;\n",
       "      fill: #D2E3FC;\n",
       "    }\n",
       "\n",
       "    [theme=dark] .colab-df-convert:hover {\n",
       "      background-color: #434B5C;\n",
       "      box-shadow: 0px 1px 3px 1px rgba(0, 0, 0, 0.15);\n",
       "      filter: drop-shadow(0px 1px 2px rgba(0, 0, 0, 0.3));\n",
       "      fill: #FFFFFF;\n",
       "    }\n",
       "  </style>\n",
       "\n",
       "      <script>\n",
       "        const buttonEl =\n",
       "          document.querySelector('#df-6589a2ce-a838-4156-8dd3-aef6baa78bc4 button.colab-df-convert');\n",
       "        buttonEl.style.display =\n",
       "          google.colab.kernel.accessAllowed ? 'block' : 'none';\n",
       "\n",
       "        async function convertToInteractive(key) {\n",
       "          const element = document.querySelector('#df-6589a2ce-a838-4156-8dd3-aef6baa78bc4');\n",
       "          const dataTable =\n",
       "            await google.colab.kernel.invokeFunction('convertToInteractive',\n",
       "                                                     [key], {});\n",
       "          if (!dataTable) return;\n",
       "\n",
       "          const docLinkHtml = 'Like what you see? Visit the ' +\n",
       "            '<a target=\"_blank\" href=https://colab.research.google.com/notebooks/data_table.ipynb>data table notebook</a>'\n",
       "            + ' to learn more about interactive tables.';\n",
       "          element.innerHTML = '';\n",
       "          dataTable['output_type'] = 'display_data';\n",
       "          await google.colab.output.renderOutput(dataTable, element);\n",
       "          const docLink = document.createElement('div');\n",
       "          docLink.innerHTML = docLinkHtml;\n",
       "          element.appendChild(docLink);\n",
       "        }\n",
       "      </script>\n",
       "    </div>\n",
       "  </div>\n",
       "  "
      ],
      "text/plain": [
       "            id   Duracao\n",
       "0  s9FH4rDMvds   PT10M4S\n",
       "1  jbGRowa5tIk     PT21S\n",
       "2  3EfkCrXKZNs    PT3M5S\n",
       "3  gBjox7vn3-g   PT3M39S\n",
       "4  npoUGx7UW7o  PT31M18S\n",
       "5  Vu6PNpYKu2U  PT18M15S"
      ]
     },
     "execution_count": 33,
     "metadata": {},
     "output_type": "execute_result"
    }
   ],
   "source": [
    "pd_normalize=pd.read_csv(link+'durations_non_format.csv')\n",
    "pd_normalize=pd_normalize.drop(columns='Unnamed: 0')\n",
    "pd_normalize.head(6)"
   ]
  },
  {
   "cell_type": "code",
   "execution_count": null,
   "metadata": {
    "id": "NN4lK2VKU5-E"
   },
   "outputs": [],
   "source": [
    "df_copy=pd_normalize.copy()"
   ]
  },
  {
   "cell_type": "code",
   "execution_count": null,
   "metadata": {
    "colab": {
     "base_uri": "https://localhost:8080/"
    },
    "executionInfo": {
     "elapsed": 161,
     "status": "ok",
     "timestamp": 1664752363883,
     "user": {
      "displayName": "Brayan Mauricio Rodríguez Garzónn",
      "userId": "05435019562705070299"
     },
     "user_tz": 180
    },
    "id": "0IkdJIDl1TVx",
    "outputId": "9ab0ef48-6a21-4396-8e4b-d728840a83a3"
   },
   "outputs": [
    {
     "data": {
      "text/plain": [
       "id         object\n",
       "Duracao    object\n",
       "dtype: object"
      ]
     },
     "execution_count": 35,
     "metadata": {},
     "output_type": "execute_result"
    }
   ],
   "source": [
    "pd_normalize.dtypes"
   ]
  },
  {
   "cell_type": "markdown",
   "metadata": {
    "id": "QNEqko6f4hBr"
   },
   "source": [
    "O objetivo é ter  uma varivel duração como uma variável numérica, no formato de estring no qual esta atualmente, não encontrei uma forma direta de converter em número, note que a mínima unidade são os segundos, farei uma função para transformar estes strings na quantidade de segundos, usarei a estruturs regular PT##H##M##S para converter os strings"
   ]
  },
  {
   "cell_type": "code",
   "execution_count": null,
   "metadata": {
    "id": "gJmXCPA474zo"
   },
   "outputs": [],
   "source": [
    "import re"
   ]
  },
  {
   "cell_type": "markdown",
   "metadata": {
    "id": "5wB2xWka-pWZ"
   },
   "source": [
    "Usando a função re.split posso indicar quais caracteres pode eliminar"
   ]
  },
  {
   "cell_type": "code",
   "execution_count": null,
   "metadata": {
    "colab": {
     "base_uri": "https://localhost:8080/"
    },
    "executionInfo": {
     "elapsed": 427,
     "status": "ok",
     "timestamp": 1664752371847,
     "user": {
      "displayName": "Brayan Mauricio Rodríguez Garzónn",
      "userId": "05435019562705070299"
     },
     "user_tz": 180
    },
    "id": "0tMyEyRv6zFc",
    "outputId": "976d344a-e0a2-45be-ca4c-a2f79c1d08ae"
   },
   "outputs": [
    {
     "data": {
      "text/plain": [
       "['', '1', '10', '4', '']"
      ]
     },
     "execution_count": 37,
     "metadata": {},
     "output_type": "execute_result"
    }
   ],
   "source": [
    "a=re.split('[h-t]+','PT1H10M4S', flags=re.IGNORECASE)\n",
    "a"
   ]
  },
  {
   "cell_type": "markdown",
   "metadata": {
    "id": "G5K2FFV9-74u"
   },
   "source": [
    "Do jeido quee estamos dividindo sempre, vai ter as virgolas, isto poderia ser simplesmente acrescentado, uma condição ao regex, mas preferimos eliminarlo da lista, já que as posições das virgolas nesta lista sempre serão na primeira e última posição.\n",
    "\n",
    "\n",
    "Fazemos isto e convertimos para inteiros os números restante"
   ]
  },
  {
   "cell_type": "code",
   "execution_count": null,
   "metadata": {
    "colab": {
     "base_uri": "https://localhost:8080/"
    },
    "executionInfo": {
     "elapsed": 298,
     "status": "ok",
     "timestamp": 1664752382215,
     "user": {
      "displayName": "Brayan Mauricio Rodríguez Garzónn",
      "userId": "05435019562705070299"
     },
     "user_tz": 180
    },
    "id": "xngD3K4d9wBr",
    "outputId": "b4b47ea8-2696-4000-ea13-c1917dbb2a41"
   },
   "outputs": [
    {
     "data": {
      "text/plain": [
       "[1, 10, 4]"
      ]
     },
     "execution_count": 38,
     "metadata": {},
     "output_type": "execute_result"
    }
   ],
   "source": [
    "a=a[1:-1]\n",
    "a=[int(i) for i in a]\n",
    "a"
   ]
  },
  {
   "cell_type": "code",
   "execution_count": null,
   "metadata": {
    "colab": {
     "base_uri": "https://localhost:8080/"
    },
    "executionInfo": {
     "elapsed": 313,
     "status": "ok",
     "timestamp": 1664752384238,
     "user": {
      "displayName": "Brayan Mauricio Rodríguez Garzónn",
      "userId": "05435019562705070299"
     },
     "user_tz": 180
    },
    "id": "BZX3qfabCQEK",
    "outputId": "f08ca341-f56f-4f27-a592-b359d361e85e"
   },
   "outputs": [
    {
     "data": {
      "text/plain": [
       "70"
      ]
     },
     "execution_count": 39,
     "metadata": {},
     "output_type": "execute_result"
    }
   ],
   "source": [
    "a[0]*60+a[1]"
   ]
  },
  {
   "cell_type": "code",
   "execution_count": null,
   "metadata": {
    "colab": {
     "base_uri": "https://localhost:8080/"
    },
    "executionInfo": {
     "elapsed": 409,
     "status": "ok",
     "timestamp": 1664752411352,
     "user": {
      "displayName": "Brayan Mauricio Rodríguez Garzónn",
      "userId": "05435019562705070299"
     },
     "user_tz": 180
    },
    "id": "PxIr4QnCU5-P",
    "outputId": "8e4f9841-bd06-4386-8f9a-325a228e18f8"
   },
   "outputs": [
    {
     "name": "stdout",
     "output_type": "stream",
     "text": [
      "string a ['3H']\n",
      "string b ['3H'] 1\n",
      "string c ['3', ''] 2\n"
     ]
    }
   ],
   "source": [
    "time='3H'\n",
    "a=re.split('S',time, flags=re.IGNORECASE)\n",
    "print('string a',a)\n",
    "b=re.split('M',str(a[0]))\n",
    "print('string b',b,len(b))\n",
    "c=re.split('H',str(b[0]))\n",
    "print('string c',c,len(c))"
   ]
  },
  {
   "cell_type": "code",
   "execution_count": null,
   "metadata": {
    "id": "UMSQhb7EU5-Q"
   },
   "outputs": [],
   "source": [
    "def sugundos(palavra):\n",
    "    segundos=0\n",
    "    a=re.split('S',time, flags=re.IGNORECASE)\n",
    "    "
   ]
  },
  {
   "cell_type": "code",
   "execution_count": null,
   "metadata": {
    "id": "oQoxd3XxDQCa"
   },
   "outputs": [],
   "source": [
    "def to_segundos(time):   \n",
    "    # re.split('[f-u]+',time, flags=re.IGNORECASE)\n",
    "    minutos=0\n",
    "    segundos=0\n",
    "    horas=0\n",
    "    a=re.split('PT',time, flags=re.IGNORECASE)\n",
    "    b=re.split('S',str(a[-1]))\n",
    "    if len(b)==2:\n",
    "        # print('HÁ SEGUNDOS')\n",
    "        c=re.split('M',str(b[0]))\n",
    "\n",
    "        if len(c)==2:\n",
    "            segundos=int(c[-1])  \n",
    "            # print('HÁ MINUTOS')\n",
    "\n",
    "            d=re.split('H',str(c[0]))\n",
    "\n",
    "            if len(d)==2:\n",
    "                # print('HÁ HORAS')\n",
    "                minutos=int(d[-1])*60      \n",
    "                horas=int(d[-2])*3600\n",
    "            else:\n",
    "                # print('NÃO HORAS')\n",
    "                minutos=int(d[0])*60         \n",
    "                horas=0\n",
    "        else:\n",
    "            # print('NÃO HÁ MINUTOS')\n",
    "\n",
    "            minutos=0\n",
    "            d=re.split('H',str(c[0]))\n",
    "            if len(d)==2:\n",
    "                # print('HÁ HORAS')\n",
    "                segundos=int(d[-1])  \n",
    "\n",
    "                horas=int(d[-2])*3600\n",
    "            else:\n",
    "                # print('NÃO HÁ HORAS')\n",
    "                segundos=int(b[0])  \n",
    "                horas=0\n",
    "    else:\n",
    "\n",
    "        # print(' NÃO HA SEGUNDOS')\n",
    "\n",
    "        seguindos=0\n",
    "        c=re.split('M',str(b[0]))\n",
    "        if len(c)==2:\n",
    "\n",
    "            # print(' HÁ MINUTOS  ')\n",
    "\n",
    "            d=re.split('H',str(c[0]))\n",
    "\n",
    "            if len(d)==2:\n",
    "                # print('HÁ HORAS')\n",
    "                minutos=int(d[-1])*60\n",
    "                horas=int(d[-2])*3600\n",
    "            else:\n",
    "                # print('NÃO HÁ HORAS')\n",
    "                minutos=int(d[0])*60       \n",
    "                horas=0\n",
    "        else:\n",
    "            # print('NÃO HÁ MINUTOS ')              \n",
    "\n",
    "            minutos=0\n",
    "            d=re.split('H',str(c[0]))\n",
    "\n",
    "            if len(d)==2:\n",
    "                # print('HÁ HORAS')    \n",
    "\n",
    "                horas=int(d[-2])*3600\n",
    "            else:\n",
    "                # prin('NÃO HÁ HORAS')\n",
    "\n",
    "                horas=0\n",
    "    total=horas+minutos+segundos\n",
    "\n",
    "    return total\n",
    "          \n",
    "                                   \n",
    "                   \n",
    "        \n",
    "                   \n",
    "                   \n"
   ]
  },
  {
   "cell_type": "code",
   "execution_count": null,
   "metadata": {
    "colab": {
     "base_uri": "https://localhost:8080/"
    },
    "executionInfo": {
     "elapsed": 304,
     "status": "ok",
     "timestamp": 1664752605760,
     "user": {
      "displayName": "Brayan Mauricio Rodríguez Garzónn",
      "userId": "05435019562705070299"
     },
     "user_tz": 180
    },
    "id": "GB1flBU0U5-U",
    "outputId": "fafa273d-6b75-4a7d-d7c5-5c08e8558bea"
   },
   "outputs": [
    {
     "data": {
      "text/plain": [
       "3605"
      ]
     },
     "execution_count": 50,
     "metadata": {},
     "output_type": "execute_result"
    }
   ],
   "source": [
    "to_segundos('PT1H5S')"
   ]
  },
  {
   "cell_type": "markdown",
   "metadata": {
    "id": "TvzRAcNT_9Tx"
   },
   "source": [
    "Colocando agora isto numa função, que simuaneamente converta o strint para lista, e a lusta para segundos"
   ]
  },
  {
   "cell_type": "markdown",
   "metadata": {
    "id": "1iWHlkW9Atos"
   },
   "source": []
  },
  {
   "cell_type": "code",
   "execution_count": null,
   "metadata": {
    "id": "IM-QYaQ_AA2W"
   },
   "outputs": [],
   "source": [
    "def dura_to_segun(time):\n",
    "  segundos=0\n",
    "  import re \n",
    "  a=re.split('[f-u]+',time, flags=re.IGNORECASE)\n",
    "  a=a[1:-1]\n",
    "  a=[int(i) for i in a]\n",
    "  if len(a)==2:\n",
    "    segundos=a[0]*60+a[1]\n",
    "  elif len(a)==3:\n",
    "    segundos=a[2]+60*(a[1]+a[0]*60)\n",
    "  else:\n",
    "    segundos=a[0]\n",
    "  \n",
    "  return segundos\n",
    "\n",
    " \n",
    "\n"
   ]
  },
  {
   "cell_type": "code",
   "execution_count": null,
   "metadata": {
    "colab": {
     "base_uri": "https://localhost:8080/"
    },
    "executionInfo": {
     "elapsed": 24,
     "status": "ok",
     "timestamp": 1664752950599,
     "user": {
      "displayName": "Brayan Mauricio Rodríguez Garzónn",
      "userId": "05435019562705070299"
     },
     "user_tz": 180
    },
    "id": "Ku1uymfMB59A",
    "outputId": "332e9d93-db81-4ac7-aa51-422a6abee2d6"
   },
   "outputs": [
    {
     "data": {
      "text/plain": [
       "604"
      ]
     },
     "execution_count": 56,
     "metadata": {},
     "output_type": "execute_result"
    }
   ],
   "source": [
    "dura_to_segun('PT10H4S')"
   ]
  },
  {
   "cell_type": "code",
   "execution_count": null,
   "metadata": {
    "colab": {
     "base_uri": "https://localhost:8080/"
    },
    "executionInfo": {
     "elapsed": 376,
     "status": "ok",
     "timestamp": 1664753025302,
     "user": {
      "displayName": "Brayan Mauricio Rodríguez Garzónn",
      "userId": "05435019562705070299"
     },
     "user_tz": 180
    },
    "id": "3armYvcnD5xA",
    "outputId": "b6c5bb75-b69c-4929-c0e5-82501b7d725f"
   },
   "outputs": [
    {
     "name": "stdout",
     "output_type": "stream",
     "text": [
      "270 14430\n"
     ]
    }
   ],
   "source": [
    "print(dura_to_segun('PT4H30S'),to_segundos('PT4H30S'))"
   ]
  },
  {
   "cell_type": "markdown",
   "metadata": {
    "id": "paUsNhXoEViv"
   },
   "source": [
    "Agora aplicaremos esta função á coluna durations"
   ]
  },
  {
   "cell_type": "code",
   "execution_count": null,
   "metadata": {
    "id": "WbhMyc05F4nF"
   },
   "outputs": [],
   "source": [
    "# Duracoes=[df_copy['Duracao'][i] for i in range(len(df_copy))]\n",
    "# Duracoes"
   ]
  },
  {
   "cell_type": "code",
   "execution_count": null,
   "metadata": {
    "id": "4cTBsk9EEIu7"
   },
   "outputs": [],
   "source": [
    "df_copy['Duracao']=df_copy['Duracao'].apply(to_segundos)\n"
   ]
  },
  {
   "cell_type": "code",
   "execution_count": null,
   "metadata": {
    "colab": {
     "base_uri": "https://localhost:8080/"
    },
    "executionInfo": {
     "elapsed": 308,
     "status": "ok",
     "timestamp": 1664753333362,
     "user": {
      "displayName": "Brayan Mauricio Rodríguez Garzónn",
      "userId": "05435019562705070299"
     },
     "user_tz": 180
    },
    "id": "E5vZyHW8U5-g",
    "outputId": "412faed3-6a3e-4c48-a36e-9a47305b2548"
   },
   "outputs": [
    {
     "data": {
      "text/plain": [
       "id         object\n",
       "Duracao     int64\n",
       "dtype: object"
      ]
     },
     "execution_count": 66,
     "metadata": {},
     "output_type": "execute_result"
    }
   ],
   "source": [
    "df_copy.dtypes"
   ]
  },
  {
   "cell_type": "code",
   "execution_count": null,
   "metadata": {
    "colab": {
     "base_uri": "https://localhost:8080/",
     "height": 206
    },
    "executionInfo": {
     "elapsed": 29,
     "status": "ok",
     "timestamp": 1664753361664,
     "user": {
      "displayName": "Brayan Mauricio Rodríguez Garzónn",
      "userId": "05435019562705070299"
     },
     "user_tz": 180
    },
    "id": "hUgUWND7CCqe",
    "outputId": "9c395eb0-7ce1-4934-e478-9089d5da316a"
   },
   "outputs": [
    {
     "data": {
      "text/html": [
       "\n",
       "  <div id=\"df-b0c2963c-1633-41b6-b1c8-a9625bcd02ea\">\n",
       "    <div class=\"colab-df-container\">\n",
       "      <div>\n",
       "<style scoped>\n",
       "    .dataframe tbody tr th:only-of-type {\n",
       "        vertical-align: middle;\n",
       "    }\n",
       "\n",
       "    .dataframe tbody tr th {\n",
       "        vertical-align: top;\n",
       "    }\n",
       "\n",
       "    .dataframe thead th {\n",
       "        text-align: right;\n",
       "    }\n",
       "</style>\n",
       "<table border=\"1\" class=\"dataframe\">\n",
       "  <thead>\n",
       "    <tr style=\"text-align: right;\">\n",
       "      <th></th>\n",
       "      <th>id</th>\n",
       "      <th>Duracao</th>\n",
       "    </tr>\n",
       "  </thead>\n",
       "  <tbody>\n",
       "    <tr>\n",
       "      <th>17392</th>\n",
       "      <td>X5PpsTPNEfk</td>\n",
       "      <td>10</td>\n",
       "    </tr>\n",
       "    <tr>\n",
       "      <th>17355</th>\n",
       "      <td>FAIsxLtUtvQ</td>\n",
       "      <td>425</td>\n",
       "    </tr>\n",
       "    <tr>\n",
       "      <th>14680</th>\n",
       "      <td>x_4Rit4cfEI</td>\n",
       "      <td>229</td>\n",
       "    </tr>\n",
       "    <tr>\n",
       "      <th>434</th>\n",
       "      <td>sCTnDfnQpnI</td>\n",
       "      <td>171</td>\n",
       "    </tr>\n",
       "    <tr>\n",
       "      <th>9254</th>\n",
       "      <td>f-ijzlXtmYE</td>\n",
       "      <td>748</td>\n",
       "    </tr>\n",
       "  </tbody>\n",
       "</table>\n",
       "</div>\n",
       "      <button class=\"colab-df-convert\" onclick=\"convertToInteractive('df-b0c2963c-1633-41b6-b1c8-a9625bcd02ea')\"\n",
       "              title=\"Convert this dataframe to an interactive table.\"\n",
       "              style=\"display:none;\">\n",
       "        \n",
       "  <svg xmlns=\"http://www.w3.org/2000/svg\" height=\"24px\"viewBox=\"0 0 24 24\"\n",
       "       width=\"24px\">\n",
       "    <path d=\"M0 0h24v24H0V0z\" fill=\"none\"/>\n",
       "    <path d=\"M18.56 5.44l.94 2.06.94-2.06 2.06-.94-2.06-.94-.94-2.06-.94 2.06-2.06.94zm-11 1L8.5 8.5l.94-2.06 2.06-.94-2.06-.94L8.5 2.5l-.94 2.06-2.06.94zm10 10l.94 2.06.94-2.06 2.06-.94-2.06-.94-.94-2.06-.94 2.06-2.06.94z\"/><path d=\"M17.41 7.96l-1.37-1.37c-.4-.4-.92-.59-1.43-.59-.52 0-1.04.2-1.43.59L10.3 9.45l-7.72 7.72c-.78.78-.78 2.05 0 2.83L4 21.41c.39.39.9.59 1.41.59.51 0 1.02-.2 1.41-.59l7.78-7.78 2.81-2.81c.8-.78.8-2.07 0-2.86zM5.41 20L4 18.59l7.72-7.72 1.47 1.35L5.41 20z\"/>\n",
       "  </svg>\n",
       "      </button>\n",
       "      \n",
       "  <style>\n",
       "    .colab-df-container {\n",
       "      display:flex;\n",
       "      flex-wrap:wrap;\n",
       "      gap: 12px;\n",
       "    }\n",
       "\n",
       "    .colab-df-convert {\n",
       "      background-color: #E8F0FE;\n",
       "      border: none;\n",
       "      border-radius: 50%;\n",
       "      cursor: pointer;\n",
       "      display: none;\n",
       "      fill: #1967D2;\n",
       "      height: 32px;\n",
       "      padding: 0 0 0 0;\n",
       "      width: 32px;\n",
       "    }\n",
       "\n",
       "    .colab-df-convert:hover {\n",
       "      background-color: #E2EBFA;\n",
       "      box-shadow: 0px 1px 2px rgba(60, 64, 67, 0.3), 0px 1px 3px 1px rgba(60, 64, 67, 0.15);\n",
       "      fill: #174EA6;\n",
       "    }\n",
       "\n",
       "    [theme=dark] .colab-df-convert {\n",
       "      background-color: #3B4455;\n",
       "      fill: #D2E3FC;\n",
       "    }\n",
       "\n",
       "    [theme=dark] .colab-df-convert:hover {\n",
       "      background-color: #434B5C;\n",
       "      box-shadow: 0px 1px 3px 1px rgba(0, 0, 0, 0.15);\n",
       "      filter: drop-shadow(0px 1px 2px rgba(0, 0, 0, 0.3));\n",
       "      fill: #FFFFFF;\n",
       "    }\n",
       "  </style>\n",
       "\n",
       "      <script>\n",
       "        const buttonEl =\n",
       "          document.querySelector('#df-b0c2963c-1633-41b6-b1c8-a9625bcd02ea button.colab-df-convert');\n",
       "        buttonEl.style.display =\n",
       "          google.colab.kernel.accessAllowed ? 'block' : 'none';\n",
       "\n",
       "        async function convertToInteractive(key) {\n",
       "          const element = document.querySelector('#df-b0c2963c-1633-41b6-b1c8-a9625bcd02ea');\n",
       "          const dataTable =\n",
       "            await google.colab.kernel.invokeFunction('convertToInteractive',\n",
       "                                                     [key], {});\n",
       "          if (!dataTable) return;\n",
       "\n",
       "          const docLinkHtml = 'Like what you see? Visit the ' +\n",
       "            '<a target=\"_blank\" href=https://colab.research.google.com/notebooks/data_table.ipynb>data table notebook</a>'\n",
       "            + ' to learn more about interactive tables.';\n",
       "          element.innerHTML = '';\n",
       "          dataTable['output_type'] = 'display_data';\n",
       "          await google.colab.output.renderOutput(dataTable, element);\n",
       "          const docLink = document.createElement('div');\n",
       "          docLink.innerHTML = docLinkHtml;\n",
       "          element.appendChild(docLink);\n",
       "        }\n",
       "      </script>\n",
       "    </div>\n",
       "  </div>\n",
       "  "
      ],
      "text/plain": [
       "                id  Duracao\n",
       "17392  X5PpsTPNEfk       10\n",
       "17355  FAIsxLtUtvQ      425\n",
       "14680  x_4Rit4cfEI      229\n",
       "434    sCTnDfnQpnI      171\n",
       "9254   f-ijzlXtmYE      748"
      ]
     },
     "execution_count": 67,
     "metadata": {},
     "output_type": "execute_result"
    }
   ],
   "source": [
    "df_copy.sample(5)"
   ]
  },
  {
   "cell_type": "code",
   "execution_count": null,
   "metadata": {
    "colab": {
     "base_uri": "https://localhost:8080/"
    },
    "executionInfo": {
     "elapsed": 303,
     "status": "ok",
     "timestamp": 1664753461075,
     "user": {
      "displayName": "Brayan Mauricio Rodríguez Garzónn",
      "userId": "05435019562705070299"
     },
     "user_tz": 180
    },
    "id": "L4CcQ6zJIoHo",
    "outputId": "e77bd674-36b6-46e1-d49c-590306939de9"
   },
   "outputs": [
    {
     "data": {
      "text/plain": [
       "1091"
      ]
     },
     "execution_count": 68,
     "metadata": {},
     "output_type": "execute_result"
    }
   ],
   "source": [
    "len(df_copy[df_copy['Duracao']<=30])"
   ]
  },
  {
   "cell_type": "code",
   "execution_count": null,
   "metadata": {
    "colab": {
     "base_uri": "https://localhost:8080/"
    },
    "executionInfo": {
     "elapsed": 405,
     "status": "ok",
     "timestamp": 1664753466655,
     "user": {
      "displayName": "Brayan Mauricio Rodríguez Garzónn",
      "userId": "05435019562705070299"
     },
     "user_tz": 180
    },
    "id": "qgJcFpFWU5-i",
    "outputId": "326afc12-01c2-4107-a294-229ff006a46c"
   },
   "outputs": [
    {
     "data": {
      "text/plain": [
       "id         0\n",
       "Duracao    0\n",
       "dtype: int64"
      ]
     },
     "execution_count": 69,
     "metadata": {},
     "output_type": "execute_result"
    }
   ],
   "source": [
    "df_copy.isna().sum()"
   ]
  },
  {
   "cell_type": "code",
   "execution_count": null,
   "metadata": {
    "colab": {
     "base_uri": "https://localhost:8080/",
     "height": 112
    },
    "executionInfo": {
     "elapsed": 19,
     "status": "ok",
     "timestamp": 1664753469969,
     "user": {
      "displayName": "Brayan Mauricio Rodríguez Garzónn",
      "userId": "05435019562705070299"
     },
     "user_tz": 180
    },
    "id": "recgOlqdHdgR",
    "outputId": "3dc3e8fc-12cd-42d4-e91d-abbc438d3246"
   },
   "outputs": [
    {
     "data": {
      "text/html": [
       "\n",
       "  <div id=\"df-8eed9f26-9a1a-4a57-b801-1c390573ccf3\">\n",
       "    <div class=\"colab-df-container\">\n",
       "      <div>\n",
       "<style scoped>\n",
       "    .dataframe tbody tr th:only-of-type {\n",
       "        vertical-align: middle;\n",
       "    }\n",
       "\n",
       "    .dataframe tbody tr th {\n",
       "        vertical-align: top;\n",
       "    }\n",
       "\n",
       "    .dataframe thead th {\n",
       "        text-align: right;\n",
       "    }\n",
       "</style>\n",
       "<table border=\"1\" class=\"dataframe\">\n",
       "  <thead>\n",
       "    <tr style=\"text-align: right;\">\n",
       "      <th></th>\n",
       "      <th>id</th>\n",
       "      <th>Duracao</th>\n",
       "    </tr>\n",
       "  </thead>\n",
       "  <tbody>\n",
       "    <tr>\n",
       "      <th>0</th>\n",
       "      <td>s9FH4rDMvds</td>\n",
       "      <td>604</td>\n",
       "    </tr>\n",
       "    <tr>\n",
       "      <th>1</th>\n",
       "      <td>jbGRowa5tIk</td>\n",
       "      <td>21</td>\n",
       "    </tr>\n",
       "  </tbody>\n",
       "</table>\n",
       "</div>\n",
       "      <button class=\"colab-df-convert\" onclick=\"convertToInteractive('df-8eed9f26-9a1a-4a57-b801-1c390573ccf3')\"\n",
       "              title=\"Convert this dataframe to an interactive table.\"\n",
       "              style=\"display:none;\">\n",
       "        \n",
       "  <svg xmlns=\"http://www.w3.org/2000/svg\" height=\"24px\"viewBox=\"0 0 24 24\"\n",
       "       width=\"24px\">\n",
       "    <path d=\"M0 0h24v24H0V0z\" fill=\"none\"/>\n",
       "    <path d=\"M18.56 5.44l.94 2.06.94-2.06 2.06-.94-2.06-.94-.94-2.06-.94 2.06-2.06.94zm-11 1L8.5 8.5l.94-2.06 2.06-.94-2.06-.94L8.5 2.5l-.94 2.06-2.06.94zm10 10l.94 2.06.94-2.06 2.06-.94-2.06-.94-.94-2.06-.94 2.06-2.06.94z\"/><path d=\"M17.41 7.96l-1.37-1.37c-.4-.4-.92-.59-1.43-.59-.52 0-1.04.2-1.43.59L10.3 9.45l-7.72 7.72c-.78.78-.78 2.05 0 2.83L4 21.41c.39.39.9.59 1.41.59.51 0 1.02-.2 1.41-.59l7.78-7.78 2.81-2.81c.8-.78.8-2.07 0-2.86zM5.41 20L4 18.59l7.72-7.72 1.47 1.35L5.41 20z\"/>\n",
       "  </svg>\n",
       "      </button>\n",
       "      \n",
       "  <style>\n",
       "    .colab-df-container {\n",
       "      display:flex;\n",
       "      flex-wrap:wrap;\n",
       "      gap: 12px;\n",
       "    }\n",
       "\n",
       "    .colab-df-convert {\n",
       "      background-color: #E8F0FE;\n",
       "      border: none;\n",
       "      border-radius: 50%;\n",
       "      cursor: pointer;\n",
       "      display: none;\n",
       "      fill: #1967D2;\n",
       "      height: 32px;\n",
       "      padding: 0 0 0 0;\n",
       "      width: 32px;\n",
       "    }\n",
       "\n",
       "    .colab-df-convert:hover {\n",
       "      background-color: #E2EBFA;\n",
       "      box-shadow: 0px 1px 2px rgba(60, 64, 67, 0.3), 0px 1px 3px 1px rgba(60, 64, 67, 0.15);\n",
       "      fill: #174EA6;\n",
       "    }\n",
       "\n",
       "    [theme=dark] .colab-df-convert {\n",
       "      background-color: #3B4455;\n",
       "      fill: #D2E3FC;\n",
       "    }\n",
       "\n",
       "    [theme=dark] .colab-df-convert:hover {\n",
       "      background-color: #434B5C;\n",
       "      box-shadow: 0px 1px 3px 1px rgba(0, 0, 0, 0.15);\n",
       "      filter: drop-shadow(0px 1px 2px rgba(0, 0, 0, 0.3));\n",
       "      fill: #FFFFFF;\n",
       "    }\n",
       "  </style>\n",
       "\n",
       "      <script>\n",
       "        const buttonEl =\n",
       "          document.querySelector('#df-8eed9f26-9a1a-4a57-b801-1c390573ccf3 button.colab-df-convert');\n",
       "        buttonEl.style.display =\n",
       "          google.colab.kernel.accessAllowed ? 'block' : 'none';\n",
       "\n",
       "        async function convertToInteractive(key) {\n",
       "          const element = document.querySelector('#df-8eed9f26-9a1a-4a57-b801-1c390573ccf3');\n",
       "          const dataTable =\n",
       "            await google.colab.kernel.invokeFunction('convertToInteractive',\n",
       "                                                     [key], {});\n",
       "          if (!dataTable) return;\n",
       "\n",
       "          const docLinkHtml = 'Like what you see? Visit the ' +\n",
       "            '<a target=\"_blank\" href=https://colab.research.google.com/notebooks/data_table.ipynb>data table notebook</a>'\n",
       "            + ' to learn more about interactive tables.';\n",
       "          element.innerHTML = '';\n",
       "          dataTable['output_type'] = 'display_data';\n",
       "          await google.colab.output.renderOutput(dataTable, element);\n",
       "          const docLink = document.createElement('div');\n",
       "          docLink.innerHTML = docLinkHtml;\n",
       "          element.appendChild(docLink);\n",
       "        }\n",
       "      </script>\n",
       "    </div>\n",
       "  </div>\n",
       "  "
      ],
      "text/plain": [
       "            id  Duracao\n",
       "0  s9FH4rDMvds      604\n",
       "1  jbGRowa5tIk       21"
      ]
     },
     "execution_count": 70,
     "metadata": {},
     "output_type": "execute_result"
    }
   ],
   "source": [
    "df_copy.head(2)"
   ]
  },
  {
   "cell_type": "code",
   "execution_count": null,
   "metadata": {
    "colab": {
     "base_uri": "https://localhost:8080/",
     "height": 35
    },
    "executionInfo": {
     "elapsed": 356,
     "status": "ok",
     "timestamp": 1664753477259,
     "user": {
      "displayName": "Brayan Mauricio Rodríguez Garzónn",
      "userId": "05435019562705070299"
     },
     "user_tz": 180
    },
    "id": "slDSnn9dU5-l",
    "outputId": "6f4fc99a-d9a9-4459-c209-ec149bd4a5b0"
   },
   "outputs": [
    {
     "data": {
      "application/vnd.google.colaboratory.intrinsic+json": {
       "type": "string"
      },
      "text/plain": [
       "'/content/drive/MyDrive/MyCopy/You_tube_database/archive/'"
      ]
     },
     "execution_count": 71,
     "metadata": {},
     "output_type": "execute_result"
    }
   ],
   "source": [
    "link"
   ]
  },
  {
   "cell_type": "code",
   "execution_count": null,
   "metadata": {
    "id": "TJ3nnMlqvo7A"
   },
   "outputs": [],
   "source": [
    "# with open(link+'durations.csv', 'w') as f:\n",
    "#   df_copy.to_csv(f)"
   ]
  },
  {
   "cell_type": "code",
   "execution_count": null,
   "metadata": {
    "id": "gEYbxi6bIINa"
   },
   "outputs": [],
   "source": [
    "link='/content/drive/MyDrive/python/You_tube_database/archive/'"
   ]
  },
  {
   "cell_type": "code",
   "execution_count": null,
   "metadata": {
    "colab": {
     "base_uri": "https://localhost:8080/",
     "height": 423
    },
    "executionInfo": {
     "elapsed": 381,
     "status": "ok",
     "timestamp": 1662846677345,
     "user": {
      "displayName": "Brayan Mauricio Rodríguez Garzónn",
      "userId": "05435019562705070299"
     },
     "user_tz": 180
    },
    "id": "AQHQL7DGH997",
    "outputId": "4d604ccd-6c5a-4947-a1d4-6a5127eab247"
   },
   "outputs": [
    {
     "data": {
      "text/html": [
       "\n",
       "  <div id=\"df-e2636159-a950-49f4-81cc-71ee9f966186\">\n",
       "    <div class=\"colab-df-container\">\n",
       "      <div>\n",
       "<style scoped>\n",
       "    .dataframe tbody tr th:only-of-type {\n",
       "        vertical-align: middle;\n",
       "    }\n",
       "\n",
       "    .dataframe tbody tr th {\n",
       "        vertical-align: top;\n",
       "    }\n",
       "\n",
       "    .dataframe thead th {\n",
       "        text-align: right;\n",
       "    }\n",
       "</style>\n",
       "<table border=\"1\" class=\"dataframe\">\n",
       "  <thead>\n",
       "    <tr style=\"text-align: right;\">\n",
       "      <th></th>\n",
       "      <th>id</th>\n",
       "      <th>Duracao</th>\n",
       "    </tr>\n",
       "  </thead>\n",
       "  <tbody>\n",
       "    <tr>\n",
       "      <th>0</th>\n",
       "      <td>s9FH4rDMvds</td>\n",
       "      <td>604</td>\n",
       "    </tr>\n",
       "    <tr>\n",
       "      <th>1</th>\n",
       "      <td>jbGRowa5tIk</td>\n",
       "      <td>21</td>\n",
       "    </tr>\n",
       "    <tr>\n",
       "      <th>2</th>\n",
       "      <td>3EfkCrXKZNs</td>\n",
       "      <td>185</td>\n",
       "    </tr>\n",
       "    <tr>\n",
       "      <th>3</th>\n",
       "      <td>npoUGx7UW7o</td>\n",
       "      <td>1878</td>\n",
       "    </tr>\n",
       "    <tr>\n",
       "      <th>4</th>\n",
       "      <td>Vu6PNpYKu2U</td>\n",
       "      <td>1095</td>\n",
       "    </tr>\n",
       "    <tr>\n",
       "      <th>...</th>\n",
       "      <td>...</td>\n",
       "      <td>...</td>\n",
       "    </tr>\n",
       "    <tr>\n",
       "      <th>22860</th>\n",
       "      <td>AfCZTJS65k4</td>\n",
       "      <td>1239</td>\n",
       "    </tr>\n",
       "    <tr>\n",
       "      <th>22861</th>\n",
       "      <td>vExtiIWz52o</td>\n",
       "      <td>49</td>\n",
       "    </tr>\n",
       "    <tr>\n",
       "      <th>22862</th>\n",
       "      <td>UYlAeI87Dsg</td>\n",
       "      <td>815</td>\n",
       "    </tr>\n",
       "    <tr>\n",
       "      <th>22863</th>\n",
       "      <td>8MBQDiaBsR8</td>\n",
       "      <td>1041</td>\n",
       "    </tr>\n",
       "    <tr>\n",
       "      <th>22864</th>\n",
       "      <td>SU8pHC9F3hE</td>\n",
       "      <td>589</td>\n",
       "    </tr>\n",
       "  </tbody>\n",
       "</table>\n",
       "<p>22865 rows × 2 columns</p>\n",
       "</div>\n",
       "      <button class=\"colab-df-convert\" onclick=\"convertToInteractive('df-e2636159-a950-49f4-81cc-71ee9f966186')\"\n",
       "              title=\"Convert this dataframe to an interactive table.\"\n",
       "              style=\"display:none;\">\n",
       "        \n",
       "  <svg xmlns=\"http://www.w3.org/2000/svg\" height=\"24px\"viewBox=\"0 0 24 24\"\n",
       "       width=\"24px\">\n",
       "    <path d=\"M0 0h24v24H0V0z\" fill=\"none\"/>\n",
       "    <path d=\"M18.56 5.44l.94 2.06.94-2.06 2.06-.94-2.06-.94-.94-2.06-.94 2.06-2.06.94zm-11 1L8.5 8.5l.94-2.06 2.06-.94-2.06-.94L8.5 2.5l-.94 2.06-2.06.94zm10 10l.94 2.06.94-2.06 2.06-.94-2.06-.94-.94-2.06-.94 2.06-2.06.94z\"/><path d=\"M17.41 7.96l-1.37-1.37c-.4-.4-.92-.59-1.43-.59-.52 0-1.04.2-1.43.59L10.3 9.45l-7.72 7.72c-.78.78-.78 2.05 0 2.83L4 21.41c.39.39.9.59 1.41.59.51 0 1.02-.2 1.41-.59l7.78-7.78 2.81-2.81c.8-.78.8-2.07 0-2.86zM5.41 20L4 18.59l7.72-7.72 1.47 1.35L5.41 20z\"/>\n",
       "  </svg>\n",
       "      </button>\n",
       "      \n",
       "  <style>\n",
       "    .colab-df-container {\n",
       "      display:flex;\n",
       "      flex-wrap:wrap;\n",
       "      gap: 12px;\n",
       "    }\n",
       "\n",
       "    .colab-df-convert {\n",
       "      background-color: #E8F0FE;\n",
       "      border: none;\n",
       "      border-radius: 50%;\n",
       "      cursor: pointer;\n",
       "      display: none;\n",
       "      fill: #1967D2;\n",
       "      height: 32px;\n",
       "      padding: 0 0 0 0;\n",
       "      width: 32px;\n",
       "    }\n",
       "\n",
       "    .colab-df-convert:hover {\n",
       "      background-color: #E2EBFA;\n",
       "      box-shadow: 0px 1px 2px rgba(60, 64, 67, 0.3), 0px 1px 3px 1px rgba(60, 64, 67, 0.15);\n",
       "      fill: #174EA6;\n",
       "    }\n",
       "\n",
       "    [theme=dark] .colab-df-convert {\n",
       "      background-color: #3B4455;\n",
       "      fill: #D2E3FC;\n",
       "    }\n",
       "\n",
       "    [theme=dark] .colab-df-convert:hover {\n",
       "      background-color: #434B5C;\n",
       "      box-shadow: 0px 1px 3px 1px rgba(0, 0, 0, 0.15);\n",
       "      filter: drop-shadow(0px 1px 2px rgba(0, 0, 0, 0.3));\n",
       "      fill: #FFFFFF;\n",
       "    }\n",
       "  </style>\n",
       "\n",
       "      <script>\n",
       "        const buttonEl =\n",
       "          document.querySelector('#df-e2636159-a950-49f4-81cc-71ee9f966186 button.colab-df-convert');\n",
       "        buttonEl.style.display =\n",
       "          google.colab.kernel.accessAllowed ? 'block' : 'none';\n",
       "\n",
       "        async function convertToInteractive(key) {\n",
       "          const element = document.querySelector('#df-e2636159-a950-49f4-81cc-71ee9f966186');\n",
       "          const dataTable =\n",
       "            await google.colab.kernel.invokeFunction('convertToInteractive',\n",
       "                                                     [key], {});\n",
       "          if (!dataTable) return;\n",
       "\n",
       "          const docLinkHtml = 'Like what you see? Visit the ' +\n",
       "            '<a target=\"_blank\" href=https://colab.research.google.com/notebooks/data_table.ipynb>data table notebook</a>'\n",
       "            + ' to learn more about interactive tables.';\n",
       "          element.innerHTML = '';\n",
       "          dataTable['output_type'] = 'display_data';\n",
       "          await google.colab.output.renderOutput(dataTable, element);\n",
       "          const docLink = document.createElement('div');\n",
       "          docLink.innerHTML = docLinkHtml;\n",
       "          element.appendChild(docLink);\n",
       "        }\n",
       "      </script>\n",
       "    </div>\n",
       "  </div>\n",
       "  "
      ],
      "text/plain": [
       "                id  Duracao\n",
       "0      s9FH4rDMvds      604\n",
       "1      jbGRowa5tIk       21\n",
       "2      3EfkCrXKZNs      185\n",
       "3      npoUGx7UW7o     1878\n",
       "4      Vu6PNpYKu2U     1095\n",
       "...            ...      ...\n",
       "22860  AfCZTJS65k4     1239\n",
       "22861  vExtiIWz52o       49\n",
       "22862  UYlAeI87Dsg      815\n",
       "22863  8MBQDiaBsR8     1041\n",
       "22864  SU8pHC9F3hE      589\n",
       "\n",
       "[22865 rows x 2 columns]"
      ]
     },
     "execution_count": 121,
     "metadata": {},
     "output_type": "execute_result"
    }
   ],
   "source": [
    "import pandas as pd\n",
    "duration=pd.read_csv(link+'durations.csv')\n",
    "duration=duration.drop(columns='Unnamed: 0')\n",
    "duration"
   ]
  },
  {
   "cell_type": "markdown",
   "metadata": {
    "id": "ltwSU6gGv_F2"
   },
   "source": [
    "## Segunda parte de anexar as durações dos videso amostra"
   ]
  },
  {
   "cell_type": "code",
   "execution_count": 9,
   "metadata": {
    "colab": {
     "base_uri": "https://localhost:8080/"
    },
    "executionInfo": {
     "elapsed": 1327,
     "status": "ok",
     "timestamp": 1670179386607,
     "user": {
      "displayName": "Brayan Mauricio Rodríguez Garzónn",
      "userId": "05435019562705070299"
     },
     "user_tz": 180
    },
    "id": "J4R0a83qKnr3",
    "outputId": "06e2ffe3-cc0f-4031-c078-91287f40c9bd"
   },
   "outputs": [
    {
     "name": "stdout",
     "output_type": "stream",
     "text": [
      "(148138, 14)\n"
     ]
    },
    {
     "name": "stderr",
     "output_type": "stream",
     "text": [
      "/usr/local/lib/python3.8/dist-packages/IPython/core/interactiveshell.py:3326: DtypeWarning: Columns (7) have mixed types.Specify dtype option on import or set low_memory=False.\n",
      "  exec(code_obj, self.user_global_ns, self.user_ns)\n"
     ]
    }
   ],
   "source": [
    "import pandas as pd\n",
    "import numpy as np\n",
    "import re\n",
    "\n",
    "\n",
    "\n",
    "link ='/content/drive/MyDrive/MyCopy/You_tube_database/archive/'\n",
    "\n",
    "dados_original=pd.read_csv(link+'amostra_de_videos.csv')\n",
    "\n",
    "dados=dados_original.copy()\n",
    "dados=dados.drop(columns='Unnamed: 0')\n",
    "print(dados.shape)\n"
   ]
  },
  {
   "cell_type": "code",
   "execution_count": null,
   "metadata": {
    "colab": {
     "base_uri": "https://localhost:8080/"
    },
    "executionInfo": {
     "elapsed": 391,
     "status": "ok",
     "timestamp": 1670158869522,
     "user": {
      "displayName": "Brayan Mauricio Rodríguez Garzónn",
      "userId": "05435019562705070299"
     },
     "user_tz": 180
    },
    "id": "jzcAhvbFOWXO",
    "outputId": "2b6464ab-8089-4074-b9c0-82afc9a65d65"
   },
   "outputs": [
    {
     "data": {
      "text/plain": [
       "array([0, 1, 2, 3, 4, 5])"
      ]
     },
     "execution_count": 25,
     "metadata": {},
     "output_type": "execute_result"
    }
   ],
   "source": [
    "np.arange(6)"
   ]
  },
  {
   "cell_type": "code",
   "execution_count": 10,
   "metadata": {
    "colab": {
     "base_uri": "https://localhost:8080/"
    },
    "executionInfo": {
     "elapsed": 188689,
     "status": "ok",
     "timestamp": 1670179648211,
     "user": {
      "displayName": "Brayan Mauricio Rodríguez Garzónn",
      "userId": "05435019562705070299"
     },
     "user_tz": 180
    },
    "id": "0vp90jZ5KraB",
    "outputId": "50fff607-573d-484c-9b3b-6d4353fa0be0"
   },
   "outputs": [
    {
     "name": "stdout",
     "output_type": "stream",
     "text": [
      "31164\n"
     ]
    }
   ],
   "source": [
    "dados=dados.rename(columns={'id':'Id'})\n",
    "# dados.columns\n",
    "amostras=dados.copy()\n",
    "print(len(amostras['Id'].unique()))\n",
    "\n",
    "ids=list(amostras['Id'].unique())\n",
    "\n",
    "i=0\n",
    "durations=[]\n",
    "\n",
    "for i in np.arange(603):\n",
    "  request = youtube_quatro.videos().list(\n",
    "            part=\"snippet,contentDetails\",\n",
    "            id=ids[50*i:(i+1)*50]\n",
    "        )\n",
    "  # fileDetails ,, ,suggestions,\n",
    "  response = request.execute()\n",
    "  durations+=response['items']\n",
    "\n",
    "\n",
    "df=pd.DataFrame(durations)\n",
    "\n"
   ]
  },
  {
   "cell_type": "code",
   "execution_count": 11,
   "metadata": {
    "executionInfo": {
     "elapsed": 431,
     "status": "ok",
     "timestamp": 1670179726387,
     "user": {
      "displayName": "Brayan Mauricio Rodríguez Garzónn",
      "userId": "05435019562705070299"
     },
     "user_tz": 180
    },
    "id": "Co_sloUqamCS"
   },
   "outputs": [],
   "source": [
    "# ids\n",
    "durations_1=[]\n",
    "request = youtube_dos.videos().list(\n",
    "            part=\"snippet,contentDetails\",\n",
    "            id=ids[31150:len(ids)]\n",
    "        )\n",
    "  # fileDetails ,, ,suggestions,\n",
    "response = request.execute()\n",
    "durations_1+=response['items']"
   ]
  },
  {
   "cell_type": "code",
   "execution_count": 12,
   "metadata": {
    "colab": {
     "base_uri": "https://localhost:8080/"
    },
    "executionInfo": {
     "elapsed": 313,
     "status": "ok",
     "timestamp": 1670179739587,
     "user": {
      "displayName": "Brayan Mauricio Rodríguez Garzónn",
      "userId": "05435019562705070299"
     },
     "user_tz": 180
    },
    "id": "IjIdwInubaQv",
    "outputId": "6a1d88e1-228e-4ace-fe28-9e35aa678473"
   },
   "outputs": [
    {
     "name": "stdout",
     "output_type": "stream",
     "text": [
      "28934 + 13 = 28947\n"
     ]
    },
    {
     "data": {
      "text/plain": [
       "28947"
      ]
     },
     "execution_count": 12,
     "metadata": {},
     "output_type": "execute_result"
    }
   ],
   "source": [
    "c=durations+durations_1\n",
    "print(len(durations),'+',len(durations_1),'=',len(c))\n",
    "durations=c\n",
    "len(durations)"
   ]
  },
  {
   "cell_type": "code",
   "execution_count": 13,
   "metadata": {
    "colab": {
     "base_uri": "https://localhost:8080/"
    },
    "executionInfo": {
     "elapsed": 924,
     "status": "ok",
     "timestamp": 1670179747579,
     "user": {
      "displayName": "Brayan Mauricio Rodríguez Garzónn",
      "userId": "05435019562705070299"
     },
     "user_tz": 180
    },
    "id": "rSG1VV3Bhjxf",
    "outputId": "95a4fcfd-1a64-4ae9-a61d-012f12fc3957"
   },
   "outputs": [
    {
     "data": {
      "text/plain": [
       "28945"
      ]
     },
     "execution_count": 13,
     "metadata": {},
     "output_type": "execute_result"
    }
   ],
   "source": [
    "durations=durations[:28929]+durations[28931:]\n",
    "len(durations)"
   ]
  },
  {
   "cell_type": "code",
   "execution_count": 14,
   "metadata": {
    "executionInfo": {
     "elapsed": 1781,
     "status": "ok",
     "timestamp": 1670179759403,
     "user": {
      "displayName": "Brayan Mauricio Rodríguez Garzónn",
      "userId": "05435019562705070299"
     },
     "user_tz": 180
    },
    "id": "ZtY17COrK3ZE"
   },
   "outputs": [],
   "source": [
    "d={'items':durations}\n",
    "df=pd.DataFrame(d)\n",
    "\n",
    "\n",
    "d={'items':durations}\n",
    "df=pd.DataFrame(d)\n",
    "pd_normalize=pd.json_normalize(df['items'])\n",
    "pd_normalize=pd_normalize[['id','snippet.categoryId','contentDetails.duration']]\n",
    "pd_normalize.rename(columns={'snippet.categoryId':'Categoria','contentDetails.duration':'Duracao'},inplace=True)\n",
    "pd_normalize.head(1)\n",
    "\n",
    "df_copy=pd_normalize.copy()\n",
    "#tem um video indiano que demora um dia eliminamos ele por irrelevante\n",
    "# veja ele https://www.youtube.com/watch?v=jptDV-uPoLw\n",
    "df_copy=df_copy[~(df_copy['Duracao']=='P1DT1S')]"
   ]
  },
  {
   "cell_type": "code",
   "execution_count": 15,
   "metadata": {
    "executionInfo": {
     "elapsed": 759,
     "status": "ok",
     "timestamp": 1670179763450,
     "user": {
      "displayName": "Brayan Mauricio Rodríguez Garzónn",
      "userId": "05435019562705070299"
     },
     "user_tz": 180
    },
    "id": "gIv5r7NYQKeX"
   },
   "outputs": [],
   "source": [
    "\n",
    "def to_segundos(time):   \n",
    "    # re.split('[f-u]+',time, flags=re.IGNORECASE)\n",
    "    minutos=0\n",
    "    segundos=0\n",
    "    horas=0\n",
    "    a=re.split('PT',time, flags=re.IGNORECASE)\n",
    "    b=re.split('S',str(a[-1]))\n",
    "    if len(b)==2:\n",
    "        # print('HÁ SEGUNDOS')\n",
    "        c=re.split('M',str(b[0]))\n",
    "\n",
    "        if len(c)==2:\n",
    "            segundos=int(c[-1])  \n",
    "            # print('HÁ MINUTOS')\n",
    "\n",
    "            d=re.split('H',str(c[0]))\n",
    "\n",
    "            if len(d)==2:\n",
    "                # print('HÁ HORAS')\n",
    "                minutos=int(d[-1])*60      \n",
    "                horas=int(d[-2])*3600\n",
    "            else:\n",
    "                # print('NÃO HORAS')\n",
    "                minutos=int(d[0])*60         \n",
    "                horas=0\n",
    "        else:\n",
    "            # print('NÃO HÁ MINUTOS')\n",
    "\n",
    "            minutos=0\n",
    "            d=re.split('H',str(c[0]))\n",
    "            if len(d)==2:\n",
    "                # print('HÁ HORAS')\n",
    "                segundos=int(d[-1])  \n",
    "\n",
    "                horas=int(d[-2])*3600\n",
    "            else:\n",
    "                # print('NÃO HÁ HORAS')\n",
    "                segundos=int(b[0])  \n",
    "                horas=0\n",
    "    else:\n",
    "\n",
    "        # print(' NÃO HA SEGUNDOS')\n",
    "\n",
    "        seguindos=0\n",
    "        c=re.split('M',str(b[0]))\n",
    "        if len(c)==2:\n",
    "\n",
    "            # print(' HÁ MINUTOS  ')\n",
    "\n",
    "            d=re.split('H',str(c[0]))\n",
    "\n",
    "            if len(d)==2:\n",
    "                # print('HÁ HORAS')\n",
    "                minutos=int(d[-1])*60\n",
    "                horas=int(d[-2])*3600\n",
    "            else:\n",
    "                # print('NÃO HÁ HORAS')\n",
    "                minutos=int(d[0])*60       \n",
    "                horas=0\n",
    "        else:\n",
    "            # print('NÃO HÁ MINUTOS ')              \n",
    "\n",
    "            minutos=0\n",
    "            d=re.split('H',str(c[0]))\n",
    "\n",
    "            if len(d)==2:\n",
    "                # print('HÁ HORAS')    \n",
    "\n",
    "                horas=int(d[-2])*3600\n",
    "            else:\n",
    "                # prin('NÃO HÁ HORAS')\n",
    "\n",
    "                horas=0\n",
    "    total=horas+minutos+segundos\n",
    "\n",
    "    return total"
   ]
  },
  {
   "cell_type": "code",
   "execution_count": 16,
   "metadata": {
    "executionInfo": {
     "elapsed": 519,
     "status": "ok",
     "timestamp": 1670179771240,
     "user": {
      "displayName": "Brayan Mauricio Rodríguez Garzónn",
      "userId": "05435019562705070299"
     },
     "user_tz": 180
    },
    "id": "cIXiU3x0Qu6O"
   },
   "outputs": [],
   "source": [
    "df_copy['Duracao']=df_copy['Duracao'].apply(to_segundos)\n",
    "# a=list(df_copy['Duracao'].unique())\n",
    "# a"
   ]
  },
  {
   "cell_type": "code",
   "execution_count": 17,
   "metadata": {
    "colab": {
     "base_uri": "https://localhost:8080/",
     "height": 80
    },
    "executionInfo": {
     "elapsed": 14,
     "status": "ok",
     "timestamp": 1670179773199,
     "user": {
      "displayName": "Brayan Mauricio Rodríguez Garzónn",
      "userId": "05435019562705070299"
     },
     "user_tz": 180
    },
    "id": "dUi4ndU_SkX9",
    "outputId": "8da4d9ae-de3e-438a-ee63-efde731de1a7"
   },
   "outputs": [
    {
     "data": {
      "text/html": [
       "\n",
       "  <div id=\"df-8e2e7fbc-cb22-4185-be8c-7027dafa40c6\">\n",
       "    <div class=\"colab-df-container\">\n",
       "      <div>\n",
       "<style scoped>\n",
       "    .dataframe tbody tr th:only-of-type {\n",
       "        vertical-align: middle;\n",
       "    }\n",
       "\n",
       "    .dataframe tbody tr th {\n",
       "        vertical-align: top;\n",
       "    }\n",
       "\n",
       "    .dataframe thead th {\n",
       "        text-align: right;\n",
       "    }\n",
       "</style>\n",
       "<table border=\"1\" class=\"dataframe\">\n",
       "  <thead>\n",
       "    <tr style=\"text-align: right;\">\n",
       "      <th></th>\n",
       "      <th>id</th>\n",
       "      <th>Categoria</th>\n",
       "      <th>Duracao</th>\n",
       "    </tr>\n",
       "  </thead>\n",
       "  <tbody>\n",
       "    <tr>\n",
       "      <th>8929</th>\n",
       "      <td>b3WwJRz2bsE</td>\n",
       "      <td>25</td>\n",
       "      <td>97</td>\n",
       "    </tr>\n",
       "  </tbody>\n",
       "</table>\n",
       "</div>\n",
       "      <button class=\"colab-df-convert\" onclick=\"convertToInteractive('df-8e2e7fbc-cb22-4185-be8c-7027dafa40c6')\"\n",
       "              title=\"Convert this dataframe to an interactive table.\"\n",
       "              style=\"display:none;\">\n",
       "        \n",
       "  <svg xmlns=\"http://www.w3.org/2000/svg\" height=\"24px\"viewBox=\"0 0 24 24\"\n",
       "       width=\"24px\">\n",
       "    <path d=\"M0 0h24v24H0V0z\" fill=\"none\"/>\n",
       "    <path d=\"M18.56 5.44l.94 2.06.94-2.06 2.06-.94-2.06-.94-.94-2.06-.94 2.06-2.06.94zm-11 1L8.5 8.5l.94-2.06 2.06-.94-2.06-.94L8.5 2.5l-.94 2.06-2.06.94zm10 10l.94 2.06.94-2.06 2.06-.94-2.06-.94-.94-2.06-.94 2.06-2.06.94z\"/><path d=\"M17.41 7.96l-1.37-1.37c-.4-.4-.92-.59-1.43-.59-.52 0-1.04.2-1.43.59L10.3 9.45l-7.72 7.72c-.78.78-.78 2.05 0 2.83L4 21.41c.39.39.9.59 1.41.59.51 0 1.02-.2 1.41-.59l7.78-7.78 2.81-2.81c.8-.78.8-2.07 0-2.86zM5.41 20L4 18.59l7.72-7.72 1.47 1.35L5.41 20z\"/>\n",
       "  </svg>\n",
       "      </button>\n",
       "      \n",
       "  <style>\n",
       "    .colab-df-container {\n",
       "      display:flex;\n",
       "      flex-wrap:wrap;\n",
       "      gap: 12px;\n",
       "    }\n",
       "\n",
       "    .colab-df-convert {\n",
       "      background-color: #E8F0FE;\n",
       "      border: none;\n",
       "      border-radius: 50%;\n",
       "      cursor: pointer;\n",
       "      display: none;\n",
       "      fill: #1967D2;\n",
       "      height: 32px;\n",
       "      padding: 0 0 0 0;\n",
       "      width: 32px;\n",
       "    }\n",
       "\n",
       "    .colab-df-convert:hover {\n",
       "      background-color: #E2EBFA;\n",
       "      box-shadow: 0px 1px 2px rgba(60, 64, 67, 0.3), 0px 1px 3px 1px rgba(60, 64, 67, 0.15);\n",
       "      fill: #174EA6;\n",
       "    }\n",
       "\n",
       "    [theme=dark] .colab-df-convert {\n",
       "      background-color: #3B4455;\n",
       "      fill: #D2E3FC;\n",
       "    }\n",
       "\n",
       "    [theme=dark] .colab-df-convert:hover {\n",
       "      background-color: #434B5C;\n",
       "      box-shadow: 0px 1px 3px 1px rgba(0, 0, 0, 0.15);\n",
       "      filter: drop-shadow(0px 1px 2px rgba(0, 0, 0, 0.3));\n",
       "      fill: #FFFFFF;\n",
       "    }\n",
       "  </style>\n",
       "\n",
       "      <script>\n",
       "        const buttonEl =\n",
       "          document.querySelector('#df-8e2e7fbc-cb22-4185-be8c-7027dafa40c6 button.colab-df-convert');\n",
       "        buttonEl.style.display =\n",
       "          google.colab.kernel.accessAllowed ? 'block' : 'none';\n",
       "\n",
       "        async function convertToInteractive(key) {\n",
       "          const element = document.querySelector('#df-8e2e7fbc-cb22-4185-be8c-7027dafa40c6');\n",
       "          const dataTable =\n",
       "            await google.colab.kernel.invokeFunction('convertToInteractive',\n",
       "                                                     [key], {});\n",
       "          if (!dataTable) return;\n",
       "\n",
       "          const docLinkHtml = 'Like what you see? Visit the ' +\n",
       "            '<a target=\"_blank\" href=https://colab.research.google.com/notebooks/data_table.ipynb>data table notebook</a>'\n",
       "            + ' to learn more about interactive tables.';\n",
       "          element.innerHTML = '';\n",
       "          dataTable['output_type'] = 'display_data';\n",
       "          await google.colab.output.renderOutput(dataTable, element);\n",
       "          const docLink = document.createElement('div');\n",
       "          docLink.innerHTML = docLinkHtml;\n",
       "          element.appendChild(docLink);\n",
       "        }\n",
       "      </script>\n",
       "    </div>\n",
       "  </div>\n",
       "  "
      ],
      "text/plain": [
       "               id Categoria  Duracao\n",
       "8929  b3WwJRz2bsE        25       97"
      ]
     },
     "execution_count": 17,
     "metadata": {},
     "output_type": "execute_result"
    }
   ],
   "source": [
    "df_copy.sample()"
   ]
  },
  {
   "cell_type": "markdown",
   "metadata": {
    "id": "kNNQB4iaiqu-"
   },
   "source": [
    "#### Guardando as durações das amostras"
   ]
  },
  {
   "cell_type": "code",
   "execution_count": 18,
   "metadata": {
    "executionInfo": {
     "elapsed": 276,
     "status": "ok",
     "timestamp": 1670179788823,
     "user": {
      "displayName": "Brayan Mauricio Rodríguez Garzónn",
      "userId": "05435019562705070299"
     },
     "user_tz": 180
    },
    "id": "EWsrFaVTUdsG"
   },
   "outputs": [],
   "source": [
    "with open(link+'durations_amostras.csv', 'w') as f:\n",
    "  df_copy.to_csv(f)"
   ]
  },
  {
   "cell_type": "code",
   "execution_count": 5,
   "metadata": {
    "executionInfo": {
     "elapsed": 265,
     "status": "ok",
     "timestamp": 1670178783379,
     "user": {
      "displayName": "Brayan Mauricio Rodríguez Garzónn",
      "userId": "05435019562705070299"
     },
     "user_tz": 180
    },
    "id": "BWfdof8DaPP0"
   },
   "outputs": [],
   "source": [
    "import pandas as pd\n",
    "import numpy as np\n",
    "import matplotlib.pyplot as plt\n"
   ]
  },
  {
   "cell_type": "markdown",
   "metadata": {
    "id": "wPwhsWhOqR0S"
   },
   "source": [
    "### Agragando categoria e duration aos vídeos de amostra"
   ]
  },
  {
   "cell_type": "code",
   "execution_count": 47,
   "metadata": {
    "colab": {
     "base_uri": "https://localhost:8080/",
     "height": 423
    },
    "executionInfo": {
     "elapsed": 944,
     "status": "ok",
     "timestamp": 1670182966508,
     "user": {
      "displayName": "Brayan Mauricio Rodríguez Garzónn",
      "userId": "05435019562705070299"
     },
     "user_tz": 180
    },
    "id": "JDq3HI3liuqX",
    "outputId": "84b96a29-282b-4a3a-9b39-e06d9f2f928f"
   },
   "outputs": [
    {
     "data": {
      "text/html": [
       "\n",
       "  <div id=\"df-cb3ac0a6-64e0-439d-91b1-351a925fa6cb\">\n",
       "    <div class=\"colab-df-container\">\n",
       "      <div>\n",
       "<style scoped>\n",
       "    .dataframe tbody tr th:only-of-type {\n",
       "        vertical-align: middle;\n",
       "    }\n",
       "\n",
       "    .dataframe tbody tr th {\n",
       "        vertical-align: top;\n",
       "    }\n",
       "\n",
       "    .dataframe thead th {\n",
       "        text-align: right;\n",
       "    }\n",
       "</style>\n",
       "<table border=\"1\" class=\"dataframe\">\n",
       "  <thead>\n",
       "    <tr style=\"text-align: right;\">\n",
       "      <th></th>\n",
       "      <th>id</th>\n",
       "      <th>Categoria</th>\n",
       "      <th>Duracao</th>\n",
       "    </tr>\n",
       "  </thead>\n",
       "  <tbody>\n",
       "    <tr>\n",
       "      <th>0</th>\n",
       "      <td>TGAFybQD-j4</td>\n",
       "      <td>1</td>\n",
       "      <td>43</td>\n",
       "    </tr>\n",
       "    <tr>\n",
       "      <th>1</th>\n",
       "      <td>0bu2r4VLX_8</td>\n",
       "      <td>25</td>\n",
       "      <td>495</td>\n",
       "    </tr>\n",
       "    <tr>\n",
       "      <th>2</th>\n",
       "      <td>Sw_NuL-P2ws</td>\n",
       "      <td>24</td>\n",
       "      <td>307</td>\n",
       "    </tr>\n",
       "    <tr>\n",
       "      <th>3</th>\n",
       "      <td>kR-KvhyQoDk</td>\n",
       "      <td>24</td>\n",
       "      <td>1553</td>\n",
       "    </tr>\n",
       "    <tr>\n",
       "      <th>4</th>\n",
       "      <td>fAU_x01NoeU</td>\n",
       "      <td>25</td>\n",
       "      <td>154</td>\n",
       "    </tr>\n",
       "    <tr>\n",
       "      <th>...</th>\n",
       "      <td>...</td>\n",
       "      <td>...</td>\n",
       "      <td>...</td>\n",
       "    </tr>\n",
       "    <tr>\n",
       "      <th>28940</th>\n",
       "      <td>G-xsDzyN3TQ</td>\n",
       "      <td>24</td>\n",
       "      <td>3608</td>\n",
       "    </tr>\n",
       "    <tr>\n",
       "      <th>28941</th>\n",
       "      <td>rH-cp6oAiWY</td>\n",
       "      <td>24</td>\n",
       "      <td>3291</td>\n",
       "    </tr>\n",
       "    <tr>\n",
       "      <th>28942</th>\n",
       "      <td>zydo_vDmPCw</td>\n",
       "      <td>17</td>\n",
       "      <td>1081</td>\n",
       "    </tr>\n",
       "    <tr>\n",
       "      <th>28943</th>\n",
       "      <td>ILbDGlPbPLs</td>\n",
       "      <td>28</td>\n",
       "      <td>931</td>\n",
       "    </tr>\n",
       "    <tr>\n",
       "      <th>28944</th>\n",
       "      <td>qxuCW6ixfJw</td>\n",
       "      <td>17</td>\n",
       "      <td>1364</td>\n",
       "    </tr>\n",
       "  </tbody>\n",
       "</table>\n",
       "<p>28944 rows × 3 columns</p>\n",
       "</div>\n",
       "      <button class=\"colab-df-convert\" onclick=\"convertToInteractive('df-cb3ac0a6-64e0-439d-91b1-351a925fa6cb')\"\n",
       "              title=\"Convert this dataframe to an interactive table.\"\n",
       "              style=\"display:none;\">\n",
       "        \n",
       "  <svg xmlns=\"http://www.w3.org/2000/svg\" height=\"24px\"viewBox=\"0 0 24 24\"\n",
       "       width=\"24px\">\n",
       "    <path d=\"M0 0h24v24H0V0z\" fill=\"none\"/>\n",
       "    <path d=\"M18.56 5.44l.94 2.06.94-2.06 2.06-.94-2.06-.94-.94-2.06-.94 2.06-2.06.94zm-11 1L8.5 8.5l.94-2.06 2.06-.94-2.06-.94L8.5 2.5l-.94 2.06-2.06.94zm10 10l.94 2.06.94-2.06 2.06-.94-2.06-.94-.94-2.06-.94 2.06-2.06.94z\"/><path d=\"M17.41 7.96l-1.37-1.37c-.4-.4-.92-.59-1.43-.59-.52 0-1.04.2-1.43.59L10.3 9.45l-7.72 7.72c-.78.78-.78 2.05 0 2.83L4 21.41c.39.39.9.59 1.41.59.51 0 1.02-.2 1.41-.59l7.78-7.78 2.81-2.81c.8-.78.8-2.07 0-2.86zM5.41 20L4 18.59l7.72-7.72 1.47 1.35L5.41 20z\"/>\n",
       "  </svg>\n",
       "      </button>\n",
       "      \n",
       "  <style>\n",
       "    .colab-df-container {\n",
       "      display:flex;\n",
       "      flex-wrap:wrap;\n",
       "      gap: 12px;\n",
       "    }\n",
       "\n",
       "    .colab-df-convert {\n",
       "      background-color: #E8F0FE;\n",
       "      border: none;\n",
       "      border-radius: 50%;\n",
       "      cursor: pointer;\n",
       "      display: none;\n",
       "      fill: #1967D2;\n",
       "      height: 32px;\n",
       "      padding: 0 0 0 0;\n",
       "      width: 32px;\n",
       "    }\n",
       "\n",
       "    .colab-df-convert:hover {\n",
       "      background-color: #E2EBFA;\n",
       "      box-shadow: 0px 1px 2px rgba(60, 64, 67, 0.3), 0px 1px 3px 1px rgba(60, 64, 67, 0.15);\n",
       "      fill: #174EA6;\n",
       "    }\n",
       "\n",
       "    [theme=dark] .colab-df-convert {\n",
       "      background-color: #3B4455;\n",
       "      fill: #D2E3FC;\n",
       "    }\n",
       "\n",
       "    [theme=dark] .colab-df-convert:hover {\n",
       "      background-color: #434B5C;\n",
       "      box-shadow: 0px 1px 3px 1px rgba(0, 0, 0, 0.15);\n",
       "      filter: drop-shadow(0px 1px 2px rgba(0, 0, 0, 0.3));\n",
       "      fill: #FFFFFF;\n",
       "    }\n",
       "  </style>\n",
       "\n",
       "      <script>\n",
       "        const buttonEl =\n",
       "          document.querySelector('#df-cb3ac0a6-64e0-439d-91b1-351a925fa6cb button.colab-df-convert');\n",
       "        buttonEl.style.display =\n",
       "          google.colab.kernel.accessAllowed ? 'block' : 'none';\n",
       "\n",
       "        async function convertToInteractive(key) {\n",
       "          const element = document.querySelector('#df-cb3ac0a6-64e0-439d-91b1-351a925fa6cb');\n",
       "          const dataTable =\n",
       "            await google.colab.kernel.invokeFunction('convertToInteractive',\n",
       "                                                     [key], {});\n",
       "          if (!dataTable) return;\n",
       "\n",
       "          const docLinkHtml = 'Like what you see? Visit the ' +\n",
       "            '<a target=\"_blank\" href=https://colab.research.google.com/notebooks/data_table.ipynb>data table notebook</a>'\n",
       "            + ' to learn more about interactive tables.';\n",
       "          element.innerHTML = '';\n",
       "          dataTable['output_type'] = 'display_data';\n",
       "          await google.colab.output.renderOutput(dataTable, element);\n",
       "          const docLink = document.createElement('div');\n",
       "          docLink.innerHTML = docLinkHtml;\n",
       "          element.appendChild(docLink);\n",
       "        }\n",
       "      </script>\n",
       "    </div>\n",
       "  </div>\n",
       "  "
      ],
      "text/plain": [
       "                id  Categoria  Duracao\n",
       "0      TGAFybQD-j4          1       43\n",
       "1      0bu2r4VLX_8         25      495\n",
       "2      Sw_NuL-P2ws         24      307\n",
       "3      kR-KvhyQoDk         24     1553\n",
       "4      fAU_x01NoeU         25      154\n",
       "...            ...        ...      ...\n",
       "28940  G-xsDzyN3TQ         24     3608\n",
       "28941  rH-cp6oAiWY         24     3291\n",
       "28942  zydo_vDmPCw         17     1081\n",
       "28943  ILbDGlPbPLs         28      931\n",
       "28944  qxuCW6ixfJw         17     1364\n",
       "\n",
       "[28944 rows x 3 columns]"
      ]
     },
     "execution_count": 47,
     "metadata": {},
     "output_type": "execute_result"
    }
   ],
   "source": [
    "df_copy=pd.read_csv(link+'durations_amostras.csv',index_col=0)\n",
    "df_copy"
   ]
  },
  {
   "cell_type": "code",
   "execution_count": 48,
   "metadata": {
    "colab": {
     "base_uri": "https://localhost:8080/",
     "height": 319
    },
    "executionInfo": {
     "elapsed": 728,
     "status": "ok",
     "timestamp": 1670182978069,
     "user": {
      "displayName": "Brayan Mauricio Rodríguez Garzónn",
      "userId": "05435019562705070299"
     },
     "user_tz": 180
    },
    "id": "eXX2g1_AaL9T",
    "outputId": "9dc4187e-b9f4-47f9-ecfd-ebc20e451587"
   },
   "outputs": [
    {
     "name": "stderr",
     "output_type": "stream",
     "text": [
      "/usr/local/lib/python3.8/dist-packages/IPython/core/interactiveshell.py:3326: DtypeWarning: Columns (7) have mixed types.Specify dtype option on import or set low_memory=False.\n",
      "  exec(code_obj, self.user_global_ns, self.user_ns)\n"
     ]
    },
    {
     "data": {
      "text/html": [
       "\n",
       "  <div id=\"df-928722f9-6b14-4a63-a96b-3f5aaa8836ec\">\n",
       "    <div class=\"colab-df-container\">\n",
       "      <div>\n",
       "<style scoped>\n",
       "    .dataframe tbody tr th:only-of-type {\n",
       "        vertical-align: middle;\n",
       "    }\n",
       "\n",
       "    .dataframe tbody tr th {\n",
       "        vertical-align: top;\n",
       "    }\n",
       "\n",
       "    .dataframe thead th {\n",
       "        text-align: right;\n",
       "    }\n",
       "</style>\n",
       "<table border=\"1\" class=\"dataframe\">\n",
       "  <thead>\n",
       "    <tr style=\"text-align: right;\">\n",
       "      <th></th>\n",
       "      <th>Id</th>\n",
       "      <th>Vistas</th>\n",
       "      <th>likes</th>\n",
       "      <th>Comentarios</th>\n",
       "      <th>C_id</th>\n",
       "      <th>Data</th>\n",
       "      <th>Título</th>\n",
       "      <th>C_Data</th>\n",
       "      <th>C_Titulo</th>\n",
       "      <th>Pais</th>\n",
       "      <th>C_Vistas</th>\n",
       "      <th>Subscriptores</th>\n",
       "      <th>No Videos</th>\n",
       "      <th>Titulo</th>\n",
       "    </tr>\n",
       "  </thead>\n",
       "  <tbody>\n",
       "    <tr>\n",
       "      <th>0</th>\n",
       "      <td>TGAFybQD-j4</td>\n",
       "      <td>14640.0</td>\n",
       "      <td>846.0</td>\n",
       "      <td>46.0</td>\n",
       "      <td>UC14QT5j2nQI8lKBCGtrrBQA</td>\n",
       "      <td>2022-08-18T10:00:30Z</td>\n",
       "      <td>TVアニメ「シャドーハウス 2nd Season」予告第7話「個別捜査」</td>\n",
       "      <td>2006-06-13T12:25:27Z</td>\n",
       "      <td>アニプレックス YouTube チャンネル</td>\n",
       "      <td>JP</td>\n",
       "      <td>1544856660</td>\n",
       "      <td>1810000.0</td>\n",
       "      <td>6726</td>\n",
       "      <td>NaN</td>\n",
       "    </tr>\n",
       "  </tbody>\n",
       "</table>\n",
       "</div>\n",
       "      <button class=\"colab-df-convert\" onclick=\"convertToInteractive('df-928722f9-6b14-4a63-a96b-3f5aaa8836ec')\"\n",
       "              title=\"Convert this dataframe to an interactive table.\"\n",
       "              style=\"display:none;\">\n",
       "        \n",
       "  <svg xmlns=\"http://www.w3.org/2000/svg\" height=\"24px\"viewBox=\"0 0 24 24\"\n",
       "       width=\"24px\">\n",
       "    <path d=\"M0 0h24v24H0V0z\" fill=\"none\"/>\n",
       "    <path d=\"M18.56 5.44l.94 2.06.94-2.06 2.06-.94-2.06-.94-.94-2.06-.94 2.06-2.06.94zm-11 1L8.5 8.5l.94-2.06 2.06-.94-2.06-.94L8.5 2.5l-.94 2.06-2.06.94zm10 10l.94 2.06.94-2.06 2.06-.94-2.06-.94-.94-2.06-.94 2.06-2.06.94z\"/><path d=\"M17.41 7.96l-1.37-1.37c-.4-.4-.92-.59-1.43-.59-.52 0-1.04.2-1.43.59L10.3 9.45l-7.72 7.72c-.78.78-.78 2.05 0 2.83L4 21.41c.39.39.9.59 1.41.59.51 0 1.02-.2 1.41-.59l7.78-7.78 2.81-2.81c.8-.78.8-2.07 0-2.86zM5.41 20L4 18.59l7.72-7.72 1.47 1.35L5.41 20z\"/>\n",
       "  </svg>\n",
       "      </button>\n",
       "      \n",
       "  <style>\n",
       "    .colab-df-container {\n",
       "      display:flex;\n",
       "      flex-wrap:wrap;\n",
       "      gap: 12px;\n",
       "    }\n",
       "\n",
       "    .colab-df-convert {\n",
       "      background-color: #E8F0FE;\n",
       "      border: none;\n",
       "      border-radius: 50%;\n",
       "      cursor: pointer;\n",
       "      display: none;\n",
       "      fill: #1967D2;\n",
       "      height: 32px;\n",
       "      padding: 0 0 0 0;\n",
       "      width: 32px;\n",
       "    }\n",
       "\n",
       "    .colab-df-convert:hover {\n",
       "      background-color: #E2EBFA;\n",
       "      box-shadow: 0px 1px 2px rgba(60, 64, 67, 0.3), 0px 1px 3px 1px rgba(60, 64, 67, 0.15);\n",
       "      fill: #174EA6;\n",
       "    }\n",
       "\n",
       "    [theme=dark] .colab-df-convert {\n",
       "      background-color: #3B4455;\n",
       "      fill: #D2E3FC;\n",
       "    }\n",
       "\n",
       "    [theme=dark] .colab-df-convert:hover {\n",
       "      background-color: #434B5C;\n",
       "      box-shadow: 0px 1px 3px 1px rgba(0, 0, 0, 0.15);\n",
       "      filter: drop-shadow(0px 1px 2px rgba(0, 0, 0, 0.3));\n",
       "      fill: #FFFFFF;\n",
       "    }\n",
       "  </style>\n",
       "\n",
       "      <script>\n",
       "        const buttonEl =\n",
       "          document.querySelector('#df-928722f9-6b14-4a63-a96b-3f5aaa8836ec button.colab-df-convert');\n",
       "        buttonEl.style.display =\n",
       "          google.colab.kernel.accessAllowed ? 'block' : 'none';\n",
       "\n",
       "        async function convertToInteractive(key) {\n",
       "          const element = document.querySelector('#df-928722f9-6b14-4a63-a96b-3f5aaa8836ec');\n",
       "          const dataTable =\n",
       "            await google.colab.kernel.invokeFunction('convertToInteractive',\n",
       "                                                     [key], {});\n",
       "          if (!dataTable) return;\n",
       "\n",
       "          const docLinkHtml = 'Like what you see? Visit the ' +\n",
       "            '<a target=\"_blank\" href=https://colab.research.google.com/notebooks/data_table.ipynb>data table notebook</a>'\n",
       "            + ' to learn more about interactive tables.';\n",
       "          element.innerHTML = '';\n",
       "          dataTable['output_type'] = 'display_data';\n",
       "          await google.colab.output.renderOutput(dataTable, element);\n",
       "          const docLink = document.createElement('div');\n",
       "          docLink.innerHTML = docLinkHtml;\n",
       "          element.appendChild(docLink);\n",
       "        }\n",
       "      </script>\n",
       "    </div>\n",
       "  </div>\n",
       "  "
      ],
      "text/plain": [
       "            Id   Vistas  likes  Comentarios                      C_id  \\\n",
       "0  TGAFybQD-j4  14640.0  846.0         46.0  UC14QT5j2nQI8lKBCGtrrBQA   \n",
       "\n",
       "                   Data                                Título  \\\n",
       "0  2022-08-18T10:00:30Z  TVアニメ「シャドーハウス 2nd Season」予告第7話「個別捜査」   \n",
       "\n",
       "                 C_Data               C_Titulo Pais    C_Vistas  \\\n",
       "0  2006-06-13T12:25:27Z  アニプレックス YouTube チャンネル   JP  1544856660   \n",
       "\n",
       "   Subscriptores  No Videos Titulo  \n",
       "0      1810000.0       6726    NaN  "
      ]
     },
     "execution_count": 48,
     "metadata": {},
     "output_type": "execute_result"
    }
   ],
   "source": [
    "df_amostras=pd.read_csv(link+'amostra_de_videos.csv',index_col=0)\n",
    "df_amostras=df_amostras.rename(columns={'id':'Id'})\n",
    "df_amostras.head(1)"
   ]
  },
  {
   "cell_type": "code",
   "execution_count": 49,
   "metadata": {
    "colab": {
     "base_uri": "https://localhost:8080/"
    },
    "executionInfo": {
     "elapsed": 416,
     "status": "ok",
     "timestamp": 1670182981953,
     "user": {
      "displayName": "Brayan Mauricio Rodríguez Garzónn",
      "userId": "05435019562705070299"
     },
     "user_tz": 180
    },
    "id": "PZkHFhNHlNMb",
    "outputId": "76bb0a0f-6e2e-4a58-815e-d997a74740f8"
   },
   "outputs": [
    {
     "data": {
      "text/plain": [
       "id           object\n",
       "Categoria      int8\n",
       "Duracao       int64\n",
       "dtype: object"
      ]
     },
     "execution_count": 49,
     "metadata": {},
     "output_type": "execute_result"
    }
   ],
   "source": [
    "df_copy['Categoria']=pd.to_numeric(df_copy['Categoria'],errors='coerce',downcast=\"integer\")\n",
    "df_copy.dtypes"
   ]
  },
  {
   "cell_type": "code",
   "execution_count": 50,
   "metadata": {
    "executionInfo": {
     "elapsed": 261,
     "status": "ok",
     "timestamp": 1670182995421,
     "user": {
      "displayName": "Brayan Mauricio Rodríguez Garzónn",
      "userId": "05435019562705070299"
     },
     "user_tz": 180
    },
    "id": "75fY9_KokxtY"
   },
   "outputs": [],
   "source": [
    "# df_copy\n",
    "duracoes=df_copy.set_index('id')['Duracao'].to_dict()\n",
    "# len(duracoes)\n",
    "categorias=df_copy.set_index('id')['Categoria'].to_dict()\n",
    "# len(categorias)\n",
    "df_amostras['Categoria']=df_amostras['Id'].map(categorias)\n",
    "# df_amostras\n",
    "df_amostras['Duracao']=df_amostras['Id'].map(duracoes)"
   ]
  },
  {
   "cell_type": "code",
   "execution_count": 51,
   "metadata": {
    "colab": {
     "base_uri": "https://localhost:8080/",
     "height": 384
    },
    "executionInfo": {
     "elapsed": 8,
     "status": "ok",
     "timestamp": 1670182996701,
     "user": {
      "displayName": "Brayan Mauricio Rodríguez Garzónn",
      "userId": "05435019562705070299"
     },
     "user_tz": 180
    },
    "id": "30RRrAH1k5bQ",
    "outputId": "3655ca90-73f8-4113-a135-ab65bddce863"
   },
   "outputs": [
    {
     "data": {
      "text/html": [
       "\n",
       "  <div id=\"df-71b5b0bc-5ca9-419b-bd51-f51be4253d79\">\n",
       "    <div class=\"colab-df-container\">\n",
       "      <div>\n",
       "<style scoped>\n",
       "    .dataframe tbody tr th:only-of-type {\n",
       "        vertical-align: middle;\n",
       "    }\n",
       "\n",
       "    .dataframe tbody tr th {\n",
       "        vertical-align: top;\n",
       "    }\n",
       "\n",
       "    .dataframe thead th {\n",
       "        text-align: right;\n",
       "    }\n",
       "</style>\n",
       "<table border=\"1\" class=\"dataframe\">\n",
       "  <thead>\n",
       "    <tr style=\"text-align: right;\">\n",
       "      <th></th>\n",
       "      <th>Id</th>\n",
       "      <th>Vistas</th>\n",
       "      <th>likes</th>\n",
       "      <th>Comentarios</th>\n",
       "      <th>C_id</th>\n",
       "      <th>Data</th>\n",
       "      <th>Título</th>\n",
       "      <th>C_Data</th>\n",
       "      <th>C_Titulo</th>\n",
       "      <th>Pais</th>\n",
       "      <th>C_Vistas</th>\n",
       "      <th>Subscriptores</th>\n",
       "      <th>No Videos</th>\n",
       "      <th>Titulo</th>\n",
       "      <th>Categoria</th>\n",
       "      <th>Duracao</th>\n",
       "    </tr>\n",
       "  </thead>\n",
       "  <tbody>\n",
       "    <tr>\n",
       "      <th>117471</th>\n",
       "      <td>RLqHoibLqDI</td>\n",
       "      <td>21754.0</td>\n",
       "      <td>917.0</td>\n",
       "      <td>180.0</td>\n",
       "      <td>UCk8XGxi7fsTqQQRVq9LSraw</td>\n",
       "      <td>2022-09-11T05:47:13Z</td>\n",
       "      <td>NaN</td>\n",
       "      <td>2012-12-05T18:00:57Z</td>\n",
       "      <td>UFC Brasil</td>\n",
       "      <td>BR</td>\n",
       "      <td>521573975</td>\n",
       "      <td>1560000.0</td>\n",
       "      <td>7154</td>\n",
       "      <td>Entrevista de Octógono com Khamzat Chimaev | U...</td>\n",
       "      <td>17.0</td>\n",
       "      <td>262.0</td>\n",
       "    </tr>\n",
       "    <tr>\n",
       "      <th>55408</th>\n",
       "      <td>98VtRdaB_gs</td>\n",
       "      <td>172181.0</td>\n",
       "      <td>3971.0</td>\n",
       "      <td>98.0</td>\n",
       "      <td>UCs-6sCz2LJm1PrWQN4ErsPw</td>\n",
       "      <td>2022-08-28T23:29:07Z</td>\n",
       "      <td>FLAMENGO VENCE COM GOL DE VIDAL E DIMINUI VANT...</td>\n",
       "      <td>2009-10-30T00:30:39Z</td>\n",
       "      <td>TNT Sports Brasil</td>\n",
       "      <td>BR</td>\n",
       "      <td>2375451068</td>\n",
       "      <td>9120000.0</td>\n",
       "      <td>9879</td>\n",
       "      <td>NaN</td>\n",
       "      <td>NaN</td>\n",
       "      <td>NaN</td>\n",
       "    </tr>\n",
       "  </tbody>\n",
       "</table>\n",
       "</div>\n",
       "      <button class=\"colab-df-convert\" onclick=\"convertToInteractive('df-71b5b0bc-5ca9-419b-bd51-f51be4253d79')\"\n",
       "              title=\"Convert this dataframe to an interactive table.\"\n",
       "              style=\"display:none;\">\n",
       "        \n",
       "  <svg xmlns=\"http://www.w3.org/2000/svg\" height=\"24px\"viewBox=\"0 0 24 24\"\n",
       "       width=\"24px\">\n",
       "    <path d=\"M0 0h24v24H0V0z\" fill=\"none\"/>\n",
       "    <path d=\"M18.56 5.44l.94 2.06.94-2.06 2.06-.94-2.06-.94-.94-2.06-.94 2.06-2.06.94zm-11 1L8.5 8.5l.94-2.06 2.06-.94-2.06-.94L8.5 2.5l-.94 2.06-2.06.94zm10 10l.94 2.06.94-2.06 2.06-.94-2.06-.94-.94-2.06-.94 2.06-2.06.94z\"/><path d=\"M17.41 7.96l-1.37-1.37c-.4-.4-.92-.59-1.43-.59-.52 0-1.04.2-1.43.59L10.3 9.45l-7.72 7.72c-.78.78-.78 2.05 0 2.83L4 21.41c.39.39.9.59 1.41.59.51 0 1.02-.2 1.41-.59l7.78-7.78 2.81-2.81c.8-.78.8-2.07 0-2.86zM5.41 20L4 18.59l7.72-7.72 1.47 1.35L5.41 20z\"/>\n",
       "  </svg>\n",
       "      </button>\n",
       "      \n",
       "  <style>\n",
       "    .colab-df-container {\n",
       "      display:flex;\n",
       "      flex-wrap:wrap;\n",
       "      gap: 12px;\n",
       "    }\n",
       "\n",
       "    .colab-df-convert {\n",
       "      background-color: #E8F0FE;\n",
       "      border: none;\n",
       "      border-radius: 50%;\n",
       "      cursor: pointer;\n",
       "      display: none;\n",
       "      fill: #1967D2;\n",
       "      height: 32px;\n",
       "      padding: 0 0 0 0;\n",
       "      width: 32px;\n",
       "    }\n",
       "\n",
       "    .colab-df-convert:hover {\n",
       "      background-color: #E2EBFA;\n",
       "      box-shadow: 0px 1px 2px rgba(60, 64, 67, 0.3), 0px 1px 3px 1px rgba(60, 64, 67, 0.15);\n",
       "      fill: #174EA6;\n",
       "    }\n",
       "\n",
       "    [theme=dark] .colab-df-convert {\n",
       "      background-color: #3B4455;\n",
       "      fill: #D2E3FC;\n",
       "    }\n",
       "\n",
       "    [theme=dark] .colab-df-convert:hover {\n",
       "      background-color: #434B5C;\n",
       "      box-shadow: 0px 1px 3px 1px rgba(0, 0, 0, 0.15);\n",
       "      filter: drop-shadow(0px 1px 2px rgba(0, 0, 0, 0.3));\n",
       "      fill: #FFFFFF;\n",
       "    }\n",
       "  </style>\n",
       "\n",
       "      <script>\n",
       "        const buttonEl =\n",
       "          document.querySelector('#df-71b5b0bc-5ca9-419b-bd51-f51be4253d79 button.colab-df-convert');\n",
       "        buttonEl.style.display =\n",
       "          google.colab.kernel.accessAllowed ? 'block' : 'none';\n",
       "\n",
       "        async function convertToInteractive(key) {\n",
       "          const element = document.querySelector('#df-71b5b0bc-5ca9-419b-bd51-f51be4253d79');\n",
       "          const dataTable =\n",
       "            await google.colab.kernel.invokeFunction('convertToInteractive',\n",
       "                                                     [key], {});\n",
       "          if (!dataTable) return;\n",
       "\n",
       "          const docLinkHtml = 'Like what you see? Visit the ' +\n",
       "            '<a target=\"_blank\" href=https://colab.research.google.com/notebooks/data_table.ipynb>data table notebook</a>'\n",
       "            + ' to learn more about interactive tables.';\n",
       "          element.innerHTML = '';\n",
       "          dataTable['output_type'] = 'display_data';\n",
       "          await google.colab.output.renderOutput(dataTable, element);\n",
       "          const docLink = document.createElement('div');\n",
       "          docLink.innerHTML = docLinkHtml;\n",
       "          element.appendChild(docLink);\n",
       "        }\n",
       "      </script>\n",
       "    </div>\n",
       "  </div>\n",
       "  "
      ],
      "text/plain": [
       "                 Id    Vistas   likes  Comentarios                      C_id  \\\n",
       "117471  RLqHoibLqDI   21754.0   917.0        180.0  UCk8XGxi7fsTqQQRVq9LSraw   \n",
       "55408   98VtRdaB_gs  172181.0  3971.0         98.0  UCs-6sCz2LJm1PrWQN4ErsPw   \n",
       "\n",
       "                        Data  \\\n",
       "117471  2022-09-11T05:47:13Z   \n",
       "55408   2022-08-28T23:29:07Z   \n",
       "\n",
       "                                                   Título  \\\n",
       "117471                                                NaN   \n",
       "55408   FLAMENGO VENCE COM GOL DE VIDAL E DIMINUI VANT...   \n",
       "\n",
       "                      C_Data           C_Titulo Pais    C_Vistas  \\\n",
       "117471  2012-12-05T18:00:57Z         UFC Brasil   BR   521573975   \n",
       "55408   2009-10-30T00:30:39Z  TNT Sports Brasil   BR  2375451068   \n",
       "\n",
       "        Subscriptores  No Videos  \\\n",
       "117471      1560000.0       7154   \n",
       "55408       9120000.0       9879   \n",
       "\n",
       "                                                   Titulo  Categoria  Duracao  \n",
       "117471  Entrevista de Octógono com Khamzat Chimaev | U...       17.0    262.0  \n",
       "55408                                                 NaN        NaN      NaN  "
      ]
     },
     "execution_count": 51,
     "metadata": {},
     "output_type": "execute_result"
    }
   ],
   "source": [
    "df_amostras.sample(2)"
   ]
  },
  {
   "cell_type": "code",
   "execution_count": 52,
   "metadata": {
    "colab": {
     "base_uri": "https://localhost:8080/"
    },
    "executionInfo": {
     "elapsed": 321,
     "status": "ok",
     "timestamp": 1670183010541,
     "user": {
      "displayName": "Brayan Mauricio Rodríguez Garzónn",
      "userId": "05435019562705070299"
     },
     "user_tz": 180
    },
    "id": "EOxVaNNIl4TQ",
    "outputId": "39ee8757-ce1c-4a2f-a0c2-193f2b746bb1"
   },
   "outputs": [
    {
     "data": {
      "text/plain": [
       "Id                   0\n",
       "Vistas               9\n",
       "likes             2116\n",
       "Comentarios       6022\n",
       "C_id                 0\n",
       "Data                 0\n",
       "Título           84149\n",
       "C_Data               0\n",
       "C_Titulo             0\n",
       "Pais             15890\n",
       "C_Vistas             0\n",
       "Subscriptores       14\n",
       "No Videos            0\n",
       "Titulo           63989\n",
       "Categoria        10924\n",
       "Duracao          10924\n",
       "dtype: int64"
      ]
     },
     "execution_count": 52,
     "metadata": {},
     "output_type": "execute_result"
    }
   ],
   "source": [
    "# json_categories = drive.CreateFile({'id':'19UMS3-J6wu5rVT70UjTPj0GJvgDSemNi'}) \n",
    "# json_categories.GetContentFile('BR_category_id.json')  \n",
    "k = open(link+'BR_category_id.json').read()\n",
    "\n",
    "import re # Pacote Regex para trabalhar com expressões regulares\n",
    "\n",
    "Category_list = re.findall(r\"title\\\": \\\"(.*)\\\"\", k)\n",
    "Category_number = re.findall(r\"id\\\": \\\"(.*)\\\"\", k)\n",
    "categories = {Category_number[i]:Category_list[i] for i in range(len(Category_list))}\n",
    "categoriescount=[int(i) for i in categories.keys()]\n",
    "categories = {categoriescount[i]:Category_list[i] for i in range(len(Category_list))}\n",
    "type(categories)\n",
    "\n",
    "df_amostras['Categoria']=df_amostras['Categoria'].map(categories).fillna(df_amostras['Categoria'])\n",
    "\n",
    "df_amostras.isna().sum()"
   ]
  },
  {
   "cell_type": "code",
   "execution_count": 53,
   "metadata": {
    "colab": {
     "base_uri": "https://localhost:8080/"
    },
    "executionInfo": {
     "elapsed": 4,
     "status": "ok",
     "timestamp": 1670183034585,
     "user": {
      "displayName": "Brayan Mauricio Rodríguez Garzónn",
      "userId": "05435019562705070299"
     },
     "user_tz": 180
    },
    "id": "vZ7JR7oipIn3",
    "outputId": "a1424a12-ff1b-4134-d05c-70a899c1d84d"
   },
   "outputs": [
    {
     "data": {
      "text/plain": [
       "News & Politics         51605\n",
       "Entertainment           28240\n",
       "Sports                  18883\n",
       "Gaming                  10827\n",
       "People & Blogs           9812\n",
       "Music                    4406\n",
       "Comedy                   2849\n",
       "Film & Animation         2611\n",
       "Education                2334\n",
       "Science & Technology     1317\n",
       "Howto & Style            1282\n",
       "29.0                     1246\n",
       "Autos & Vehicles         1233\n",
       "Travel & Events           350\n",
       "Pets & Animals            211\n",
       "Movies                      8\n",
       "Name: Categoria, dtype: int64"
      ]
     },
     "execution_count": 53,
     "metadata": {},
     "output_type": "execute_result"
    }
   ],
   "source": [
    "df_amostras['Categoria'].value_counts()"
   ]
  },
  {
   "cell_type": "code",
   "execution_count": 54,
   "metadata": {
    "executionInfo": {
     "elapsed": 2150,
     "status": "ok",
     "timestamp": 1670183184498,
     "user": {
      "displayName": "Brayan Mauricio Rodríguez Garzónn",
      "userId": "05435019562705070299"
     },
     "user_tz": 180
    },
    "id": "5pzJtMo1pOex"
   },
   "outputs": [],
   "source": [
    "with open(link+'amostra_de_videos.csv', 'w') as f:\n",
    "  df_amostras.to_csv(f)"
   ]
  },
  {
   "cell_type": "code",
   "execution_count": null,
   "metadata": {
    "id": "HR24iNVbrNzW"
   },
   "outputs": [],
   "source": []
  }
 ],
 "metadata": {
  "colab": {
   "collapsed_sections": [
    "ON-r1M3m0tJP",
    "ptWVhH9OVFiQ",
    "sfvw2DBk2Ffn"
   ],
   "provenance": [],
   "toc_visible": true
  },
  "kernelspec": {
   "display_name": "Python 3 (ipykernel)",
   "language": "python",
   "name": "python3"
  },
  "language_info": {
   "codemirror_mode": {
    "name": "ipython",
    "version": 3
   },
   "file_extension": ".py",
   "mimetype": "text/x-python",
   "name": "python",
   "nbconvert_exporter": "python",
   "pygments_lexer": "ipython3",
   "version": "3.10.4"
  }
 },
 "nbformat": 4,
 "nbformat_minor": 4
}
